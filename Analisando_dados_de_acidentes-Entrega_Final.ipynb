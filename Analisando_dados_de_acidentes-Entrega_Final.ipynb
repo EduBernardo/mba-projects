{
  "nbformat": 4,
  "nbformat_minor": 0,
  "metadata": {
    "kernelspec": {
      "display_name": "Python 2",
      "language": "python",
      "name": "python2"
    },
    "language_info": {
      "codemirror_mode": {
        "name": "ipython",
        "version": 2
      },
      "file_extension": ".py",
      "mimetype": "text/x-python",
      "name": "python",
      "nbconvert_exporter": "python",
      "pygments_lexer": "ipython2",
      "version": "2.7.12"
    },
    "colab": {
      "name": "Eduardo Luiz Bernardo da Silva - ES_23 - Avaliação Final - Analisando dados de acidentes.ipynb",
      "provenance": [],
      "collapsed_sections": [],
      "include_colab_link": true
    }
  },
  "cells": [
    {
      "cell_type": "markdown",
      "metadata": {
        "id": "view-in-github",
        "colab_type": "text"
      },
      "source": [
        "<a href=\"https://colab.research.google.com/github/EduBernardo/mba-projects/blob/master/Analisando_dados_de_acidentes-Entrega_Final.ipynb\" target=\"_parent\"><img src=\"https://colab.research.google.com/assets/colab-badge.svg\" alt=\"Open In Colab\"/></a>"
      ]
    },
    {
      "cell_type": "code",
      "source": [
        "# Atividade Final Data Engineering - Big Data Analytics\n",
        "# Nome: Eduardo Luiz Bernardo da Silva     R.A: 2200568\n",
        "# Nome:     R.A:\n",
        "# Nome:     R.A:\n",
        "# Nome:     R.A:\n",
        "# Nome:     R.A:"
      ],
      "metadata": {
        "id": "DL3ndDwq7DOR"
      },
      "execution_count": null,
      "outputs": []
    },
    {
      "cell_type": "code",
      "metadata": {
        "id": "zPg_sbkyRPbU"
      },
      "source": [
        "!apt-get install openjdk-8-jdk-headless -qq > /dev/null\n",
        "!wget -q https://archive.apache.org/dist/spark/spark-2.4.4/spark-2.4.4-bin-hadoop2.7.tgz\n",
        "!tar xf spark-2.4.4-bin-hadoop2.7.tgz\n",
        "!pip install -q findspark"
      ],
      "execution_count": 85,
      "outputs": []
    },
    {
      "cell_type": "code",
      "metadata": {
        "id": "ypvJ-mC8Sv6t"
      },
      "source": [
        "import os\n",
        "os.environ[\"JAVA_HOME\"] = \"/usr/lib/jvm/java-8-openjdk-amd64\"\n",
        "os.environ[\"SPARK_HOME\"] = \"/content/spark-2.4.4-bin-hadoop2.7\"\n",
        " \n",
        "# tornar o pyspark \"importável\"\n",
        "import findspark\n",
        "findspark.init('spark-2.4.4-bin-hadoop2.7')\n",
        "\n",
        "from pyspark.sql import SparkSession\n",
        "spark = SparkSession.builder.master('local[*]').getOrCreate()"
      ],
      "execution_count": 86,
      "outputs": []
    },
    {
      "cell_type": "markdown",
      "metadata": {
        "id": "lecRuw9FROSC"
      },
      "source": [
        "## Avaliação final"
      ]
    },
    {
      "cell_type": "markdown",
      "source": [
        "# Exercício 1"
      ],
      "metadata": {
        "id": "QCK_v0bi6vzy"
      }
    },
    {
      "cell_type": "code",
      "source": [
        "# carregando arquivos da tabela de Boletins\n",
        "\n",
        "df_bol = spark.read.csv(\"si-bol-2019.csv\", sep=';', header=True, encoding = 'latin1', inferSchema=True)"
      ],
      "metadata": {
        "id": "grJcBDEcNjo7"
      },
      "execution_count": 87,
      "outputs": []
    },
    {
      "cell_type": "markdown",
      "source": [
        "Tabela boletins contém os seguintes campos:\n",
        "NUMERO_BOLETIM;\n",
        "DATA_HORA_BOLETIM;\n",
        "DATA_INCLUSAO;\n",
        "TIPO_ACIDENTE;\n",
        "DESC_TIPO_ACIDENTE;\n",
        "COD_TEMPO;\n",
        "DESC_TEMPO;\n",
        "COD_PAVIMENTO;\n",
        "PAVIMENTO;\n",
        "COD_REGIONAL;\n",
        "DESC_REGIONAL;\n",
        "ORIGEM_BOLETIM;\n",
        "LOCAL_SINALIZADO;\n",
        "VELOCIDADE_PERMITIDA;\n",
        "COORDENADA_X;\n",
        "COORDENADA_Y;\n",
        "HORA_INFORMADA;\n",
        "INDICADOR_FATALIDADE;\n",
        "VALOR_UPS;\n",
        "DESCRIÇÃO_UPS;\n",
        "DATA_ALTERACAO_SMSA;\n",
        "VALOR_UPS_ANTIGA;\n",
        "DESCRIÇÃO_UPS_ANTIGA;"
      ],
      "metadata": {
        "id": "L_ZwP8_2OWtW"
      }
    },
    {
      "cell_type": "code",
      "source": [
        "# carregando arquivos da tabela de Localização\n",
        "\n",
        "df_log = spark.read.csv(\"si-log-2019.csv\", sep=';', header=True, encoding = 'latin1', inferSchema=True)"
      ],
      "metadata": {
        "id": "YnMWLzoAKIqi"
      },
      "execution_count": 88,
      "outputs": []
    },
    {
      "cell_type": "markdown",
      "source": [
        "Tabela localização contém os seguintes campos:\n",
        "Nº_boletim;\n",
        "data_boletim;\n",
        " Nº_municipio;\n",
        "nome_municipio;\n",
        "seq_logradouros;\n",
        "Nº_logradouro;\n",
        "tipo_logradouro;\n",
        "nome_logradouro;\n",
        "tipo_logradouro_anterior;\n",
        "nome_logradouro_anterior;\n",
        "Nº_bairro;\n",
        "nome_bairro;\n",
        "tipo_bairro;\n",
        "descricao_tipo_bairro;\n",
        "Nº_imovel;\n",
        "Nº_imovel_proximo;\n"
      ],
      "metadata": {
        "id": "6T9vHJAAOhgC"
      }
    },
    {
      "cell_type": "code",
      "source": [
        "# carregando arquivos da tabela de Envolvidos\n",
        "\n",
        "df_env = spark.read.csv(\"si_env-2019.csv\", sep=';', header=True, encoding = 'latin1', inferSchema=True)"
      ],
      "metadata": {
        "id": "7ayQNZYPKgNT"
      },
      "execution_count": 89,
      "outputs": []
    },
    {
      "cell_type": "markdown",
      "source": [
        "Tabela envolvidos contém os seguintes campos:\n",
        "num_boletim;\n",
        "data_hora_boletim;\n",
        "Nº_envolvido;\n",
        "condutor;\n",
        "cod_severidade;\n",
        "desc_severidade;\n",
        "sexo;\n",
        "cinto_seguranca;\n",
        "Embreagues;\n",
        "Idade;\n",
        "nascimento;\n",
        "categoria_habilitacao;\n",
        "descricao_habilitacao;\n",
        "declaracao_obito;\n",
        "cod_severidade_antiga;\n",
        "especie_veiculo;\n",
        "pedestre;\n",
        "passageiro;"
      ],
      "metadata": {
        "id": "bH_Z2aAvPYmX"
      }
    },
    {
      "cell_type": "code",
      "source": [
        "# apresentando as tabelas\n",
        "df_bol.show(25)\n",
        "df_log.show(25)\n",
        "df_env.show(25)"
      ],
      "metadata": {
        "id": "o5bI_5QiPJ-d"
      },
      "execution_count": null,
      "outputs": []
    },
    {
      "cell_type": "markdown",
      "source": [
        "# Exercício 2"
      ],
      "metadata": {
        "id": "QzkZ6DGI6scM"
      }
    },
    {
      "cell_type": "code",
      "source": [
        "#Join entre tabela boletins e localização\n",
        "df_join_bol_log = df_bol.join(df_log, df_bol[' NUMERO_BOLETIM'] == df_log['Nº_boletim'], 'left')\n",
        "df_join_bol_log.show(10)"
      ],
      "metadata": {
        "id": "aoWJIo6ULZNI"
      },
      "execution_count": null,
      "outputs": []
    },
    {
      "cell_type": "code",
      "source": [
        "#Join entre tabela resultante do join anterior + tabela envolvidos\n",
        "df_join_total = df_join_bol_log.join(df_env, df_bol[' NUMERO_BOLETIM'] == df_env['num_boletim'], 'left')\n",
        "df_join_total.show(10)"
      ],
      "metadata": {
        "id": "prys1Ol4ctYX"
      },
      "execution_count": null,
      "outputs": []
    },
    {
      "cell_type": "code",
      "source": [
        "# Criando visão específica com os campos solicitados\n",
        "import pyspark.sql.functions as F\n",
        "\n",
        "df_base = df_join_total.groupby(' data_hora_boletim',' TIPO_ACIDENTE', ' DESC_TIPO_ACIDENTE',' DESC_TEMPO',' PAVIMENTO',' desc_severidade',' cinto_seguranca',\n",
        "                      ' Embreagues',' Idade',' sexo','especie_veiculo','nome_municipio','nome_bairro','tipo_logradouro','nome_logradouro').agg(F.sum(' Nº_envolvido').alias('total_envolvidos'))\n",
        "df_base.show(20,truncate=False)"
      ],
      "metadata": {
        "id": "VGSiedKadX9H"
      },
      "execution_count": null,
      "outputs": []
    },
    {
      "cell_type": "markdown",
      "source": [
        "# Exercício 3"
      ],
      "metadata": {
        "id": "5cmHkxRM6haY"
      }
    },
    {
      "cell_type": "code",
      "source": [
        "# Remover valores nulos\n",
        "from pyspark.sql.functions import col,when,ltrim\n",
        "\n",
        "df_base_limpo=df_base.select([when(col(c)=='',None).otherwise(col(c)).alias(c) for c in df_base.columns])\n",
        "\n",
        "df_base_limpo = df_base.fillna('especie_veiculo',\"Não se aplica\")\n",
        "\n",
        "# Removendo dados inválidos\n",
        "\n",
        "df_base_limpo = df_base.withColumn('especie_veiculo',\n",
        "                                 F.when(df_base['especie_veiculo'] == '', 'Não especificado'))\n",
        "\n",
        "df_base_limpo = df_base.withColumn(' sexo',\n",
        "                                 F.when(df_base[' sexo'] == 'F', 'Feminino') \\\n",
        "                                 .when(df_base[' sexo'] == 'M', 'Masculino') \\\n",
        "                                 .otherwise('Não especificado'))\n",
        "df_base = df_base_limpo\n",
        "df_base.show(400)"
      ],
      "metadata": {
        "id": "eUlyIA-6hQ9y"
      },
      "execution_count": null,
      "outputs": []
    },
    {
      "cell_type": "code",
      "source": [
        "# Validando o data type das colunas data_hora_boletim e especie_veiculo\n",
        "print(df_base.schema[' data_hora_boletim'].dataType)\n",
        "print(df_base.schema['especie_veiculo'].dataType)"
      ],
      "metadata": {
        "id": "3h_zmFGiTJtP"
      },
      "execution_count": null,
      "outputs": []
    },
    {
      "cell_type": "markdown",
      "source": [
        "# Exercício 4"
      ],
      "metadata": {
        "id": "RRiGGdvD6fYE"
      }
    },
    {
      "cell_type": "code",
      "source": [
        "# Consulta 1 - Número de acidentes por mês/ano\n",
        "from pyspark.sql.functions import *\n",
        "\n",
        "df_base_mes_ano = df_base.withColumn('mes_ano', substring(' data_hora_boletim', 4,7))\n",
        "df_acidentes_mes_ano = df_base_mes_ano.groupby('mes_ano').agg(F.count(' TIPO_ACIDENTE').alias('total_acidentes')).sort(col(\"mes_ano\").asc())\n",
        "df_acidentes_mes_ano.show(20,truncate=False)"
      ],
      "metadata": {
        "id": "_COm3dAxhdvp"
      },
      "execution_count": null,
      "outputs": []
    },
    {
      "cell_type": "code",
      "source": [
        "# Consulta 2 - Total de acidentes com vítima por bairro\n",
        "df_acidentes_vitimas_bairro_filtrado = df_base.filter(F.col(' DESC_TIPO_ACIDENTE').contains(\" COM VITIMA\"))\n",
        "df_acidentes_vitimas_bairro = df_acidentes_vitimas_bairro_filtrado.groupby('nome_bairro').agg(F.count(' TIPO_ACIDENTE').alias('total_acidentes'))\n",
        "df_acidentes_vitimas_bairro.show(20,truncate=False)"
      ],
      "metadata": {
        "id": "hmM3uLcWkKOe"
      },
      "execution_count": null,
      "outputs": []
    },
    {
      "cell_type": "code",
      "source": [
        "# Consulta 3 - Total de acidentes por tipo de pavimento e condição do tempo\n",
        "df_acidentes_pavimento_tempo = df_base.groupby(' PAVIMENTO', ' DESC_TEMPO').agg(F.count(' TIPO_ACIDENTE').alias('total_acidentes'))\n",
        "df_acidentes_pavimento_tempo.show(20,truncate=False)"
      ],
      "metadata": {
        "id": "f-ygr-nFkKsf"
      },
      "execution_count": null,
      "outputs": []
    },
    {
      "cell_type": "code",
      "source": [
        "# Consulta 4 - Total de pessoas acidentadas por tipo de veiculo e pavimento\n",
        "df_acidentes_veiculo_pavimento = df_base.groupby('especie_veiculo', ' PAVIMENTO').agg(F.count(' TIPO_ACIDENTE').alias('total_acidentes'))\n",
        "df_acidentes_veiculo_pavimento.show(20,truncate=False)"
      ],
      "metadata": {
        "id": "sKSOXtVRkLFb"
      },
      "execution_count": null,
      "outputs": []
    },
    {
      "cell_type": "markdown",
      "source": [
        "# Exercício 5"
      ],
      "metadata": {
        "id": "VUDxeHJW6kzu"
      }
    },
    {
      "cell_type": "markdown",
      "source": [
        "Gráficos da Consulta 1\n",
        "\n",
        "\n"
      ],
      "metadata": {
        "id": "9cvKGnhCyt6t"
      }
    },
    {
      "cell_type": "code",
      "source": [
        "# Convertendo em Pandas\n",
        "pandas_df_acidentes_mes_ano = df_acidentes_mes_ano.toPandas()"
      ],
      "metadata": {
        "id": "Q8zUnjN8yC8O"
      },
      "execution_count": null,
      "outputs": []
    },
    {
      "cell_type": "code",
      "source": [
        "# Gráfico Pizza\n",
        "pandas_df_acidentes_mes_ano.groupby('mes_ano').total_acidentes.sum().plot.pie(figsize=(8,8))"
      ],
      "metadata": {
        "id": "kcCjJMmR1hXn"
      },
      "execution_count": null,
      "outputs": []
    },
    {
      "cell_type": "code",
      "source": [
        "# Gráfico Barras\n",
        "pandas_df_acidentes_mes_ano.groupby(['mes_ano']).total_acidentes.sum().plot.barh(figsize=(8,8))"
      ],
      "metadata": {
        "id": "72ToLdrf1BPo"
      },
      "execution_count": null,
      "outputs": []
    },
    {
      "cell_type": "markdown",
      "source": [
        "Gráficos da Consulta 3\n"
      ],
      "metadata": {
        "id": "7ONXSOdP11Xp"
      }
    },
    {
      "cell_type": "code",
      "source": [
        "# Convertendo em Pandas\n",
        "pandas_df_acidentes_pavimento_tempo = df_acidentes_pavimento_tempo.toPandas()"
      ],
      "metadata": {
        "id": "NpPd_2qN1-u-"
      },
      "execution_count": 115,
      "outputs": []
    },
    {
      "cell_type": "code",
      "source": [
        "# Gráfico Barras\n",
        "pandas_df_acidentes_pavimento_tempo.groupby([' PAVIMENTO', ' DESC_TEMPO']).total_acidentes.sum().unstack().plot.barh(figsize=(8,8))"
      ],
      "metadata": {
        "id": "2rsdR6EL2CAc"
      },
      "execution_count": null,
      "outputs": []
    }
  ]
}