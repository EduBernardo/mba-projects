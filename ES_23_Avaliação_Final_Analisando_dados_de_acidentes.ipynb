{
  "nbformat": 4,
  "nbformat_minor": 0,
  "metadata": {
    "kernelspec": {
      "display_name": "Python 2",
      "language": "python",
      "name": "python2"
    },
    "language_info": {
      "codemirror_mode": {
        "name": "ipython",
        "version": 2
      },
      "file_extension": ".py",
      "mimetype": "text/x-python",
      "name": "python",
      "nbconvert_exporter": "python",
      "pygments_lexer": "ipython2",
      "version": "2.7.12"
    },
    "colab": {
      "name": "Eduardo Luiz Bernardo da Silva - ES_23 - Avaliação Final - Analisando dados de acidentes.ipynb",
      "provenance": [],
      "collapsed_sections": [],
      "include_colab_link": true
    }
  },
  "cells": [
    {
      "cell_type": "markdown",
      "metadata": {
        "id": "view-in-github",
        "colab_type": "text"
      },
      "source": [
        "<a href=\"https://colab.research.google.com/github/EduBernardo/mba-projects/blob/master/ES_23_Avalia%C3%A7%C3%A3o_Final_Analisando_dados_de_acidentes.ipynb\" target=\"_parent\"><img src=\"https://colab.research.google.com/assets/colab-badge.svg\" alt=\"Open In Colab\"/></a>"
      ]
    },
    {
      "cell_type": "code",
      "metadata": {
        "id": "zPg_sbkyRPbU"
      },
      "source": [
        "!apt-get install openjdk-8-jdk-headless -qq > /dev/null\n",
        "!wget -q https://archive.apache.org/dist/spark/spark-2.4.4/spark-2.4.4-bin-hadoop2.7.tgz\n",
        "!tar xf spark-2.4.4-bin-hadoop2.7.tgz\n",
        "!pip install -q findspark"
      ],
      "execution_count": 1,
      "outputs": []
    },
    {
      "cell_type": "code",
      "metadata": {
        "id": "ypvJ-mC8Sv6t"
      },
      "source": [
        "import os\n",
        "os.environ[\"JAVA_HOME\"] = \"/usr/lib/jvm/java-8-openjdk-amd64\"\n",
        "os.environ[\"SPARK_HOME\"] = \"/content/spark-2.4.4-bin-hadoop2.7\"\n",
        " \n",
        "# tornar o pyspark \"importável\"\n",
        "import findspark\n",
        "findspark.init('spark-2.4.4-bin-hadoop2.7')\n",
        "\n",
        "from pyspark.sql import SparkSession\n",
        "spark = SparkSession.builder.master('local[*]').getOrCreate()"
      ],
      "execution_count": 2,
      "outputs": []
    },
    {
      "cell_type": "markdown",
      "metadata": {
        "id": "lecRuw9FROSC"
      },
      "source": [
        "## Avaliação final"
      ]
    },
    {
      "cell_type": "markdown",
      "metadata": {
        "id": "Z5fuZrqjhocL"
      },
      "source": [
        "## 1. Usando o Spark SQL, carregue os arquivos a seguir:\n",
        "\n",
        "+ si-bol-2019.csv - Boletins de ocorrência de acidentes automobilisticos  - https://ckan.pbh.gov.br/dataset/6511cb66-3635-4560-95cc-d0c39aafb547/resource/ab6db535-b706-4e7b-9fdc-3bc1e823401e/download/si-bol-2019.csv\n",
        "\n",
        "+ si_env-2019.csv - Dados sobre os envolvidos nos acidentes - https://ckan.pbh.gov.br/dataset/b127c1d8-9e1b-4820-884a-8bd8129ba5e3/resource/903286ca-b77f-44ad-aa6a-958aa018c33f/download/si_env-2019.csv\n",
        "+ si_log-2019.csv - Dados sobre a localização dos acidentes - https://ckan.pbh.gov.br/dataset/a07412b3-8371-402a-8ca6-68a518bf2403/resource/ad490dd1-7af5-4868-b35f-9471f15be744/download/si-log-2019.csv\n",
        "\n",
        "## 2. Crie uma tabela contendo os campos:\n",
        "\n",
        "+ data_hora \n",
        "+ tipo_acidente \n",
        "+ condicao_tempo \n",
        "+ pavimento\n",
        "+ severidade \n",
        "+ cinto_seguranca \n",
        "+ embreagues \n",
        "+ idade \n",
        "+ sexo\n",
        "+ especie_veiculo  \n",
        "+ nome_municipio\n",
        "+ nome_bairro\n",
        "+ tipo_logradouro \n",
        "+ nome_logradouro\n",
        "+ total_envolvidos\n",
        "\n",
        "## 3. Realize a limpeza dos dados, removendo: \n",
        "+ valores nulos\n",
        "+ dados inválidos\n",
        "\n",
        "## 4. Crie as seguintes consultas: \n",
        "\n",
        "1. Número de acidentes por mês/ano\n",
        "2. Total de acidentes com vítima por bairro;\n",
        "3. Total de acidentes por tipo de pavimento e condição do tempo;\n",
        "4. Total de pessoas acidentadas por tipo de veiculo e pavimento;\n",
        "\n",
        "## 5. Utilizando as biblioteca pandas e matplotlib, exiba o resultado dos itens 1 e 3 em forma de gráficos:\n",
        "\n"
      ]
    },
    {
      "cell_type": "code",
      "source": [
        "# carregando arquivos da tabela de Boletins\n",
        "\n",
        "df_bol = spark.read.csv(\"si-bol-2019.csv\", sep=';', header=True, encoding = 'latin1', inferSchema=True)"
      ],
      "metadata": {
        "id": "grJcBDEcNjo7"
      },
      "execution_count": 4,
      "outputs": []
    },
    {
      "cell_type": "markdown",
      "source": [
        "Tabela boletins contém os seguintes campos:\n",
        "NUMERO_BOLETIM;\n",
        "DATA_HORA_BOLETIM;\n",
        "DATA_INCLUSAO;\n",
        "TIPO_ACIDENTE;\n",
        "DESC_TIPO_ACIDENTE;\n",
        "COD_TEMPO;\n",
        "DESC_TEMPO;\n",
        "COD_PAVIMENTO;\n",
        "PAVIMENTO;\n",
        "COD_REGIONAL;\n",
        "DESC_REGIONAL;\n",
        "ORIGEM_BOLETIM;\n",
        "LOCAL_SINALIZADO;\n",
        "VELOCIDADE_PERMITIDA;\n",
        "COORDENADA_X;\n",
        "COORDENADA_Y;\n",
        "HORA_INFORMADA;\n",
        "INDICADOR_FATALIDADE;\n",
        "VALOR_UPS;\n",
        "DESCRIÇÃO_UPS;\n",
        "DATA_ALTERACAO_SMSA;\n",
        "VALOR_UPS_ANTIGA;\n",
        "DESCRIÇÃO_UPS_ANTIGA;"
      ],
      "metadata": {
        "id": "L_ZwP8_2OWtW"
      }
    },
    {
      "cell_type": "code",
      "source": [
        "# carregando arquivos da tabela de Localização\n",
        "\n",
        "df_log = spark.read.csv(\"si-log-2019.csv\", sep=';', header=True, encoding = 'latin1', inferSchema=True)"
      ],
      "metadata": {
        "id": "YnMWLzoAKIqi"
      },
      "execution_count": 5,
      "outputs": []
    },
    {
      "cell_type": "markdown",
      "source": [
        "Tabela localização contém os seguintes campos:\n",
        "Nº_boletim;\n",
        "data_boletim;\n",
        " Nº_municipio;\n",
        "nome_municipio;\n",
        "seq_logradouros;\n",
        "Nº_logradouro;\n",
        "tipo_logradouro;\n",
        "nome_logradouro;\n",
        "tipo_logradouro_anterior;\n",
        "nome_logradouro_anterior;\n",
        "Nº_bairro;\n",
        "nome_bairro;\n",
        "tipo_bairro;\n",
        "descricao_tipo_bairro;\n",
        "Nº_imovel;\n",
        "Nº_imovel_proximo;\n"
      ],
      "metadata": {
        "id": "6T9vHJAAOhgC"
      }
    },
    {
      "cell_type": "code",
      "source": [
        "# carregando arquivos da tabela de Envolvidos\n",
        "\n",
        "df_env = spark.read.csv(\"si_env-2019.csv\", sep=';', header=True, encoding = 'latin1', inferSchema=True)"
      ],
      "metadata": {
        "id": "7ayQNZYPKgNT"
      },
      "execution_count": 6,
      "outputs": []
    },
    {
      "cell_type": "markdown",
      "source": [
        "Tabela envolvidos contém os seguintes campos:\n",
        "num_boletim;\n",
        "data_hora_boletim;\n",
        "Nº_envolvido;\n",
        "condutor;\n",
        "cod_severidade;\n",
        "desc_severidade;\n",
        "sexo;\n",
        "cinto_seguranca;\n",
        "Embreagues;\n",
        "Idade;\n",
        "nascimento;\n",
        "categoria_habilitacao;\n",
        "descricao_habilitacao;\n",
        "declaracao_obito;\n",
        "cod_severidade_antiga;\n",
        "especie_veiculo;\n",
        "pedestre;\n",
        "passageiro;"
      ],
      "metadata": {
        "id": "bH_Z2aAvPYmX"
      }
    },
    {
      "cell_type": "code",
      "source": [
        "# apresentando as tabelas\n",
        "df_bol.show(25)\n",
        "df_log.show(25)\n",
        "df_env.show(25)"
      ],
      "metadata": {
        "id": "o5bI_5QiPJ-d",
        "outputId": "dd58dbaa-7521-472f-e52a-de9c19dfd0e2",
        "colab": {
          "base_uri": "https://localhost:8080/"
        }
      },
      "execution_count": 15,
      "outputs": [
        {
          "output_type": "stream",
          "name": "stdout",
          "text": [
            "+------------------+------------------+----------------+--------------+--------------------+----------+---------------+--------------+---------------+-------------+---------------+---------------+-----------------+---------------------+-------------+-------------+---------------+---------------------+----------+--------------+--------------------+-----------------+---------------------+\n",
            "|    NUMERO_BOLETIM| DATA HORA_BOLETIM|   DATA_INCLUSAO| TIPO_ACIDENTE|  DESC_TIPO_ACIDENTE| COD_TEMPO|     DESC_TEMPO| COD_PAVIMENTO|      PAVIMENTO| COD_REGIONAL|  DESC_REGIONAL| ORIGEM_BOLETIM| LOCAL_SINALIZADO| VELOCIDADE_PERMITIDA| COORDENADA_X| COORDENADA_Y| HORA_INFORMADA| INDICADOR_FATALIDADE| VALOR_UPS| DESCRIÇÃO_UPS| DATA_ALTERACAO_SMSA| VALOR_UPS_ANTIGA| DESCRIÇÃO_UPS_ANTIGA|\n",
            "+------------------+------------------+----------------+--------------+--------------------+----------+---------------+--------------+---------------+-------------+---------------+---------------+-----------------+---------------------+-------------+-------------+---------------+---------------------+----------+--------------+--------------------+-----------------+---------------------+\n",
            "|2019-000009538-001|  01/01/2019 01:40|01/01/2019 02:31|        H01002|ABALROAMENTO COM ...|         1|BOM            |             1|ASFALTO        |           19|CENTRO-SUL     |POLICIA MILITAR|              NÃO|                    0|    611366.53|   7795449.66|            SIM|                  NÃO|         0| NÃO INFORMADO|          00/00/0000|                0|        NÃO INFORMADO|\n",
            "|2019-000011370-001|  01/01/2019 02:46|01/01/2019 07:25|        H06002|ATROPELAMENTO DE ...|         0|NAO INFORMADO  |             0|NAO INFORMADO  |           25|PAMPULHA       |POLICIA MILITAR|              NÃO|                    0|     608296.3|    7804869.4|            SIM|                  NÃO|         0| NÃO INFORMADO|          00/00/0000|                0|        NÃO INFORMADO|\n",
            "|2019-000013510-001|  01/01/2019 02:19|01/01/2019 03:24|        H01002|ABALROAMENTO COM ...|         0|NAO INFORMADO  |             0|NAO INFORMADO  |           19|CENTRO-SUL     |POLICIA MILITAR|              NÃO|                    0|    611684.46|   7796235.17|            SIM|                  NÃO|         0| NÃO INFORMADO|          00/00/0000|                0|        NÃO INFORMADO|\n",
            "|2019-000017471-001|  01/01/2019 03:18|01/01/2019 04:25|        H01002|ABALROAMENTO COM ...|         0|NAO INFORMADO  |             0|NAO INFORMADO  |           20|LESTE          |POLICIA MILITAR|              NÃO|                    0|    614254.84|   7796496.29|            SIM|                  NÃO|         0| NÃO INFORMADO|          00/00/0000|                0|        NÃO INFORMADO|\n",
            "|2019-000020120-001|  01/01/2019 04:26|01/01/2019 05:06|        H01002|ABALROAMENTO COM ...|         4|NUBLADO        |             1|ASFALTO        |           20|LESTE          |POLICIA MILITAR|              NÃO|                    0|    612733.57|   7799405.68|            SIM|                  NÃO|         0| NÃO INFORMADO|          00/00/0000|                0|        NÃO INFORMADO|\n",
            "|2019-000028233-001|  01/01/2019 07:12|01/01/2019 08:00|        H08002|CHOQUE MECANICO C...|         2|CHUVA          |             1|ASFALTO        |           23|NORTE          |POLICIA MILITAR|              NÃO|                    0|    611707.91|    7803517.8|            SIM|                  NÃO|         0| NÃO INFORMADO|          00/00/0000|                0|        NÃO INFORMADO|\n",
            "|2019-000030323-001|  01/01/2019 02:00|01/01/2019 08:46|        H01002|ABALROAMENTO COM ...|         2|CHUVA          |             1|ASFALTO        |           18|BARREIRO       |POLICIA MILITAR|              NÃO|                    0|    603620.24|   7787305.95|            SIM|                  NÃO|         0| NÃO INFORMADO|          00/00/0000|                0|        NÃO INFORMADO|\n",
            "|2019-000030611-001|  01/01/2019 06:30|01/01/2019 08:51|        H01002|ABALROAMENTO COM ...|         0|NAO INFORMADO  |             0|NAO INFORMADO  |           22|NOROESTE       |POLICIA MILITAR|              NÃO|                    0|    607441.02|    7797479.9|            SIM|                  NÃO|         0| NÃO INFORMADO|          00/00/0000|                0|        NÃO INFORMADO|\n",
            "|2019-000033132-001|  01/01/2019 08:17|01/01/2019 09:47|        H08002|CHOQUE MECANICO C...|         0|NAO INFORMADO  |             0|NAO INFORMADO  |           22|NOROESTE       |POLICIA MILITAR|              NÃO|                    0|    608450.35|   7797938.04|            SIM|                  NÃO|         0| NÃO INFORMADO|          00/00/0000|                0|        NÃO INFORMADO|\n",
            "|2019-000042096-001|  01/01/2019 11:11|01/01/2019 12:22|        H08002|CHOQUE MECANICO C...|         0|NAO INFORMADO  |             0|NAO INFORMADO  |           18|BARREIRO       |POLICIA MILITAR|              NÃO|                    0|     603117.0|   7789361.29|            SIM|                  NÃO|         0| NÃO INFORMADO|          00/00/0000|                0|        NÃO INFORMADO|\n",
            "|2019-000068523-001|  01/01/2019 16:56|01/01/2019 17:34|        H01002|ABALROAMENTO COM ...|         1|BOM            |             1|ASFALTO        |           22|NOROESTE       |POLICIA MILITAR|              NÃO|                    0|    609447.12|   7800419.29|            SIM|                  NÃO|         0| NÃO INFORMADO|          00/00/0000|                0|        NÃO INFORMADO|\n",
            "|2019-000078033-001|  01/01/2019 18:09|01/01/2019 19:02|        H01002|ABALROAMENTO COM ...|         1|BOM            |             1|ASFALTO        |           19|CENTRO-SUL     |POLICIA MILITAR|              NÃO|                    0|    611086.36|   7797118.61|            SIM|                  NÃO|         0| NÃO INFORMADO|          00/00/0000|                0|        NÃO INFORMADO|\n",
            "|2019-000080688-001|  01/01/2019 18:47|01/01/2019 19:27|        H08002|CHOQUE MECANICO C...|         1|BOM            |             1|ASFALTO        |           24|OESTE          |POLICIA MILITAR|              NÃO|                    0|    604768.27|   7795070.34|            SIM|                  NÃO|         0| NÃO INFORMADO|          00/00/0000|                0|        NÃO INFORMADO|\n",
            "|2019-000084238-001|  01/01/2019 19:12|01/01/2019 20:04|        H04000|QUEDA DE PESSOA D...|         1|BOM            |             1|ASFALTO        |           18|BARREIRO       |POLICIA MILITAR|              NÃO|                    0|    600959.75|   7789205.25|            SIM|                  NÃO|         0| NÃO INFORMADO|          00/00/0000|                0|        NÃO INFORMADO|\n",
            "|2019-000091803-001|  01/01/2019 20:29|01/01/2019 21:30|        H01002|ABALROAMENTO COM ...|         1|BOM            |             1|ASFALTO        |           26|VENDA NOVA     |POLICIA MILITAR|              NÃO|                    0|    609682.42|   7809885.36|            SIM|                  NÃO|         0| NÃO INFORMADO|          00/00/0000|                0|        NÃO INFORMADO|\n",
            "|2019-000096546-001|  01/01/2019 21:10|01/01/2019 22:15|        H06002|ATROPELAMENTO DE ...|         0|NAO INFORMADO  |             0|NAO INFORMADO  |           21|NORDESTE       |POLICIA MILITAR|              NÃO|                    0|    616705.34|   7804640.18|            SIM|                  NÃO|         0| NÃO INFORMADO|          00/00/0000|                0|        NÃO INFORMADO|\n",
            "|2019-000100286-001|  01/01/2019 22:30|01/01/2019 22:49|        H01002|ABALROAMENTO COM ...|         1|BOM            |             1|ASFALTO        |            0|               |POLICIA MILITAR|              NÃO|                    0|          0.0|          0.0|            SIM|                  NÃO|         0| NÃO INFORMADO|          00/00/0000|                0|        NÃO INFORMADO|\n",
            "|2019-000123419-001|  02/01/2019 05:39|02/01/2019 07:04|        H09002|COLISAO DE VEICUL...|         1|BOM            |             1|ASFALTO        |           24|OESTE          |POLICIA MILITAR|              NÃO|                    0|          0.0|          0.0|            SIM|                  NÃO|         0| NÃO INFORMADO|          00/00/0000|                0|        NÃO INFORMADO|\n",
            "|2019-000123960-001|  02/01/2019 06:08|02/01/2019 07:15|        H08002|CHOQUE MECANICO C...|         1|BOM            |             1|ASFALTO        |           25|PAMPULHA       |POLICIA MILITAR|              NÃO|                    0|    606467.74|   7806037.96|            SIM|                  NÃO|         0| NÃO INFORMADO|          00/00/0000|                0|        NÃO INFORMADO|\n",
            "|2019-000127523-001|  02/01/2019 07:52|02/01/2019 08:20|        H08002|CHOQUE MECANICO C...|         0|NAO INFORMADO  |             0|NAO INFORMADO  |           21|NORDESTE       |POLICIA MILITAR|              NÃO|                    0|    609907.21|   7799966.24|            SIM|                  NÃO|         0| NÃO INFORMADO|          00/00/0000|                0|        NÃO INFORMADO|\n",
            "|2019-000131337-001|  02/01/2019 08:31|02/01/2019 09:13|        H01002|ABALROAMENTO COM ...|         0|NAO INFORMADO  |             0|NAO INFORMADO  |           20|LESTE          |POLICIA MILITAR|              NÃO|                    0|    611409.29|   7798697.57|            SIM|                  NÃO|         0| NÃO INFORMADO|          00/00/0000|                0|        NÃO INFORMADO|\n",
            "|2019-000132069-001|  02/01/2019 08:24|02/01/2019 09:02|        H08002|CHOQUE MECANICO C...|         1|BOM            |             1|ASFALTO        |           25|PAMPULHA       |POLICIA MILITAR|              NÃO|                    0|    607103.72|   7801932.47|            SIM|                  NÃO|         0| NÃO INFORMADO|          00/00/0000|                0|        NÃO INFORMADO|\n",
            "|2019-000150844-001|  02/01/2019 10:11|02/01/2019 11:07|        H01002|ABALROAMENTO COM ...|         0|NAO INFORMADO  |             0|NAO INFORMADO  |           19|CENTRO-SUL     |POLICIA MILITAR|              NÃO|                    0|    611469.35|   7794124.51|            SIM|                  NÃO|         0| NÃO INFORMADO|          00/00/0000|                0|        NÃO INFORMADO|\n",
            "|2019-026818107-001|  07/06/2019 13:08|07/06/2019 14:11|        H08002|CHOQUE MECANICO C...|         0|NAO INFORMADO  |             0|NAO INFORMADO  |           24|OESTE          |POLICIA MILITAR|              NÃO|                    0|    605630.26|   7792377.44|            SIM|                  NÃO|         0| NÃO INFORMADO|          00/00/0000|                0|        NÃO INFORMADO|\n",
            "|2019-026820448-001|  23/05/2019 05:45|07/06/2019 14:20|        H06002|ATROPELAMENTO DE ...|         0|NAO INFORMADO  |             0|NAO INFORMADO  |           21|NORDESTE       |POLICIA CIVIL  |              NÃO|                    0|          0.0|          0.0|            SIM|                  NÃO|         0| NÃO INFORMADO|          00/00/0000|                0|        NÃO INFORMADO|\n",
            "+------------------+------------------+----------------+--------------+--------------------+----------+---------------+--------------+---------------+-------------+---------------+---------------+-----------------+---------------------+-------------+-------------+---------------+---------------------+----------+--------------+--------------------+-----------------+---------------------+\n",
            "only showing top 25 rows\n",
            "\n",
            "+------------------+----------------+-------------+--------------------+---------------+-------------+---------------+--------------------+------------------------+------------------------+---------+--------------------+-----------+---------------------+---------+-----------------+\n",
            "|        Nº_boletim|    data_boletim| Nº_municipio|      nome_municipio|seq_logradouros|Nº_logradouro|tipo_logradouro|     nome_logradouro|tipo_logradouro_anterior|nome_logradouro_anterior|Nº_bairro|         nome_bairro|tipo_bairro|descricao_tipo_bairro|Nº_imovel|Nº_imovel_proximo|\n",
            "+------------------+----------------+-------------+--------------------+---------------+-------------+---------------+--------------------+------------------------+------------------------+---------+--------------------+-----------+---------------------+---------+-----------------+\n",
            "|2019-049379035-001|09/10/2019 06:46|            1|BELO HORIZONTE   ...|              1|       117712|            RUA|JOAO ARANTES     ...|                     RUA|    CINQUENTA E UM   ...|      645|CIDADE NOVA      ...|         B | BAIRRO           ...|        0|                0|\n",
            "|2019-054073526-001|04/11/2019 06:19|            1|BELO HORIZONTE   ...|              1|       116606|            RUA|SUDAO            ...|                     RUA|    UM               ...|      634|CANAA            ...|         B | BAIRRO           ...|      234|                0|\n",
            "|2019-001886486-001|13/01/2019 16:11|            1|BELO HORIZONTE   ...|              2|       116791|            RUA|MARIA VAZ DE MELO...|                     RUA|    TRES             ...|      662|DONA CLARA       ...|         B | BAIRRO           ...|        0|                0|\n",
            "|2019-011110287-001|10/03/2019 00:37|            1|BELO HORIZONTE   ...|              1|       116892|            RUA|AGENOR JOSE DOS A...|                     RUA|    F                ...|      763|SANTA CRUZ       ...|         B | BAIRRO           ...|        0|                0|\n",
            "|2019-003120207-001|21/01/2019 12:00|            1|BELO HORIZONTE   ...|              1|       117044|            RUA|CONTORNO         ...|                     RUA|    DO CONTORNO      ...|      684|GLORIA           ...|         B | BAIRRO           ...|        0|                0|\n",
            "|2019-049508784-001|09/10/2019 17:46|            1|BELO HORIZONTE   ...|              2|       117044|            RUA|CONTORNO         ...|                     RUA|    DO CONTORNO      ...|      617|BARRO PRETO      ...|         B | BAIRRO           ...|        0|                0|\n",
            "|2019-027334450-001|10/06/2019 16:26|            1|BELO HORIZONTE   ...|              1|       117044|            RUA|CONTORNO         ...|                     RUA|    DO CONTORNO      ...|      740|PALMARES         ...|         B | BAIRRO           ...|      179|                0|\n",
            "|2019-005623066-001|05/02/2019 17:42|            1|BELO HORIZONTE   ...|              2|       117044|            RUA|CONTORNO         ...|                     RUA|    DO CONTORNO      ...|      740|PALMARES         ...|         B | BAIRRO           ...|        0|                0|\n",
            "|2019-005623066-001|05/02/2019 17:42|            1|BELO HORIZONTE   ...|              1|       117057|            RUA|JORGE ANGEL LIVRA...|                     RUA|    TRINTA E DOIS    ...|      740|PALMARES         ...|         B | BAIRRO           ...|        0|                0|\n",
            "|2019-028097298-001|14/06/2019 13:46|            1|BELO HORIZONTE   ...|              2|       116054|            RUA|DOUTOR JOAO MIRAN...|                     RUA|    QUARENTA E QUATRO...|      662|DONA CLARA       ...|         B | BAIRRO           ...|        0|                0|\n",
            "|2019-005418779-001|04/02/2019 09:05|            1|BELO HORIZONTE   ...|              2|       116054|            RUA|DOUTOR JOAO MIRAN...|                     RUA|    QUARENTA E QUATRO...|      662|DONA CLARA       ...|         B | BAIRRO           ...|        0|                0|\n",
            "|2019-015936846-001|06/04/2019 15:12|            1|BELO HORIZONTE   ...|              2|       116054|            RUA|DOUTOR JOAO MIRAN...|                     RUA|    QUARENTA E QUATRO...|      662|DONA CLARA       ...|         B | BAIRRO           ...|        6|                0|\n",
            "|2019-019386950-001|24/04/2019 12:20|            1|BELO HORIZONTE   ...|              1|       116101|            AVE|SEBASTIAO DE BRIT...|                     AVE|    UM               ...|      773|SANTA ROSA       ...|         B | BAIRRO           ...|      300|                0|\n",
            "|2019-019549510-002|27/04/2019 03:33|            1|BELO HORIZONTE   ...|              2|       116101|            AVE|SEBASTIAO DE BRIT...|                     AVE|    UM               ...|      773|SANTA ROSA       ...|         B | BAIRRO           ...|        0|                0|\n",
            "|2019-019942463-001|29/04/2019 17:08|            1|BELO HORIZONTE   ...|              1|       116101|            AVE|SEBASTIAO DE BRIT...|                     AVE|    UM               ...|      773|SANTA ROSA       ...|         B | BAIRRO           ...|      388|                0|\n",
            "|2019-001308815-001|09/01/2019 18:42|            1|BELO HORIZONTE   ...|              2|       116101|            AVE|SEBASTIAO DE BRIT...|                     AVE|    UM               ...|      773|SANTA ROSA       ...|         B | BAIRRO           ...|        0|                0|\n",
            "|2019-001886486-001|13/01/2019 16:11|            1|BELO HORIZONTE   ...|              1|       116101|            AVE|SEBASTIAO DE BRIT...|                     AVE|    UM               ...|      773|SANTA ROSA       ...|         B | BAIRRO           ...|        0|                0|\n",
            "|2019-057942446-001|25/11/2019 14:23|            1|BELO HORIZONTE   ...|              1|       116101|            AVE|SEBASTIAO DE BRIT...|                     AVE|    UM               ...|      773|SANTA ROSA       ...|         B | BAIRRO           ...|        0|                0|\n",
            "|2019-052215258-001|23/10/2019 17:40|            1|BELO HORIZONTE   ...|              1|       116101|            AVE|SEBASTIAO DE BRIT...|                     AVE|    UM               ...|      773|SANTA ROSA       ...|         B | BAIRRO           ...|      300|                0|\n",
            "|2020-001018081-001|04/11/2019 16:00|            1|BELO HORIZONTE   ...|              1|       116101|            AVE|SEBASTIAO DE BRIT...|                     AVE|    UM               ...|      773|SANTA ROSA       ...|         B | BAIRRO           ...|      100|                0|\n",
            "|2019-023221756-001|18/05/2019 11:09|            1|BELO HORIZONTE   ...|              1|       116101|            AVE|SEBASTIAO DE BRIT...|                     AVE|    UM               ...|      662|DONA CLARA       ...|         B | BAIRRO           ...|        0|                0|\n",
            "|2019-028795920-001|18/06/2019 14:42|            1|BELO HORIZONTE   ...|              1|       116101|            AVE|SEBASTIAO DE BRIT...|                     AVE|    UM               ...|      662|DONA CLARA       ...|         B | BAIRRO           ...|        0|                0|\n",
            "|2019-023876466-001|22/05/2019 09:22|            1|BELO HORIZONTE   ...|              1|       116101|            AVE|SEBASTIAO DE BRIT...|                     AVE|    UM               ...|      662|DONA CLARA       ...|         B | BAIRRO           ...|        0|                0|\n",
            "|2019-043577821-001|07/09/2019 17:59|            1|BELO HORIZONTE   ...|              1|       116101|            AVE|SEBASTIAO DE BRIT...|                     AVE|    UM               ...|      662|DONA CLARA       ...|         B | BAIRRO           ...|        0|                0|\n",
            "|2019-044832197-001|14/09/2019 09:06|            1|BELO HORIZONTE   ...|              1|       116101|            AVE|SEBASTIAO DE BRIT...|                     AVE|    UM               ...|      662|DONA CLARA       ...|         B | BAIRRO           ...|        0|                0|\n",
            "+------------------+----------------+-------------+--------------------+---------------+-------------+---------------+--------------------+------------------------+------------------------+---------+--------------------+-----------+---------------------+---------+-----------------+\n",
            "only showing top 25 rows\n",
            "\n",
            "+------------------+------------------+-------------+---------+---------------+----------------+-----+----------------+-------------+------+-----------+----------------------+----------------------+-----------------+----------------------+--------------------+---------+-----------+\n",
            "|       num_boletim| data_hora_boletim| Nº_envolvido| condutor| cod_severidade| desc_severidade| sexo| cinto_seguranca|   Embreagues| Idade| nascimento| categoria_habilitacao| descricao_habilitacao| declaracao_obito| cod_severidade_antiga|     especie_veiculo| pedestre| passageiro|\n",
            "+------------------+------------------+-------------+---------+---------------+----------------+-----+----------------+-------------+------+-----------+----------------------+----------------------+-----------------+----------------------+--------------------+---------+-----------+\n",
            "|2019-007782522-001|  18/02/2019 19:24|            2|        S|              1| NAO FATAL      |    M|             SIM|          NÃO|    32| 02/05/1986|                   AB |  HABILITADO NAS CA...|                0|                     0|MOTOCICLETA      ...|        N|          N|\n",
            "|2019-007785539-001|  18/02/2019 19:53|            1|        S|              3| SEM FERIMENTOS |    M|             SIM|          NÃO|    30| 25/11/1988|                   AB |  HABILITADO NAS CA...|                0|                     0|AUTOMOVEL        ...|        N|          N|\n",
            "|2019-007785539-001|  18/02/2019 19:53|            2|        N|              1| NAO FATAL      |    F|             SIM|          NÃO|    20| 18/02/1999|                      |                   ...|                0|                     0|AUTOMOVEL        ...|        N|          S|\n",
            "|2019-007785539-001|  18/02/2019 19:53|            3|        S|              3| SEM FERIMENTOS |    F|             SIM|          NÃO|    20| 17/08/1998|                   N  |  NAO INFORMADO    ...|                0|                     0|AUTOMOVEL        ...|        N|          N|\n",
            "|2019-007796448-001|  18/02/2019 21:16|            1|        S|              1| NAO FATAL      |    M|             SIM|          NÃO|    37| 23/11/1981|                   AB |  HABILITADO NAS CA...|                0|                     0|MOTOCICLETA      ...|        N|          N|\n",
            "|2019-007796448-001|  18/02/2019 21:16|            2|        S|              3| SEM FERIMENTOS |    M|             SIM|          NÃO|    55| 27/07/1963|                   B  |  VEICULOS MOTOR. C...|                0|                     0|AUTOMOVEL        ...|        N|          N|\n",
            "|2019-007819262-001|  19/02/2019 01:30|            1|        S|              1| NAO FATAL      |    M|             SIM|          NÃO|    25| 31/05/1993|                   IN |  INABILITADO      ...|                0|                     0|AUTOMOVEL        ...|        N|          N|\n",
            "|2019-007831003-001|  19/02/2019 07:00|            1|        S|              3| SEM FERIMENTOS |    M|             SIM|          NÃO|    47| 16/04/1971|                   B  |  VEICULOS MOTOR. C...|                0|                     0|AUTOMOVEL        ...|        N|          N|\n",
            "|2019-007831003-001|  19/02/2019 07:00|            2|        S|              1| NAO FATAL      |    M|             SIM|          NÃO|    20| 16/08/1998|                   A  |  VEÍCULO MOTORIZ. ...|                0|                     0|MOTOCICLETA      ...|        N|          N|\n",
            "|2019-007831003-001|  19/02/2019 07:00|            3|        N|              3| SEM FERIMENTOS |    M|             SIM|          NÃO|    20| 19/04/1998|                      |                   ...|                0|                     0|MOTOCICLETA      ...|        N|          S|\n",
            "|2019-007833121-001|  19/02/2019 06:56|            1|        S|              1| NAO FATAL      |    M|             SIM|          NÃO|    35| 19/04/1983|                   AB |  HABILITADO NAS CA...|                0|                     0|MOTOCICLETA      ...|        N|          N|\n",
            "|2019-007833121-001|  19/02/2019 06:56|            2|        S|              3| SEM FERIMENTOS |    M|             SIM|          NÃO|    59| 16/09/1959|                   D  |  VEIC. MOTOR. P/ T...|                0|                     0|AUTOMOVEL        ...|        N|          N|\n",
            "|2019-007833344-001|  19/02/2019 07:12|            1|        S|              3| SEM FERIMENTOS |    F|             SIM|          NÃO|    53| 05/09/1965|                   B  |  VEICULOS MOTOR. C...|                0|                     0|AUTOMOVEL        ...|        N|          N|\n",
            "|2019-007833344-001|  19/02/2019 07:12|            2|        S|              1| NAO FATAL      |    M|             NÃO|NÃO INFORMADO|     0| 00/00/0000|                   N  |  NAO INFORMADO    ...|                0|                     0|MOTOCICLETA      ...|     null|       null|\n",
            "|2019-007834678-001|  19/02/2019 08:04|            1|        S|              3| SEM FERIMENTOS |    M|             SIM|          NÃO|    28| 23/02/1990|                   B  |  VEICULOS MOTOR. C...|                0|                     0|AUTOMOVEL        ...|        N|          N|\n",
            "|2019-007834678-001|  19/02/2019 08:04|            2|        S|              1| NAO FATAL      |    M|             SIM|          NÃO|    38| 29/12/1980|                   AB |  HABILITADO NAS CA...|                0|                     0|MOTOCICLETA      ...|        N|          N|\n",
            "|2019-007845050-001|  19/02/2019 08:42|            1|        S|              3| SEM FERIMENTOS |    F|             SIM|          NÃO|    28| 26/02/1990|                   B  |  VEICULOS MOTOR. C...|                0|                     0|AUTOMOVEL        ...|        N|          N|\n",
            "|2019-007845050-001|  19/02/2019 08:42|            2|        S|              1| NAO FATAL      |    M|             SIM|          NÃO|    44| 25/10/1974|                   AB |  HABILITADO NAS CA...|                0|                     0|MOTOCICLETA      ...|        N|          N|\n",
            "|2019-007846854-001|  19/02/2019 08:51|            1|        S|              1| NAO FATAL      |    M|             SIM|          NÃO|    24| 19/03/1994|                   AB |  HABILITADO NAS CA...|                0|                     0|MOTOCICLETA      ...|        N|          N|\n",
            "|2019-007846854-001|  19/02/2019 08:51|            2|        S|              3| SEM FERIMENTOS |    M|             SIM|          NÃO|    65| 21/02/1953|                   B  |  VEICULOS MOTOR. C...|                0|                     0|AUTOMOVEL        ...|        N|          N|\n",
            "|2019-007851606-001|  19/02/2019 09:41|            1|        S|              1| NAO FATAL      |    M|             SIM|          NÃO|    27| 23/12/1991|                   A  |  VEÍCULO MOTORIZ. ...|                0|                     0|MOTOCICLETA      ...|        N|          N|\n",
            "|2019-007851606-001|  19/02/2019 09:41|            2|        S|              3| SEM FERIMENTOS |    M|             SIM|          NÃO|    25| 05/11/1993|                   AB |  HABILITADO NAS CA...|                0|                     0|AUTOMOVEL        ...|        N|          N|\n",
            "|2019-007851606-001|  19/02/2019 09:41|            3|        N|              0| NAO INFORMADO  |    F|             SIM|          NÃO|    25| 28/01/1994|                      |                   ...|                0|                     0|AUTOMOVEL        ...|        N|          S|\n",
            "|2019-007855620-001|  19/02/2019 10:33|            1|        S|              3| SEM FERIMENTOS |    M|             SIM|          NÃO|    65| 27/07/1953|                   B  |  VEICULOS MOTOR. C...|                0|                     0|AUTOMOVEL        ...|        N|          N|\n",
            "|2019-007855620-001|  19/02/2019 10:33|            2|        S|              1| NAO FATAL      |    M|             SIM|          NÃO|    33| 09/04/1985|                   AB |  HABILITADO NAS CA...|                0|                     0|AUTOMOVEL        ...|        N|          N|\n",
            "+------------------+------------------+-------------+---------+---------------+----------------+-----+----------------+-------------+------+-----------+----------------------+----------------------+-----------------+----------------------+--------------------+---------+-----------+\n",
            "only showing top 25 rows\n",
            "\n"
          ]
        }
      ]
    },
    {
      "cell_type": "code",
      "source": [
        "df_bol.withColumnRenamed(\" NUMERO_BOLETIM\",\"NUMERO_BOLETIM\").show()"
      ],
      "metadata": {
        "id": "3iSxuiLdUm84"
      },
      "execution_count": null,
      "outputs": []
    },
    {
      "cell_type": "code",
      "source": [
        "df_log.withColumnRenamed(\"Nº_boletim\",\"NUMERO_BOLETIM\").show()"
      ],
      "metadata": {
        "id": "ngZGWxiicDv6"
      },
      "execution_count": null,
      "outputs": []
    },
    {
      "cell_type": "code",
      "source": [
        "#Join entre tabela boletins e localização\n",
        "df_join_bol_log = df_bol.join(df_log, df_bol[' NUMERO_BOLETIM'] == df_log['Nº_boletim'], 'left')\n",
        "df_join_bol_log.show(10)"
      ],
      "metadata": {
        "id": "aoWJIo6ULZNI"
      },
      "execution_count": null,
      "outputs": []
    },
    {
      "cell_type": "code",
      "source": [
        "#Join entre tabela resultante do join anterior + tabela envolvidos\n",
        "df_join_total = df_join_bol_log.join(df_env, df_bol[' NUMERO_BOLETIM'] == df_env['num_boletim'], 'left')\n",
        "df_join_total.show(10)"
      ],
      "metadata": {
        "id": "prys1Ol4ctYX"
      },
      "execution_count": null,
      "outputs": []
    },
    {
      "cell_type": "code",
      "source": [
        "#Criando visão específica com os campos solicitados no exercício 2\n",
        "import pyspark.sql.functions as F\n",
        "\n",
        "df_base = df_join_total.groupby(' DATA HORA_BOLETIM',' TIPO_ACIDENTE', ' DESC_TIPO_ACIDENTE',' DESC_TEMPO',' PAVIMENTO',' desc_severidade',' cinto_seguranca',\n",
        "                      ' Embreagues',' Idade',' sexo','especie_veiculo','nome_municipio','nome_bairro','tipo_logradouro','nome_logradouro').agg(F.sum(' Nº_envolvido').alias('total_envolvidos'))\n",
        "df_base.show(20,truncate=False)"
      ],
      "metadata": {
        "id": "VGSiedKadX9H"
      },
      "execution_count": null,
      "outputs": []
    },
    {
      "cell_type": "code",
      "source": [
        "# Incluir aqui a lógica para limpeza do DF"
      ],
      "metadata": {
        "id": "eUlyIA-6hQ9y"
      },
      "execution_count": null,
      "outputs": []
    },
    {
      "cell_type": "code",
      "source": [
        "# Consulta 1 - Número de acidentes por mês/ano\n",
        "from pyspark.sql.functions import *\n",
        "\n",
        "#df_acidentes_mes_ano = df_base.select( date_format(' DATA HORA_BOLETIM',\"yyyy MM dd\").alias(\"date_format\")).show()\n",
        "df_acidentes_mes_ano = df_base.groupby( date_format(' DATA HORA_BOLETIM',\"yyyy MM\").alias(\"date_format\")).agg(F.count(' TIPO_ACIDENTE').alias('total_acidentes'))\n",
        "df_acidentes_mes_ano.show(20,truncate=False)\n"
      ],
      "metadata": {
        "id": "_COm3dAxhdvp"
      },
      "execution_count": null,
      "outputs": []
    },
    {
      "cell_type": "code",
      "source": [
        "df_teste = df_base.select(col(' DATA HORA_BOLETIM'), \n",
        "   to_timestamp(col(' DATA HORA_BOLETIM'), \"MM-dd-yyyy HH mm ss SSS\").alias(\"to_timestamp\")\n",
        "  )\n",
        "df_teste.show()"
      ],
      "metadata": {
        "id": "atzcfjRCxDEv",
        "outputId": "9bfba5f4-aa05-487d-f661-db23719a182f",
        "colab": {
          "base_uri": "https://localhost:8080/"
        }
      },
      "execution_count": 56,
      "outputs": [
        {
          "output_type": "stream",
          "name": "stdout",
          "text": [
            "+------------------+------------+\n",
            "| DATA HORA_BOLETIM|to_timestamp|\n",
            "+------------------+------------+\n",
            "|  07/06/2019 13:40|        null|\n",
            "|  07/07/2019 16:47|        null|\n",
            "|  07/07/2019 21:35|        null|\n",
            "|  16/04/2019 06:55|        null|\n",
            "|  09/06/2019 14:41|        null|\n",
            "|  12/06/2019 17:12|        null|\n",
            "|  20/04/2019 12:57|        null|\n",
            "|  20/04/2019 16:10|        null|\n",
            "|  25/02/2019 16:15|        null|\n",
            "|  13/06/2019 10:31|        null|\n",
            "|  14/06/2019 14:07|        null|\n",
            "|  22/04/2019 07:46|        null|\n",
            "|  20/04/2019 18:30|        null|\n",
            "|  16/05/2019 18:07|        null|\n",
            "|  17/05/2019 12:30|        null|\n",
            "|  17/05/2019 18:02|        null|\n",
            "|  16/06/2019 07:25|        null|\n",
            "|  16/06/2019 08:45|        null|\n",
            "|  23/07/2019 13:10|        null|\n",
            "|  16/06/2019 21:43|        null|\n",
            "+------------------+------------+\n",
            "only showing top 20 rows\n",
            "\n"
          ]
        }
      ]
    },
    {
      "cell_type": "code",
      "source": [
        "# Consulta 2 - Total de acidentes com vítima por bairro\n",
        "df_acidentes_vitimas_bairro_filtrado = df_base.filter(F.col(' DESC_TIPO_ACIDENTE').contains(\" COM VITIMA\"))\n",
        "df_acidentes_vitimas_bairro = df_acidentes_vitimas_bairro_filtrado.groupby('nome_bairro').agg(F.count(' TIPO_ACIDENTE').alias('total_acidentes'))\n",
        "df_acidentes_vitimas_bairro.show(20,truncate=False)"
      ],
      "metadata": {
        "id": "hmM3uLcWkKOe"
      },
      "execution_count": null,
      "outputs": []
    },
    {
      "cell_type": "code",
      "source": [
        "# Consulta 3 - Total de acidentes por tipo de pavimento e condição do tempo\n",
        "df_acidentes_pavimento_tempo = df_base.groupby(' PAVIMENTO', ' DESC_TEMPO').agg(F.count(' TIPO_ACIDENTE').alias('total_acidentes'))\n",
        "df_acidentes_pavimento_tempo.show(20,truncate=False)"
      ],
      "metadata": {
        "id": "f-ygr-nFkKsf"
      },
      "execution_count": null,
      "outputs": []
    },
    {
      "cell_type": "code",
      "source": [
        "# Consulta 4 - Total de pessoas acidentadas por tipo de veiculo e pavimento\n",
        "df_acidentes_veiculo_pavimento = df_base.groupby('especie_veiculo', ' PAVIMENTO').agg(F.count(' TIPO_ACIDENTE').alias('total_acidentes'))\n",
        "df_acidentes_veiculo_pavimento.show(20,truncate=False)"
      ],
      "metadata": {
        "id": "sKSOXtVRkLFb"
      },
      "execution_count": null,
      "outputs": []
    }
  ]
}