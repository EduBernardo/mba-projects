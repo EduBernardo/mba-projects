{
  "nbformat": 4,
  "nbformat_minor": 0,
  "metadata": {
    "kernelspec": {
      "display_name": "Python 2",
      "language": "python",
      "name": "python2"
    },
    "language_info": {
      "codemirror_mode": {
        "name": "ipython",
        "version": 2
      },
      "file_extension": ".py",
      "mimetype": "text/x-python",
      "name": "python",
      "nbconvert_exporter": "python",
      "pygments_lexer": "ipython2",
      "version": "2.7.12"
    },
    "colab": {
      "name": "Eduardo Luiz Bernardo da Silva - ES_23 - Avaliação Final - Analisando dados de acidentes.ipynb",
      "provenance": [],
      "collapsed_sections": [],
      "include_colab_link": true
    }
  },
  "cells": [
    {
      "cell_type": "markdown",
      "metadata": {
        "id": "view-in-github",
        "colab_type": "text"
      },
      "source": [
        "<a href=\"https://colab.research.google.com/github/EduBernardo/mba-projects/blob/master/Eduardo_Luiz_Bernardo_da_Silva_ES_23_Avalia%C3%A7%C3%A3o_Final_Analisando_dados_de_acidentes.ipynb\" target=\"_parent\"><img src=\"https://colab.research.google.com/assets/colab-badge.svg\" alt=\"Open In Colab\"/></a>"
      ]
    },
    {
      "cell_type": "code",
      "metadata": {
        "id": "zPg_sbkyRPbU"
      },
      "source": [
        "!apt-get install openjdk-8-jdk-headless -qq > /dev/null\n",
        "!wget -q https://archive.apache.org/dist/spark/spark-2.4.4/spark-2.4.4-bin-hadoop2.7.tgz\n",
        "!tar xf spark-2.4.4-bin-hadoop2.7.tgz\n",
        "!pip install -q findspark"
      ],
      "execution_count": null,
      "outputs": []
    },
    {
      "cell_type": "code",
      "metadata": {
        "id": "ypvJ-mC8Sv6t"
      },
      "source": [
        "import os\n",
        "os.environ[\"JAVA_HOME\"] = \"/usr/lib/jvm/java-8-openjdk-amd64\"\n",
        "os.environ[\"SPARK_HOME\"] = \"/content/spark-2.4.4-bin-hadoop2.7\"\n",
        " \n",
        "# tornar o pyspark \"importável\"\n",
        "import findspark\n",
        "findspark.init('spark-2.4.4-bin-hadoop2.7')\n",
        "\n",
        "from pyspark.sql import SparkSession\n",
        "spark = SparkSession.builder.master('local[*]').getOrCreate()"
      ],
      "execution_count": null,
      "outputs": []
    },
    {
      "cell_type": "markdown",
      "metadata": {
        "id": "lecRuw9FROSC"
      },
      "source": [
        "## Avaliação final"
      ]
    },
    {
      "cell_type": "markdown",
      "metadata": {
        "id": "Z5fuZrqjhocL"
      },
      "source": [
        "## 1. Usando o Spark SQL, carregue os arquivos a seguir:\n",
        "\n",
        "+ si-bol-2019.csv - Boletins de ocorrência de acidentes automobilisticos  - https://ckan.pbh.gov.br/dataset/6511cb66-3635-4560-95cc-d0c39aafb547/resource/ab6db535-b706-4e7b-9fdc-3bc1e823401e/download/si-bol-2019.csv\n",
        "\n",
        "+ si_env-2019.csv - Dados sobre os envolvidos nos acidentes - https://ckan.pbh.gov.br/dataset/b127c1d8-9e1b-4820-884a-8bd8129ba5e3/resource/903286ca-b77f-44ad-aa6a-958aa018c33f/download/si_env-2019.csv\n",
        "+ si_log-2019.csv - Dados sobre a localização dos acidentes - https://ckan.pbh.gov.br/dataset/a07412b3-8371-402a-8ca6-68a518bf2403/resource/ad490dd1-7af5-4868-b35f-9471f15be744/download/si-log-2019.csv\n",
        "\n",
        "## 2. Crie uma tabela contendo os campos:\n",
        "\n",
        "+ data_hora \n",
        "+ tipo_acidente \n",
        "+ condicao_tempo \n",
        "+ pavimento\n",
        "+ severidade \n",
        "+ cinto_seguranca \n",
        "+ embreagues \n",
        "+ idade \n",
        "+ sexo\n",
        "+ especie_veiculo  \n",
        "+ nome_municipio\n",
        "+ nome_bairro\n",
        "+ tipo_logradouro \n",
        "+ nome_logradouro\n",
        "+ total_envolvidos\n",
        "\n",
        "## 3. Realize a limpeza dos dados, removendo: \n",
        "+ valores nulos\n",
        "+ dados inválidos\n",
        "\n",
        "## 4. Crie as seguintes consultas: \n",
        "\n",
        "1. Número de acidentes por mês/ano\n",
        "2. Total de acidentes com vítima por bairro;\n",
        "3. Total de acidentes por tipo de pavimento e condição do tempo;\n",
        "4. Total de pessoas acidentadas por tipo de veiculo e pavimento;\n",
        "\n",
        "## 5. Utilizando as biblioteca pandas e matplotlib, exiba o resultado dos itens 1 e 3 em forma de gráficos:\n",
        "\n"
      ]
    },
    {
      "cell_type": "code",
      "metadata": {
        "id": "LzcMs_1pY0DY"
      },
      "source": [
        ""
      ],
      "execution_count": null,
      "outputs": []
    }
  ]
}