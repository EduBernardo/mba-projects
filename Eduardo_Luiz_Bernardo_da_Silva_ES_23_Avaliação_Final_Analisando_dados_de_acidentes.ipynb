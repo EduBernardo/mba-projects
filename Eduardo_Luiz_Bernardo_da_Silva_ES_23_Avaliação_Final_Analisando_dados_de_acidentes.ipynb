{
  "nbformat": 4,
  "nbformat_minor": 0,
  "metadata": {
    "kernelspec": {
      "display_name": "Python 2",
      "language": "python",
      "name": "python2"
    },
    "language_info": {
      "codemirror_mode": {
        "name": "ipython",
        "version": 2
      },
      "file_extension": ".py",
      "mimetype": "text/x-python",
      "name": "python",
      "nbconvert_exporter": "python",
      "pygments_lexer": "ipython2",
      "version": "2.7.12"
    },
    "colab": {
      "name": "Eduardo Luiz Bernardo da Silva - ES_23 - Avaliação Final - Analisando dados de acidentes.ipynb",
      "provenance": [],
      "collapsed_sections": [],
      "include_colab_link": true
    }
  },
  "cells": [
    {
      "cell_type": "markdown",
      "metadata": {
        "id": "view-in-github",
        "colab_type": "text"
      },
      "source": [
        "<a href=\"https://colab.research.google.com/github/EduBernardo/mba-projects/blob/master/Eduardo_Luiz_Bernardo_da_Silva_ES_23_Avalia%C3%A7%C3%A3o_Final_Analisando_dados_de_acidentes.ipynb\" target=\"_parent\"><img src=\"https://colab.research.google.com/assets/colab-badge.svg\" alt=\"Open In Colab\"/></a>"
      ]
    },
    {
      "cell_type": "code",
      "metadata": {
        "id": "zPg_sbkyRPbU"
      },
      "source": [
        "!apt-get install openjdk-8-jdk-headless -qq > /dev/null\n",
        "!wget -q https://archive.apache.org/dist/spark/spark-2.4.4/spark-2.4.4-bin-hadoop2.7.tgz\n",
        "!tar xf spark-2.4.4-bin-hadoop2.7.tgz\n",
        "!pip install -q findspark"
      ],
      "execution_count": 1,
      "outputs": []
    },
    {
      "cell_type": "code",
      "metadata": {
        "id": "ypvJ-mC8Sv6t"
      },
      "source": [
        "import os\n",
        "os.environ[\"JAVA_HOME\"] = \"/usr/lib/jvm/java-8-openjdk-amd64\"\n",
        "os.environ[\"SPARK_HOME\"] = \"/content/spark-2.4.4-bin-hadoop2.7\"\n",
        " \n",
        "# tornar o pyspark \"importável\"\n",
        "import findspark\n",
        "findspark.init('spark-2.4.4-bin-hadoop2.7')\n",
        "\n",
        "from pyspark.sql import SparkSession\n",
        "spark = SparkSession.builder.master('local[*]').getOrCreate()"
      ],
      "execution_count": 2,
      "outputs": []
    },
    {
      "cell_type": "markdown",
      "metadata": {
        "id": "lecRuw9FROSC"
      },
      "source": [
        "## Avaliação final"
      ]
    },
    {
      "cell_type": "markdown",
      "metadata": {
        "id": "Z5fuZrqjhocL"
      },
      "source": [
        "## 1. Usando o Spark SQL, carregue os arquivos a seguir:\n",
        "\n",
        "+ si-bol-2019.csv - Boletins de ocorrência de acidentes automobilisticos  - https://ckan.pbh.gov.br/dataset/6511cb66-3635-4560-95cc-d0c39aafb547/resource/ab6db535-b706-4e7b-9fdc-3bc1e823401e/download/si-bol-2019.csv\n",
        "\n",
        "+ si_env-2019.csv - Dados sobre os envolvidos nos acidentes - https://ckan.pbh.gov.br/dataset/b127c1d8-9e1b-4820-884a-8bd8129ba5e3/resource/903286ca-b77f-44ad-aa6a-958aa018c33f/download/si_env-2019.csv\n",
        "+ si_log-2019.csv - Dados sobre a localização dos acidentes - https://ckan.pbh.gov.br/dataset/a07412b3-8371-402a-8ca6-68a518bf2403/resource/ad490dd1-7af5-4868-b35f-9471f15be744/download/si-log-2019.csv\n",
        "\n",
        "## 2. Crie uma tabela contendo os campos:\n",
        "\n",
        "+ data_hora \n",
        "+ tipo_acidente \n",
        "+ condicao_tempo \n",
        "+ pavimento\n",
        "+ severidade \n",
        "+ cinto_seguranca \n",
        "+ embreagues \n",
        "+ idade \n",
        "+ sexo\n",
        "+ especie_veiculo  \n",
        "+ nome_municipio\n",
        "+ nome_bairro\n",
        "+ tipo_logradouro \n",
        "+ nome_logradouro\n",
        "+ total_envolvidos\n",
        "\n",
        "## 3. Realize a limpeza dos dados, removendo: \n",
        "+ valores nulos\n",
        "+ dados inválidos\n",
        "\n",
        "## 4. Crie as seguintes consultas: \n",
        "\n",
        "1. Número de acidentes por mês/ano\n",
        "2. Total de acidentes com vítima por bairro;\n",
        "3. Total de acidentes por tipo de pavimento e condição do tempo;\n",
        "4. Total de pessoas acidentadas por tipo de veiculo e pavimento;\n",
        "\n",
        "## 5. Utilizando as biblioteca pandas e matplotlib, exiba o resultado dos itens 1 e 3 em forma de gráficos:\n",
        "\n"
      ]
    },
    {
      "cell_type": "code",
      "source": [
        "# carregando arquivos da tabela de Boletins\n",
        "\n",
        "df_bol = spark.read.csv(\"si-bol-2019.csv\", sep=';', header=True, encoding = 'latin1', inferSchema=True)"
      ],
      "metadata": {
        "id": "grJcBDEcNjo7"
      },
      "execution_count": 40,
      "outputs": []
    },
    {
      "cell_type": "markdown",
      "source": [
        "Tabela boletins contém os seguintes campos:\n",
        "NUMERO_BOLETIM;\n",
        "DATA_HORA_BOLETIM;\n",
        "DATA_INCLUSAO;\n",
        "TIPO_ACIDENTE;\n",
        "DESC_TIPO_ACIDENTE;\n",
        "COD_TEMPO;\n",
        "DESC_TEMPO;\n",
        "COD_PAVIMENTO;\n",
        "PAVIMENTO;\n",
        "COD_REGIONAL;\n",
        "DESC_REGIONAL;\n",
        "ORIGEM_BOLETIM;\n",
        "LOCAL_SINALIZADO;\n",
        "VELOCIDADE_PERMITIDA;\n",
        "COORDENADA_X;\n",
        "COORDENADA_Y;\n",
        "HORA_INFORMADA;\n",
        "INDICADOR_FATALIDADE;\n",
        "VALOR_UPS;\n",
        "DESCRIÇÃO_UPS;\n",
        "DATA_ALTERACAO_SMSA;\n",
        "VALOR_UPS_ANTIGA;\n",
        "DESCRIÇÃO_UPS_ANTIGA;"
      ],
      "metadata": {
        "id": "L_ZwP8_2OWtW"
      }
    },
    {
      "cell_type": "code",
      "source": [
        "# carregando arquivos da tabela de Localização\n",
        "\n",
        "df_log = spark.read.csv(\"si-log-2019.csv\", sep=';', header=True, encoding = 'latin1', inferSchema=True)"
      ],
      "metadata": {
        "id": "YnMWLzoAKIqi"
      },
      "execution_count": 41,
      "outputs": []
    },
    {
      "cell_type": "markdown",
      "source": [
        "Tabela localização contém os seguintes campos:\n",
        "Nº_boletim;\n",
        "data_boletim;\n",
        " Nº_municipio;\n",
        "nome_municipio;\n",
        "seq_logradouros;\n",
        "Nº_logradouro;\n",
        "tipo_logradouro;\n",
        "nome_logradouro;\n",
        "tipo_logradouro_anterior;\n",
        "nome_logradouro_anterior;\n",
        "Nº_bairro;\n",
        "nome_bairro;\n",
        "tipo_bairro;\n",
        "descricao_tipo_bairro;\n",
        "Nº_imovel;\n",
        "Nº_imovel_proximo;\n"
      ],
      "metadata": {
        "id": "6T9vHJAAOhgC"
      }
    },
    {
      "cell_type": "code",
      "source": [
        "# carregando arquivos da tabela de Envolvidos\n",
        "\n",
        "df_env = spark.read.csv(\"si_env-2019.csv\", sep=';', header=True, encoding = 'latin1', inferSchema=True)"
      ],
      "metadata": {
        "id": "7ayQNZYPKgNT"
      },
      "execution_count": 42,
      "outputs": []
    },
    {
      "cell_type": "markdown",
      "source": [
        "Tabela envolvidos contém os seguintes campos:\n",
        "num_boletim;\n",
        "data_hora_boletim;\n",
        "Nº_envolvido;\n",
        "condutor;\n",
        "cod_severidade;\n",
        "desc_severidade;\n",
        "sexo;\n",
        "cinto_seguranca;\n",
        "Embreagues;\n",
        "Idade;\n",
        "nascimento;\n",
        "categoria_habilitacao;\n",
        "descricao_habilitacao;\n",
        "declaracao_obito;\n",
        "cod_severidade_antiga;\n",
        "especie_veiculo;\n",
        "pedestre;\n",
        "passageiro;"
      ],
      "metadata": {
        "id": "bH_Z2aAvPYmX"
      }
    },
    {
      "cell_type": "code",
      "source": [
        "# apresentando as tabelas\n",
        "df_bol.show(100)\n",
        "df_log.show(100)\n",
        "df_env.show(100)"
      ],
      "metadata": {
        "id": "o5bI_5QiPJ-d"
      },
      "execution_count": null,
      "outputs": []
    },
    {
      "cell_type": "code",
      "source": [
        "df_bol.withColumnRenamed(\" NUMERO_BOLETIM\",\"NUMERO_BOLETIM\").show()"
      ],
      "metadata": {
        "id": "3iSxuiLdUm84"
      },
      "execution_count": null,
      "outputs": []
    },
    {
      "cell_type": "code",
      "source": [
        "df_log.withColumnRenamed(\"Nº_boletim\",\"NUMERO_BOLETIM\").show()"
      ],
      "metadata": {
        "id": "ngZGWxiicDv6"
      },
      "execution_count": null,
      "outputs": []
    },
    {
      "cell_type": "code",
      "source": [
        "#Join entre tabela boletins e localização\n",
        "df_join_bol_log = df_bol.join(df_log, df_bol[' NUMERO_BOLETIM'] == df_log['Nº_boletim'], 'left')\n",
        "df_join_bol_log.show(10)"
      ],
      "metadata": {
        "id": "aoWJIo6ULZNI"
      },
      "execution_count": null,
      "outputs": []
    },
    {
      "cell_type": "code",
      "source": [
        "#Join entre tabela resultante do join anterior + tabela envolvidos\n",
        "df_join_total = df_join_bol_log.join(df_env, df_bol[' NUMERO_BOLETIM'] == df_env['num_boletim'], 'left')\n",
        "df_join_total.show(10)"
      ],
      "metadata": {
        "id": "prys1Ol4ctYX"
      },
      "execution_count": null,
      "outputs": []
    },
    {
      "cell_type": "code",
      "source": [
        "#Criando visão específica com os campos solicitados\n",
        "import pyspark.sql.functions as F\n",
        "\n",
        "df_join_total.groupby(' DATA HORA_BOLETIM',' TIPO_ACIDENTE', ' DESC_TIPO_ACIDENTE',' DESC_TEMPO',' PAVIMENTO',' desc_severidade',' cinto_seguranca',\n",
        "                      ' Embreagues',' Idade',' sexo','especie_veiculo','nome_municipio','nome_bairro','tipo_logradouro','nome_logradouro').agg(F.sum(' Nº_envolvido').alias('total_envolvidos')).show(100,truncate=False)"
      ],
      "metadata": {
        "colab": {
          "base_uri": "https://localhost:8080/"
        },
        "id": "VGSiedKadX9H",
        "outputId": "6a4a6829-6d27-486a-c167-ce3555660ae1"
      },
      "execution_count": 70,
      "outputs": [
        {
          "output_type": "stream",
          "name": "stdout",
          "text": [
            "+------------------+--------------+--------------------------------------------------+---------------+---------------+----------------+----------------+-------------+------+-----+------------------------------+------------------------------+--------------------------------------------------+---------------+--------------------------------------------------+----------------+\n",
            "| DATA HORA_BOLETIM| TIPO_ACIDENTE| DESC_TIPO_ACIDENTE                               | DESC_TEMPO    | PAVIMENTO     | desc_severidade| cinto_seguranca| Embreagues  | Idade| sexo|especie_veiculo               |nome_municipio                |nome_bairro                                       |tipo_logradouro|nome_logradouro                                   |total_envolvidos|\n",
            "+------------------+--------------+--------------------------------------------------+---------------+---------------+----------------+----------------+-------------+------+-----+------------------------------+------------------------------+--------------------------------------------------+---------------+--------------------------------------------------+----------------+\n",
            "|07/06/2019 13:40  | H01002       |ABALROAMENTO COM VITIMA                           |BOM            |ASFALTO        |SEM FERIMENTOS  |SIM             |NÃO          |36    |M    |ONIBUS                        |BELO HORIZONTE                |DIAMANTE                                          |RUA            |ANTONIO ARAUJO PENIDO                             |2               |\n",
            "|07/07/2019 16:47  | H01002       |ABALROAMENTO COM VITIMA                           |BOM            |ASFALTO        |SEM FERIMENTOS  |SIM             |NÃO          |46    |M    |AUTOMOVEL                     |BELO HORIZONTE                |SAVASSI                                           |RUA            |PROFESSOR MORAES                                  |2               |\n",
            "|07/07/2019 21:35  | H06002       |ATROPELAMENTO DE PESSOA SEM VITIMA FATAL          |NAO INFORMADO  |NAO INFORMADO  |SEM FERIMENTOS  |NÃO             |NÃO INFORMADO|0     |0    |NAO INFORMADO                 |BELO HORIZONTE                |OURO PRETO                                        |RUA            |MANOEL ELIAS DE AGUIAR                            |2               |\n",
            "|16/04/2019 06:55  | H08002       |CHOQUE MECANICO COM VITIMA                        |NAO INFORMADO  |NAO INFORMADO  |SEM FERIMENTOS  |SIM             |NÃO          |21    |M    |AUTOMOVEL                     |BELO HORIZONTE                |APARECIDA                                         |AVE            |PRESIDENTE ANTONIO CARLOS                         |2               |\n",
            "|09/06/2019 14:41  | H08002       |CHOQUE MECANICO COM VITIMA                        |BOM            |ASFALTO        |NAO FATAL       |SIM             |NÃO          |53    |F    |AUTOMOVEL                     |BELO HORIZONTE                |CACHOEIRINHA                                      |AVE            |PRESIDENTE ANTONIO CARLOS                         |3               |\n",
            "|12/06/2019 17:12  | H08002       |CHOQUE MECANICO COM VITIMA                        |NAO INFORMADO  |NAO INFORMADO  |NAO INFORMADO   |NÃO             |NÃO INFORMADO|0     |M    |AUTOMOVEL                     |BELO HORIZONTE                |RIO BRANCO                                        |AVE            |BERNARDA SILVESTRE                                |2               |\n",
            "|20/04/2019 12:57  | H09002       |COLISAO DE VEICULOS COM VITIMA                    |BOM            |ASFALTO        |NAO FATAL       |SIM             |NÃO          |25    |M    |MOTOCICLETA                   |BELO HORIZONTE                |HORTO FLORESTAL                                   |AVE            |PETROLINA                                         |1               |\n",
            "|20/04/2019 16:10  | H01002       |ABALROAMENTO COM VITIMA                           |NAO INFORMADO  |NAO INFORMADO  |SEM FERIMENTOS  |SIM             |NÃO          |21    |F    |AUTOMOVEL                     |BELO HORIZONTE                |GUARANI                                           |RUA            |WALDOMIRO LOBO                                    |1               |\n",
            "|25/02/2019 16:15  | H08002       |CHOQUE MECANICO COM VITIMA                        |NAO INFORMADO  |NAO INFORMADO  |NAO FATAL       |SIM             |NÃO          |33    |M    |MOTOCICLETA                   |BELO HORIZONTE                |SANTA INES                                        |AVE            |JOSE CANDIDO DA SILVEIRA                          |1               |\n",
            "|13/06/2019 10:31  | H06002       |ATROPELAMENTO DE PESSOA SEM VITIMA FATAL          |BOM            |ASFALTO        |SEM FERIMENTOS  |SIM             |NÃO          |52    |M    |AUTOMOVEL                     |BELO HORIZONTE                |SANTA CRUZ                                        |RUA            |JOSE MAURICIO VEIGA                               |2               |\n",
            "|14/06/2019 14:07  | H01002       |ABALROAMENTO COM VITIMA                           |NAO INFORMADO  |NAO INFORMADO  |SEM FERIMENTOS  |SIM             |NÃO          |36    |M    |CAMINHAO                      |BELO HORIZONTE                |NOVA SUISSA                                       |AVE            |AMAZONAS                                          |1               |\n",
            "|22/04/2019 07:46  | H01002       |ABALROAMENTO COM VITIMA                           |BOM            |ASFALTO        |NAO FATAL       |SIM             |NÃO          |26    |M    |MOTOCICLETA                   |BELO HORIZONTE                |PROVIDENCIA                                       |RUA            |DOUTOR BENEDITO XAVIER                            |1               |\n",
            "|20/04/2019 18:30  | H02002       |CAPOTAMENTO/TOMBAMENTO COM VITIMA                 |NAO INFORMADO  |NAO INFORMADO  |NAO FATAL       |SIM             |NÃO          |36    |M    |MOTOCICLETA                   |BELO HORIZONTE                |DOM JOAQUIM                                       |RUA            |PEDRO CALMON                                      |1               |\n",
            "|16/05/2019 18:07  | H01002       |ABALROAMENTO COM VITIMA                           |NUBLADO        |ASFALTO        |SEM FERIMENTOS  |SIM             |NÃO          |24    |F    |AUTOMOVEL                     |BELO HORIZONTE                |SANTA ROSA                                        |RUA            |CORONEL MARCELINO                                 |1               |\n",
            "|17/05/2019 12:30  | H06002       |ATROPELAMENTO DE PESSOA SEM VITIMA FATAL          |NAO INFORMADO  |NAO INFORMADO  |SEM FERIMENTOS  |SIM             |NÃO          |34    |M    |AUTOMOVEL                     |BELO HORIZONTE                |AEROPORTO                                         |RUA            |PROFESSOR NELSON DE SENA                          |2               |\n",
            "|17/05/2019 18:02  | H08002       |CHOQUE MECANICO COM VITIMA                        |NAO INFORMADO  |NAO INFORMADO  |NAO FATAL       |SIM             |NÃO          |30    |M    |AUTOMOVEL                     |BELO HORIZONTE                |SANTA EFIGENIA                                    |AVE            |MEM DE SA                                         |1               |\n",
            "|16/06/2019 07:25  | H01002       |ABALROAMENTO COM VITIMA                           |BOM            |ASFALTO        |SEM FERIMENTOS  |SIM             |NÃO          |30    |M    |AUTOMOVEL                     |BELO HORIZONTE                |TUPI A                                            |RUA            |EDGARD CAVALEIRO                                  |1               |\n",
            "|16/06/2019 08:45  | H01002       |ABALROAMENTO COM VITIMA                           |BOM            |ASFALTO        |SEM FERIMENTOS  |SIM             |NÃO          |44    |M    |AUTOMOVEL                     |BELO HORIZONTE                |MIRAMAR                                           |EST            |DO JATOBA                                         |2               |\n",
            "|23/07/2019 13:10  | H02002       |CAPOTAMENTO/TOMBAMENTO COM VITIMA                 |NAO INFORMADO  |NAO INFORMADO  |NAO FATAL       |SIM             |NÃO          |22    |M    |MOTOCICLETA                   |BELO HORIZONTE                |BETANIA                                           |ROD            |ANEL RODOVIARIO CELSO MELLO AZEVEDO               |1               |\n",
            "|16/06/2019 21:43  | H01002       |ABALROAMENTO COM VITIMA                           |BOM            |ASFALTO        |SEM FERIMENTOS  |SIM             |NÃO          |29    |M    |AUTOMOVEL                     |BELO HORIZONTE                |SANTA TEREZA                                      |RUA            |PARAISOPOLIS                                      |4               |\n",
            "|17/06/2019 07:00  | H01002       |ABALROAMENTO COM VITIMA                           |NAO INFORMADO  |NAO INFORMADO  |NAO FATAL       |SIM             |NÃO          |37    |M    |AUTOMOVEL                     |BELO HORIZONTE                |SAVASSI                                           |RUA            |ALAGOAS                                           |1               |\n",
            "|31/07/2019 06:03  | H01002       |ABALROAMENTO COM VITIMA                           |BOM            |ASFALTO        |NAO FATAL       |SIM             |NÃO          |48    |M    |MOTOCICLETA                   |BELO HORIZONTE                |BARREIRO DE BAIXO                                 |RUA            |CABO VALERIO SANTOS                               |2               |\n",
            "|19/05/2019 11:40  | H02002       |CAPOTAMENTO/TOMBAMENTO COM VITIMA                 |NAO INFORMADO  |NAO INFORMADO  |NAO FATAL       |SIM             |NÃO          |25    |F    |MOTOCICLETA                   |BELO HORIZONTE                |SERRA VERDE                                       |ROD            |PAPA JOAO PAULO II                                |1               |\n",
            "|21/05/2019 19:08  | H08002       |CHOQUE MECANICO COM VITIMA                        |BOM            |ASFALTO        |SEM FERIMENTOS  |SIM             |NÃO          |34    |M    |AUTOMOVEL                     |BELO HORIZONTE                |TUPI A                                            |RUA            |JOSE CLEMENTE                                     |2               |\n",
            "|19/07/2019 09:40  | H08002       |CHOQUE MECANICO COM VITIMA                        |NAO INFORMADO  |NAO INFORMADO  |SEM FERIMENTOS  |SIM             |NÃO          |32    |M    |AUTOMOVEL                     |BELO HORIZONTE                |CORACAO EUCARISTICO                               |AVE            |PRESIDENTE JUSCELINO KUBITSCHEK                   |2               |\n",
            "|20/07/2019 12:15  | H01002       |ABALROAMENTO COM VITIMA                           |NAO INFORMADO  |NAO INFORMADO  |NAO FATAL       |SIM             |NÃO          |34    |F    |MOTOCICLETA                   |BELO HORIZONTE                |SILVEIRA                                          |AVE            |CRISTIANO MACHADO                                 |2               |\n",
            "|26/04/2019 09:43  | H08002       |CHOQUE MECANICO COM VITIMA                        |BOM            |ASFALTO        |SEM FERIMENTOS  |SIM             |NÃO          |38    |F    |AUTOMOVEL                     |BELO HORIZONTE                |SAO LUIZ                                          |AVE            |OTACILIO NEGRAO DE LIMA                           |1               |\n",
            "|22/05/2019 15:04  | H01002       |ABALROAMENTO COM VITIMA                           |NAO INFORMADO  |NAO INFORMADO  |SEM FERIMENTOS  |SIM             |NÃO          |42    |M    |MOTOCICLETA                   |BELO HORIZONTE                |SALGADO FILHO                                     |AVE            |TERESA CRISTINA                                   |2               |\n",
            "|21/06/2019 19:15  | H01002       |ABALROAMENTO COM VITIMA                           |BOM            |ASFALTO        |SEM FERIMENTOS  |SIM             |NÃO          |29    |M    |CAMINHAO                      |BELO HORIZONTE                |BANDEIRANTES                                      |AVE            |PROFESSOR CLOVIS SALGADO                          |2               |\n",
            "|22/06/2019 12:00  | H99002       |OUTROS COM VITIMA                                 |BOM            |NAO INFORMADO  |SEM FERIMENTOS  |SIM             |NÃO          |39    |M    |ONIBUS                        |BELO HORIZONTE                |BARREIRO                                          |AVE            |AFONSO VAZ DE MELO                                |1               |\n",
            "|27/07/2019 02:06  | H01002       |ABALROAMENTO COM VITIMA                           |NAO INFORMADO  |NAO INFORMADO  |SEM FERIMENTOS  |SIM             |NÃO          |52    |M    |AUTOMOVEL                     |BELO HORIZONTE                |SANTA MONICA                                      |RUA            |DA GAMELEIRA                                      |2               |\n",
            "|27/07/2019 00:18  | H01002       |ABALROAMENTO COM VITIMA                           |BOM            |ASFALTO        |NAO FATAL       |SIM             |NÃO          |63    |M    |AUTOMOVEL                     |BELO HORIZONTE                |MANTIQUEIRA                                       |RUA            |MARIA DA CONCEICAO OLIVEIRA                       |2               |\n",
            "|24/05/2019 11:26  | H08002       |CHOQUE MECANICO COM VITIMA                        |NAO INFORMADO  |NAO INFORMADO  |SEM FERIMENTOS  |SIM             |NÃO          |35    |M    |AUTOMOVEL                     |BELO HORIZONTE                |CORACAO EUCARISTICO                               |AVE            |PRESIDENTE JUSCELINO KUBITSCHEK                   |2               |\n",
            "|25/05/2019 12:12  | H08002       |CHOQUE MECANICO COM VITIMA                        |NAO INFORMADO  |NAO INFORMADO  |SEM FERIMENTOS  |SIM             |NÃO          |31    |M    |AUTOMOVEL                     |BELO HORIZONTE                |IPIRANGA                                          |AVE            |CRISTIANO MACHADO                                 |6               |\n",
            "|15/07/2019 09:06  | H01002       |ABALROAMENTO COM VITIMA                           |NAO INFORMADO  |NAO INFORMADO  |SEM FERIMENTOS  |SIM             |NÃO          |48    |F    |AUTOMOVEL                     |BELO HORIZONTE                |PRADO                                             |AVE            |DO CONTORNO                                       |1               |\n",
            "|25/06/2019 12:02  | H01002       |ABALROAMENTO COM VITIMA                           |NAO INFORMADO  |NAO INFORMADO  |NAO FATAL       |SIM             |NÃO          |33    |M    |MOTOCICLETA                   |BELO HORIZONTE                |COLEGIO BATISTA                                   |RUA            |JACUI                                             |2               |\n",
            "|21/07/2019 01:50  | H01002       |ABALROAMENTO COM VITIMA                           |BOM            |ASFALTO        |SEM FERIMENTOS  |NÃO             |NÃO INFORMADO|0     |M    |AUTOMOVEL                     |BELO HORIZONTE                |SERRA                                             |RUA            |HERVAL                                            |6               |\n",
            "|21/07/2019 19:08  | H08002       |CHOQUE MECANICO COM VITIMA                        |NAO INFORMADO  |NAO INFORMADO  |NAO FATAL       |SIM             |NÃO          |31    |M    |MOTOCICLETA                   |BELO HORIZONTE                |TIROL                                             |RUA            |CAETANO DE VASCONCELOS                            |1               |\n",
            "|22/07/2019 08:24  | H01002       |ABALROAMENTO COM VITIMA                           |NAO INFORMADO  |NAO INFORMADO  |NAO FATAL       |SIM             |NÃO          |23    |M    |MOTOCICLETA                   |BELO HORIZONTE                |SILVEIRA                                          |RUA            |ZAIRA DE PAULA                                    |1               |\n",
            "|02/05/2019 16:46  | H06002       |ATROPELAMENTO DE PESSOA SEM VITIMA FATAL          |CHUVA          |ASFALTO        |SEM FERIMENTOS  |SIM             |NÃO          |35    |M    |ONIBUS                        |BELO HORIZONTE                |CENTRO                                            |RUA            |SAO PAULO                                         |1               |\n",
            "|28/05/2019 14:01  | H09002       |COLISAO DE VEICULOS COM VITIMA                    |BOM            |ASFALTO        |SEM FERIMENTOS  |SIM             |NÃO          |62    |M    |AUTOMOVEL                     |BELO HORIZONTE                |SAO MARCOS                                        |RUA            |FRANCISCO LEOCADIO                                |1               |\n",
            "|29/05/2019 09:37  | H09002       |COLISAO DE VEICULOS COM VITIMA                    |NAO INFORMADO  |NAO INFORMADO  |SEM FERIMENTOS  |SIM             |NÃO          |35    |M    |AUTOMOVEL                     |BELO HORIZONTE                |CACHOEIRINHA                                      |AVE            |BERNARDO DE VASCONCELOS                           |1               |\n",
            "|27/07/2019 13:55  | H01002       |ABALROAMENTO COM VITIMA                           |NAO INFORMADO  |NAO INFORMADO  |NAO INFORMADO   |NÃO             |NÃO INFORMADO|0     |M    |AUTOMOVEL                     |BELO HORIZONTE                |SALGADO FILHO                                     |RUA            |LAGOA DA PRATA                                    |2               |\n",
            "|29/07/2019 15:47  | H01002       |ABALROAMENTO COM VITIMA                           |BOM            |ASFALTO        |NAO INFORMADO   |NÃO             |NÃO INFORMADO|0     |M    |AUTOMOVEL                     |BELO HORIZONTE                |BARREIRO                                          |RUA            |BOAVENTURA COSTA                                  |3               |\n",
            "|29/07/2019 15:22  | H08002       |CHOQUE MECANICO COM VITIMA                        |NAO INFORMADO  |NAO INFORMADO  |NAO FATAL       |SIM             |NÃO          |32    |F    |MOTOCICLETA                   |BELO HORIZONTE                |SANTO ANTONIO                                     |AVE            |PRUDENTE DE MORAIS                                |1               |\n",
            "|04/05/2019 01:04  | H03002       |QUEDA DE VEICULO COM VITIMA                       |BOM            |ASFALTO        |NAO FATAL       |SIM             |NÃO          |40    |M    |AUTOMOVEL                     |BELO HORIZONTE                |JARDIM DOS COMERCIARIOS                           |RUA            |DEPUTADO EMILIANO FRANKLIN                        |1               |\n",
            "|30/05/2019 13:10  | H01002       |ABALROAMENTO COM VITIMA                           |NAO INFORMADO  |NAO INFORMADO  |NAO FATAL       |SIM             |NÃO          |35    |M    |MOTOCICLETA                   |BELO HORIZONTE                |BARREIRO                                          |RUA            |BENEDITO SANTOS                                   |1               |\n",
            "|31/05/2019 07:50  | H08002       |CHOQUE MECANICO COM VITIMA                        |NAO INFORMADO  |NAO INFORMADO  |SEM FERIMENTOS  |NÃO             |NÃO INFORMADO|57    |M    |AUTOMOVEL                     |BELO HORIZONTE                |CORACAO EUCARISTICO                               |AVE            |TERESA CRISTINA                                   |1               |\n",
            "|28/06/2019 15:53  | H01002       |ABALROAMENTO COM VITIMA                           |BOM            |ASFALTO        |SEM FERIMENTOS  |SIM             |NÃO          |26    |M    |AUTOMOVEL                     |BELO HORIZONTE                |CARLOS PRATES                                     |ALA            |VEREADOR GERALDO SILVA DE OLIVEIRA                |3               |\n",
            "|01/07/2019 08:00  | H01002       |ABALROAMENTO COM VITIMA                           |NAO INFORMADO  |NAO INFORMADO  |SEM FERIMENTOS  |SIM             |NÃO          |51    |M    |MOTOCICLETA                   |BELO HORIZONTE                |SALGADO FILHO                                     |AVE            |TERESA CRISTINA                                   |1               |\n",
            "|01/07/2019 14:46  | H09002       |COLISAO DE VEICULOS COM VITIMA                    |NAO INFORMADO  |NAO INFORMADO  |SEM FERIMENTOS  |SIM             |NÃO          |35    |F    |AUTOMOVEL                     |BELO HORIZONTE                |SAO BENTO                                         |AVE            |PROFESSOR SYLVIO DE VASCONCELLOS                  |1               |\n",
            "|06/04/2019 19:00  | H01002       |ABALROAMENTO COM VITIMA                           |NAO INFORMADO  |NAO INFORMADO  |SEM FERIMENTOS  |SIM             |NÃO          |46    |F    |AUTOMOVEL                     |BELO HORIZONTE                |IPIRANGA                                          |RUA            |INGA                                              |2               |\n",
            "|08/04/2019 07:17  | H01002       |ABALROAMENTO COM VITIMA                           |BOM            |ASFALTO        |SEM FERIMENTOS  |SIM             |NÃO          |28    |F    |AUTOMOVEL                     |BELO HORIZONTE                |MANACAS                                           |RUA            |SANTO ONOFRE                                      |2               |\n",
            "|08/04/2019 08:49  | H04000       |QUEDA DE PESSOA DE VEICULO                        |BOM            |ASFALTO        |NAO FATAL       |SIM             |NÃO          |18    |F    |ONIBUS                        |BELO HORIZONTE                |SAVASSI                                           |AVE            |DO CONTORNO                                       |3               |\n",
            "|07/05/2019 15:30  | H01002       |ABALROAMENTO COM VITIMA                           |NAO INFORMADO  |NAO INFORMADO  |SEM FERIMENTOS  |SIM             |NÃO          |53    |M    |AUTOMOVEL                     |BELO HORIZONTE                |AARAO REIS                                        |RUA            |DOUTOR BENEDITO XAVIER                            |1               |\n",
            "|26/02/2019 22:00  | H02002       |CAPOTAMENTO/TOMBAMENTO COM VITIMA                 |NAO INFORMADO  |NAO INFORMADO  |NAO FATAL       |SIM             |NÃO          |38    |M    |MOTOCICLETA                   |BELO HORIZONTE                |NOVA ESPERANCA                                    |RUA            |AVELINO DOS SANTOS                                |1               |\n",
            "|02/07/2019 09:47  | H01002       |ABALROAMENTO COM VITIMA                           |BOM            |ASFALTO        |NAO FATAL       |SIM             |NÃO          |35    |F    |AUTOMOVEL                     |BELO HORIZONTE                |BARREIRO                                          |RUA            |AGNELO MACEDO                                     |3               |\n",
            "|01/07/2019 17:15  | H08002       |CHOQUE MECANICO COM VITIMA                        |NAO INFORMADO  |NAO INFORMADO  |NAO FATAL       |NÃO             |NÃO          |60    |M    |BICICLETA                     |BELO HORIZONTE                |ITAPOA                                            |AVE            |PORTUGAL                                          |1               |\n",
            "|08/05/2019 13:00  | H01002       |ABALROAMENTO COM VITIMA                           |NAO INFORMADO  |NAO INFORMADO  |SEM FERIMENTOS  |SIM             |NÃO          |49    |M    |AUTOMOVEL                     |BELO HORIZONTE                |UNIAO                                             |RUA            |BOLIVAR                                           |2               |\n",
            "|04/06/2019 19:50  | H01002       |ABALROAMENTO COM VITIMA                           |NAO INFORMADO  |NAO INFORMADO  |SEM FERIMENTOS  |SIM             |NÃO          |48    |M    |AUTOMOVEL                     |BELO HORIZONTE                |BAIRRO NOVO DAS INDUSTRIAS                        |AVE            |WALDYR SOEIRO EMRICH                              |2               |\n",
            "|11/04/2019 00:02  | H01002       |ABALROAMENTO COM VITIMA                           |BOM            |ASFALTO        |NAO FATAL       |SIM             |NÃO          |33    |M    |MOTOCICLETA                   |BELO HORIZONTE                |SAVASSI                                           |AVE            |DO CONTORNO                                       |2               |\n",
            "|10/05/2019 07:08  | H09002       |COLISAO DE VEICULOS COM VITIMA                    |NAO INFORMADO  |NAO INFORMADO  |NAO FATAL       |NÃO             |NÃO INFORMADO|0     |M    |MOTOCICLETA                   |BELO HORIZONTE                |INDAIA                                            |AVE            |PRESIDENTE ANTONIO CARLOS                         |3               |\n",
            "|10/05/2019 18:46  | H01002       |ABALROAMENTO COM VITIMA                           |BOM            |ASFALTO        |SEM FERIMENTOS  |SIM             |NÃO          |41    |F    |AUTOMOVEL                     |BELO HORIZONTE                |MANTIQUEIRA                                       |RUA            |WALESKA DE SOUZA                                  |2               |\n",
            "|06/06/2019 10:30  | H01002       |ABALROAMENTO COM VITIMA                           |NAO INFORMADO  |NAO INFORMADO  |NAO FATAL       |SIM             |NÃO          |28    |F    |MOTOCICLETA                   |BELO HORIZONTE                |SION                                              |RUA            |DO URUGUAI                                        |2               |\n",
            "|06/07/2019 07:31  | H06002       |ATROPELAMENTO DE PESSOA SEM VITIMA FATAL          |NAO INFORMADO  |NAO INFORMADO  |NAO FATAL       |NÃO             |NÃO          |61    |M    |                              |BELO HORIZONTE                |DONA CLARA                                        |AVE            |CRISTIANO MACHADO                                 |3               |\n",
            "|06/07/2019 10:19  | H06002       |ATROPELAMENTO DE PESSOA SEM VITIMA FATAL          |BOM            |ASFALTO        |NAO FATAL       |NÃO             |NÃO          |73    |M    |                              |BELO HORIZONTE                |CENTRO                                            |AVE            |OIAPOQUE                                          |2               |\n",
            "|06/07/2019 12:59  | H06002       |ATROPELAMENTO DE PESSOA SEM VITIMA FATAL          |BOM            |ASFALTO        |NAO FATAL       |NÃO             |NÃO          |12    |M    |                              |BELO HORIZONTE                |VALE DO JATOBA                                    |AVE            |DJALMA VIEIRA CRISTO                              |1               |\n",
            "|18/01/2019 18:09  | H08002       |CHOQUE MECANICO COM VITIMA                        |BOM            |ASFALTO        |SEM FERIMENTOS  |SIM             |NÃO          |58    |M    |ONIBUS                        |BELO HORIZONTE                |PRADO                                             |AVE            |TERESA CRISTINA                                   |2               |\n",
            "|13/02/2019 18:43  | H08002       |CHOQUE MECANICO COM VITIMA                        |NAO INFORMADO  |NAO INFORMADO  |SEM FERIMENTOS  |SIM             |NÃO          |31    |M    |AUTOMOVEL                     |BELO HORIZONTE                |PALMARES                                          |AVE            |CRISTIANO MACHADO                                 |1               |\n",
            "|07/01/2019 17:00  | H06002       |ATROPELAMENTO DE PESSOA SEM VITIMA FATAL          |NAO INFORMADO  |NAO INFORMADO  |NAO FATAL       |NÃO             |NÃO          |58    |M    |                              |BELO HORIZONTE                |JARDIM ALVORADA                                   |RUA            |PASCHOAL COSTA                                    |1               |\n",
            "|17/03/2019 08:30  | H01002       |ABALROAMENTO COM VITIMA                           |NAO INFORMADO  |NAO INFORMADO  |SEM FERIMENTOS  |SIM             |NÃO          |42    |M    |AUTOMOVEL                     |BELO HORIZONTE                |SALGADO FILHO                                     |RUA            |MONTE SIMPLON                                     |1               |\n",
            "|21/01/2019 19:11  | H06002       |ATROPELAMENTO DE PESSOA SEM VITIMA FATAL          |NAO INFORMADO  |NAO INFORMADO  |SEM FERIMENTOS  |SIM             |NÃO          |40    |M    |MOTOCICLETA                   |BELO HORIZONTE                |CORACAO EUCARISTICO                               |AVE            |PRESIDENTE JUSCELINO KUBITSCHEK                   |3               |\n",
            "|15/02/2019 13:45  | H01002       |ABALROAMENTO COM VITIMA                           |NAO INFORMADO  |NAO INFORMADO  |NAO FATAL       |SIM             |NÃO          |26    |M    |MOTOCICLETA                   |BELO HORIZONTE                |PALMARES                                          |RUA            |JOSE CLETO                                        |1               |\n",
            "|21/03/2019 06:08  | H02002       |CAPOTAMENTO/TOMBAMENTO COM VITIMA                 |BOM            |ASFALTO        |NAO FATAL       |SIM             |NÃO          |34    |F    |MOTOCICLETA                   |BELO HORIZONTE                |JARDIM DOS COMERCIARIOS                           |RUA            |JAIR NEGRAO DE LIMA                               |1               |\n",
            "|22/01/2019 11:00  | H08002       |CHOQUE MECANICO COM VITIMA                        |NAO INFORMADO  |NAO INFORMADO  |NAO FATAL       |SIM             |NÃO          |33    |M    |AUTOMOVEL                     |BELO HORIZONTE                |SANTA EFIGENIA                                    |RUA            |DOMINGOS VIEIRA                                   |1               |\n",
            "|22/01/2019 11:53  | H01002       |ABALROAMENTO COM VITIMA                           |NAO INFORMADO  |NAO INFORMADO  |SEM FERIMENTOS  |SIM             |NÃO          |38    |M    |AUTOMOVEL                     |BELO HORIZONTE                |ADALBERTO PINHEIRO                                |PCA            |NOSSA SENHORA DA PAZ                              |2               |\n",
            "|22/01/2019 18:36  | H01002       |ABALROAMENTO COM VITIMA                           |BOM            |ASFALTO        |NAO FATAL       |SIM             |NÃO          |38    |F    |MOTOCICLETA                   |BELO HORIZONTE                |SAVASSI                                           |RUA            |PROFESSOR MORAES                                  |4               |\n",
            "|23/03/2019 14:26  | H01002       |ABALROAMENTO COM VITIMA                           |BOM            |ASFALTO        |NAO FATAL       |SIM             |NÃO          |24    |M    |MOTOCICLETA                   |BELO HORIZONTE                |CAICARA ADELAIDE                                  |ROD            |ANEL RODOVIARIO CELSO MELLO AZEVEDO               |1               |\n",
            "|23/03/2019 19:38  | H01002       |ABALROAMENTO COM VITIMA                           |BOM            |ASFALTO        |SEM FERIMENTOS  |SIM             |NÃO          |56    |M    |AUTOMOVEL                     |BELO HORIZONTE                |SERRA                                             |RUA            |CICERO FERREIRA                                   |1               |\n",
            "|19/02/2019 21:35  | H04000       |QUEDA DE PESSOA DE VEICULO                        |BOM            |ASFALTO        |SEM FERIMENTOS  |SIM             |NÃO          |55    |M    |ONIBUS                        |BELO HORIZONTE                |GLORIA                                            |AVE            |ABILIO MACHADO                                    |1               |\n",
            "|20/02/2019 12:37  | H04000       |QUEDA DE PESSOA DE VEICULO                        |NAO INFORMADO  |NAO INFORMADO  |NAO FATAL       |SIM             |NÃO          |58    |F    |ONIBUS                        |BELO HORIZONTE                |LINDEIA                                           |RUA            |DAS PERPETUAS                                     |2               |\n",
            "|20/02/2019 23:19  | H01002       |ABALROAMENTO COM VITIMA                           |NAO INFORMADO  |NAO INFORMADO  |NAO INFORMADO   |NÃO             |NÃO INFORMADO|0     |0    |NAO INFORMADO                 |BELO HORIZONTE                |HORTO                                             |RUA            |ANHANGUERA                                        |3               |\n",
            "|14/02/2019 10:00  | H01002       |ABALROAMENTO COM VITIMA                           |NAO INFORMADO  |NAO INFORMADO  |NAO FATAL       |SIM             |NÃO          |38    |M    |MOTOCICLETA                   |BELO HORIZONTE                |BARREIRO                                          |RUA            |AGNELO MACEDO                                     |1               |\n",
            "|25/03/2019 16:48  | H01002       |ABALROAMENTO COM VITIMA                           |NAO INFORMADO  |NAO INFORMADO  |NAO FATAL       |NÃO             |NÃO          |51    |M    |BICICLETA                     |BELO HORIZONTE                |CENTRO                                            |RUA            |ESPIRITO SANTO                                    |1               |\n",
            "|21/02/2019 20:01  | H06002       |ATROPELAMENTO DE PESSOA SEM VITIMA FATAL          |NAO INFORMADO  |NAO INFORMADO  |NAO FATAL       |NÃO             |NÃO          |29    |M    |                              |BELO HORIZONTE                |CIDADE NOVA                                       |RUA            |MAURA                                             |2               |\n",
            "|02/04/2019 08:12  | H01002       |ABALROAMENTO COM VITIMA                           |BOM            |ASFALTO        |NAO FATAL       |SIM             |NÃO          |40    |M    |MOTOCICLETA                   |BELO HORIZONTE                |NAZARE                                            |ROD            |ANEL RODOVIARIO CELSO MELLO AZEVEDO               |1               |\n",
            "|02/04/2019 19:02  | H01002       |ABALROAMENTO COM VITIMA                           |NAO INFORMADO  |NAO INFORMADO  |SEM FERIMENTOS  |SIM             |NÃO          |54    |F    |AUTOMOVEL                     |BELO HORIZONTE                |BARROCA                                           |RUA            |VIAMAO                                            |2               |\n",
            "|24/01/2019 12:22  | H01002       |ABALROAMENTO COM VITIMA                           |BOM            |ASFALTO        |SEM FERIMENTOS  |SIM             |NÃO          |65    |M    |AUTOMOVEL                     |BELO HORIZONTE                |JARDIM AMERICA                                    |AVE            |BARAO HOMEM DE MELO                               |2               |\n",
            "|23/02/2019 10:31  | H09002       |COLISAO DE VEICULOS COM VITIMA                    |NAO INFORMADO  |NAO INFORMADO  |SEM FERIMENTOS  |SIM             |NÃO          |48    |M    |AUTOMOVEL                     |BELO HORIZONTE                |JARDIM AMERICA                                    |RUA            |LINDOLFO DE AZEVEDO                               |1               |\n",
            "|24/02/2019 21:06  | H08002       |CHOQUE MECANICO COM VITIMA                        |BOM            |ASFALTO        |NAO FATAL       |SIM             |NÃO          |31    |F    |AUTOMOVEL                     |BELO HORIZONTE                |MADRE GERTRUDES                                   |AVE            |AMAZONAS                                          |1               |\n",
            "|29/03/2019 15:58  | H08002       |CHOQUE MECANICO COM VITIMA                        |NAO INFORMADO  |NAO INFORMADO  |SEM FERIMENTOS  |SIM             |NÃO          |53    |M    |AUTOMOVEL                     |BELO HORIZONTE                |UNIAO                                             |AVE            |CRISTIANO MACHADO                                 |1               |\n",
            "|26/02/2019 18:40  | H08002       |CHOQUE MECANICO COM VITIMA                        |NAO INFORMADO  |NAO INFORMADO  |NAO FATAL       |SIM             |NÃO          |28    |F    |AUTOMOVEL                     |BELO HORIZONTE                |CACHOEIRINHA                                      |RUA            |DOUTOR ANTONIO MOURAO GUIMARAES                   |2               |\n",
            "|28/02/2019 12:44  | H01002       |ABALROAMENTO COM VITIMA                           |CHUVA          |ASFALTO        |NAO FATAL       |SIM             |NÃO          |35    |M    |MOTOCICLETA                   |BELO HORIZONTE                |BANDEIRANTES                                      |AVE            |SICILIA                                           |2               |\n",
            "|28/02/2019 16:30  | H01002       |ABALROAMENTO COM VITIMA                           |BOM            |ASFALTO        |SEM FERIMENTOS  |SIM             |NÃO          |41    |M    |ONIBUS                        |BELO HORIZONTE                |SUZANA                                            |ROD            |ANEL RODOVIARIO CELSO MELLO AZEVEDO               |1               |\n",
            "|05/04/2019 07:22  | H01002       |ABALROAMENTO COM VITIMA                           |BOM            |ASFALTO        |SEM FERIMENTOS  |SIM             |NÃO          |46    |M    |AUTOMOVEL                     |BELO HORIZONTE                |EUROPA                                            |RUA            |MARECHAL FALCONIERE                               |1               |\n",
            "|01/03/2019 16:19  | H09002       |COLISAO DE VEICULOS COM VITIMA                    |NAO INFORMADO  |NAO INFORMADO  |NAO FATAL       |SIM             |NÃO          |43    |M    |MOTOCICLETA                   |BELO HORIZONTE                |CARLOS PRATES                                     |RUA            |RIO POMBA                                         |2               |\n",
            "|05/03/2019 01:49  | H02002       |CAPOTAMENTO/TOMBAMENTO COM VITIMA                 |BOM            |ASFALTO        |NAO FATAL       |SIM             |NÃO          |65    |M    |AUTOMOVEL                     |BELO HORIZONTE                |MILIONARIOS                                       |RUA            |DONA LALA FERNANDES                               |1               |\n",
            "|07/03/2019 15:20  | H01002       |ABALROAMENTO COM VITIMA                           |BOM            |ASFALTO        |NAO FATAL       |SIM             |NÃO          |46    |F    |AUTOMOVEL                     |BELO HORIZONTE                |COLEGIO BATISTA                                   |RUA            |POUSO ALEGRE                                      |1               |\n",
            "|07/03/2019 20:34  | H01002       |ABALROAMENTO COM VITIMA                           |BOM            |ASFALTO        |SEM FERIMENTOS  |SIM             |NÃO          |30    |M    |CAMIONETA                     |BELO HORIZONTE                |SAO LUIZ                                          |AVE            |SANTA ROSA                                        |1               |\n",
            "|02/01/2019 16:56  | H06002       |ATROPELAMENTO DE PESSOA SEM VITIMA FATAL          |NAO INFORMADO  |NAO INFORMADO  |NAO FATAL       |NÃO             |NÃO          |50    |M    |                              |BELO HORIZONTE                |SANTA EFIGENIA                                    |AVE            |FRANCISCO SALES                                   |3               |\n",
            "+------------------+--------------+--------------------------------------------------+---------------+---------------+----------------+----------------+-------------+------+-----+------------------------------+------------------------------+--------------------------------------------------+---------------+--------------------------------------------------+----------------+\n",
            "only showing top 100 rows\n",
            "\n"
          ]
        }
      ]
    }
  ]
}