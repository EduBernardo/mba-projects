{
  "nbformat": 4,
  "nbformat_minor": 0,
  "metadata": {
    "kernelspec": {
      "display_name": "Python 2",
      "language": "python",
      "name": "python2"
    },
    "language_info": {
      "codemirror_mode": {
        "name": "ipython",
        "version": 2
      },
      "file_extension": ".py",
      "mimetype": "text/x-python",
      "name": "python",
      "nbconvert_exporter": "python",
      "pygments_lexer": "ipython2",
      "version": "2.7.12"
    },
    "colab": {
      "name": "Eduardo Luiz Bernardo da Silva - ES_23_Aula_05_Spark.ipynb",
      "provenance": [],
      "collapsed_sections": [],
      "include_colab_link": true
    }
  },
  "cells": [
    {
      "cell_type": "markdown",
      "metadata": {
        "id": "view-in-github",
        "colab_type": "text"
      },
      "source": [
        "<a href=\"https://colab.research.google.com/github/EduBernardo/mba-projects/blob/master/Eduardo_Luiz_Bernardo_da_Silva_ES_23_Aula_05_Spark.ipynb\" target=\"_parent\"><img src=\"https://colab.research.google.com/assets/colab-badge.svg\" alt=\"Open In Colab\"/></a>"
      ]
    },
    {
      "cell_type": "markdown",
      "metadata": {
        "id": "lecRuw9FROSC"
      },
      "source": [
        "## Carregando dados no spark"
      ]
    },
    {
      "cell_type": "code",
      "metadata": {
        "id": "zPg_sbkyRPbU",
        "colab": {
          "base_uri": "https://localhost:8080/"
        },
        "outputId": "ab844f42-7ddf-4387-c4cb-8716be09eb4a"
      },
      "source": [
        "!apt-get install openjdk-8-jdk-headless -qq > /dev/null\n",
        "!wget -q https://archive.apache.org/dist/spark/spark-2.4.4/spark-2.4.4-bin-hadoop2.7.tgz\n",
        "!tar xf spark-2.4.4-bin-hadoop2.7.tgz\n",
        "!pip install -q findspark\n",
        "!pip install -q df2gspread"
      ],
      "execution_count": 1,
      "outputs": [
        {
          "output_type": "stream",
          "name": "stdout",
          "text": [
            "\u001b[?25l\r\u001b[K     |█████▉                          | 10 kB 20.8 MB/s eta 0:00:01\r\u001b[K     |███████████▋                    | 20 kB 23.8 MB/s eta 0:00:01\r\u001b[K     |█████████████████▌              | 30 kB 29.4 MB/s eta 0:00:01\r\u001b[K     |███████████████████████▎        | 40 kB 18.9 MB/s eta 0:00:01\r\u001b[K     |█████████████████████████████▏  | 51 kB 8.9 MB/s eta 0:00:01\r\u001b[K     |████████████████████████████████| 56 kB 2.1 MB/s \n",
            "\u001b[?25h  Building wheel for df2gspread (setup.py) ... \u001b[?25l\u001b[?25hdone\n",
            "\u001b[31mERROR: pip's dependency resolver does not currently take into account all the packages that are installed. This behaviour is the source of the following dependency conflicts.\n",
            "firebase-admin 4.4.0 requires google-api-python-client>=1.7.8, but you have google-api-python-client 1.6.7 which is incompatible.\n",
            "earthengine-api 0.1.312 requires google-api-python-client<2,>=1.12.1, but you have google-api-python-client 1.6.7 which is incompatible.\u001b[0m\n"
          ]
        }
      ]
    },
    {
      "cell_type": "code",
      "metadata": {
        "id": "ypvJ-mC8Sv6t"
      },
      "source": [
        "import os\n",
        "os.environ[\"JAVA_HOME\"] = \"/usr/lib/jvm/java-8-openjdk-amd64\"\n",
        "os.environ[\"SPARK_HOME\"] = \"/content/spark-2.4.4-bin-hadoop2.7\"\n",
        " \n",
        "# tornar o pyspark \"importável\"\n",
        "import findspark\n",
        "findspark.init('spark-2.4.4-bin-hadoop2.7')\n",
        "\n",
        "from pyspark.sql import SparkSession\n",
        "\n",
        "spark = SparkSession.builder \\\n",
        "  .master('local[*]') \\\n",
        "  .getOrCreate()"
      ],
      "execution_count": 2,
      "outputs": []
    },
    {
      "cell_type": "code",
      "metadata": {
        "colab": {
          "base_uri": "https://localhost:8080/"
        },
        "id": "q1mY32y_4QfD",
        "outputId": "a199b68a-89bb-4836-eac1-328adf363025"
      },
      "source": [
        "from google.colab import drive\n",
        "drive.mount('/content/drive')"
      ],
      "execution_count": 3,
      "outputs": [
        {
          "output_type": "stream",
          "name": "stdout",
          "text": [
            "Mounted at /content/drive\n"
          ]
        }
      ]
    },
    {
      "cell_type": "code",
      "metadata": {
        "colab": {
          "base_uri": "https://localhost:8080/"
        },
        "id": "WJ2oQPAxROSF",
        "outputId": "dc985807-a8fc-49ef-f316-4fba71bfd2d0"
      },
      "source": [
        "# carregando arquivos do hdfs\n",
        "\n",
        "df = spark.read.csv(\"beneficios.csv\", sep=';', header=True, encoding = 'latin1', inferSchema=True)\n",
        "\n",
        "df.show(100)"
      ],
      "execution_count": 4,
      "outputs": [
        {
          "output_type": "stream",
          "name": "stdout",
          "text": [
            "+-----+----------+---------+--------------------+----+\n",
            "|qt_sm|idade_conc|     sexo|             especie| cid|\n",
            "+-----+----------+---------+--------------------+----+\n",
            "|  1.0|        72|Masculino|Pensão por Morte ...|null|\n",
            "|2.813|        67|Masculino|Aposentadoria por...|null|\n",
            "|  1.0|        56| Feminino|Pensão por Morte ...|null|\n",
            "|  1.0|        60|Masculino|Aposentadoria por...|null|\n",
            "|  1.0|        66|Masculino|Amparo Social ao ...|null|\n",
            "|1.111|        36|Masculino|Auxílio Doenca Pr...|null|\n",
            "|  1.0|        63| Feminino|Aposentadoria por...|null|\n",
            "|  1.0|        51| Feminino|Aposentadoria por...|null|\n",
            "|  1.0|        60|Masculino|Aposentadoria por...|null|\n",
            "|  1.0|        55| Feminino|Aposentadoria por...|null|\n",
            "|  1.0|        60|Masculino|Aposentadoria por...|null|\n",
            "|  1.0|        57| Feminino|Aposentadoria por...|null|\n",
            "|  1.0|        56| Feminino|Aposentadoria por...|null|\n",
            "|  1.0|        57|Masculino|Auxílio Doenca Pr...|S821|\n",
            "|  1.0|        35| Feminino|Auxílio Doenca Pr...|C448|\n",
            "|  1.0|        45|Masculino|Auxílio Doenca Pr...|M658|\n",
            "|  1.0|        30| Feminino|Auxílio Doenca Pr...|I081|\n",
            "|  1.0|        48| Feminino|Auxílio Doenca Pr...|M501|\n",
            "|  1.0|        57|Masculino|Auxílio Doenca Pr...|I890|\n",
            "|  1.0|        29|Masculino|Auxílio Doenca Pr...|null|\n",
            "|  1.0|        45| Feminino|Auxílio Doenca Pr...|M511|\n",
            "|  1.0|        47| Feminino|Auxílio Doenca Pr...|M531|\n",
            "|  1.0|        51| Feminino|Auxílio Doenca Pr...|M511|\n",
            "|  1.0|        57| Feminino|Auxílio Doenca Pr...|null|\n",
            "|  1.0|        35|Masculino|Auxílio Doenca Pr...|M511|\n",
            "|  1.0|        30| Feminino|Auxílio Doenca Pr...|G402|\n",
            "|  1.0|        60|Masculino|Aposentadoria por...|null|\n",
            "|  1.0|        13| Feminino|Pensão por Morte ...|null|\n",
            "|  1.0|        55| Feminino|Aposentadoria por...|null|\n",
            "|  1.0|        60| Feminino|Pensão por Morte ...|null|\n",
            "|  1.0|        55| Feminino|Aposentadoria por...|null|\n",
            "|  1.0|        55| Feminino|Pensão por Morte ...|null|\n",
            "|  1.0|        65| Feminino|Amparo Social ao ...|null|\n",
            "|  1.0|        56| Feminino|Pensão por Morte ...|null|\n",
            "|  1.0|        77|Masculino|Pensão por Morte ...|null|\n",
            "|  1.0|        60|Masculino|Aposentadoria por...|null|\n",
            "|  1.0|        89| Feminino|Pensão por Morte ...|null|\n",
            "|  1.0|        77| Feminino|Pensão por Morte ...|null|\n",
            "|  1.0|        65| Feminino|Amparo Social ao ...|null|\n",
            "|  1.0|        67| Feminino|Amparo Social ao ...|null|\n",
            "|  1.0|        62| Feminino|Aposentadoria por...|null|\n",
            "|  1.0|        62|Masculino|Aposentadoria por...|null|\n",
            "|  1.0|        55| Feminino|Aposentadoria por...|null|\n",
            "|  1.0|        55| Feminino|Aposentadoria por...|null|\n",
            "|  1.0|        55| Feminino|Aposentadoria por...|null|\n",
            "|  1.0|        65| Feminino|Amparo Social ao ...|null|\n",
            "|  1.0|        56| Feminino|Pensão por Morte ...|null|\n",
            "|  1.0|        82| Feminino|Pensão por Morte ...|null|\n",
            "|  1.0|        64|Masculino|Aposentadoria por...|null|\n",
            "|  1.0|        84|Masculino|Pensão por Morte ...|null|\n",
            "|1.944|        59| Feminino|Aposentadoria por...|null|\n",
            "|1.283|        42| Feminino|Auxílio Doenca Pr...|null|\n",
            "|  1.0|        78| Feminino|Pensão por Morte ...|null|\n",
            "|1.098|        60| Feminino|Aposentadoria por...|null|\n",
            "|  1.0|        42| Feminino|Auxílio Salario M...|null|\n",
            "|1.369|        65|Masculino|Aposentadoria por...|null|\n",
            "|  1.0|        65|Masculino|Amparo Social ao ...|null|\n",
            "|1.491|         7| Feminino|Pensão por Morte ...|null|\n",
            "|  1.0|        65| Feminino|Pensão por Morte ...|null|\n",
            "|  1.0|        68| Feminino|Pensão por Morte ...|null|\n",
            "|  1.0|        75| Feminino|Pensão por Morte ...|null|\n",
            "|  1.0|        60|Masculino|Aposentadoria por...|null|\n",
            "|  1.0|        60|Masculino|Aposentadoria por...|null|\n",
            "|  1.0|        57| Feminino|Pensão por Morte ...|null|\n",
            "|  1.0|        17| Feminino|Auxílio Salario M...|null|\n",
            "|  1.0|        32| Feminino|Auxílio Salario M...|null|\n",
            "| 1.71|        56|Masculino|Auxílio Doenca Pr...|C448|\n",
            "|  1.0|        58| Feminino|Auxílio Doenca Pr...|M199|\n",
            "|  1.0|        46| Feminino|Auxílio Doenca Pr...|null|\n",
            "|  1.0|        59| Feminino|Pensão por Morte ...|null|\n",
            "|  1.0|        75| Feminino|Pensão por Morte ...|null|\n",
            "|  1.0|        31| Feminino|Auxílio Salario M...|null|\n",
            "|  1.0|        61| Feminino|Pensão por Morte ...|null|\n",
            "|  1.0|        63| Feminino|Pensão por Morte ...|null|\n",
            "| 1.44|        30|Masculino|Auxílio Doenca po...|S623|\n",
            "|  1.0|        55| Feminino|Aposentadoria por...|null|\n",
            "|1.262|        62|Masculino|Aposentadoria por...|null|\n",
            "|  1.0|        10|Masculino|Pensão por Morte ...|null|\n",
            "|  1.0|        89|Masculino|Pensão por Morte ...|null|\n",
            "|1.757|        34|Masculino|Auxílio Doenca Pr...|S822|\n",
            "|  1.0|        30|Masculino|Auxílio Doenca Pr...|S067|\n",
            "|  1.0|        57|Masculino|Auxílio Doenca Pr...|M545|\n",
            "|  1.0|        33|Masculino|Auxílio Doenca po...|S424|\n",
            "|1.151|        34| Feminino|Auxílio Doenca Pr...|null|\n",
            "|2.005|        53|Masculino|Auxílio Doenca Pr...|I500|\n",
            "|  1.0|        52| Feminino|Auxílio Doenca Pr...|null|\n",
            "|1.276|        28|Masculino|Auxílio Doenca Pr...|S420|\n",
            "|  1.0|        55| Feminino|Auxílio Doenca Pr...|S525|\n",
            "|  1.0|        48| Feminino|Auxílio Doenca Pr...|null|\n",
            "|1.243|        51|Masculino|Auxílio Doenca Pr...|null|\n",
            "|  1.0|        48| Feminino|Auxílio Doenca Pr...|F329|\n",
            "|1.639|        50| Feminino|Auxílio Doenca Pr...|null|\n",
            "|  1.0|        51| Feminino|Auxílio Doenca Pr...|null|\n",
            "|  1.0|        56| Feminino|Auxílio Doenca Pr...| C56|\n",
            "|  1.0|        59| Feminino|Auxílio Doenca Pr...|M179|\n",
            "|  1.0|        44|Masculino|Auxílio Doenca Pr...|B349|\n",
            "|  1.0|        51|Masculino|Auxílio Doenca Pr...|B342|\n",
            "|  1.0|        65| Feminino|Pensão por Morte ...|null|\n",
            "|  1.0|        68| Feminino|Pensão por Morte ...|null|\n",
            "|  1.0|        23| Feminino|Auxílio Salario M...|null|\n",
            "+-----+----------+---------+--------------------+----+\n",
            "only showing top 100 rows\n",
            "\n"
          ]
        }
      ]
    },
    {
      "cell_type": "markdown",
      "metadata": {
        "id": "-oDjaFS3ROSG"
      },
      "source": [
        "# Selecionando colunas"
      ]
    },
    {
      "cell_type": "code",
      "metadata": {
        "id": "TqJ3kC_TROSG",
        "colab": {
          "base_uri": "https://localhost:8080/"
        },
        "outputId": "25a0e766-450e-4fa8-a53c-8a57763b4a66"
      },
      "source": [
        "df.select('especie','sexo','idade_conc').show()"
      ],
      "execution_count": 8,
      "outputs": [
        {
          "output_type": "stream",
          "name": "stdout",
          "text": [
            "+--------------------+---------+----------+\n",
            "|             especie|     sexo|idade_conc|\n",
            "+--------------------+---------+----------+\n",
            "|Pensão por Morte ...|Masculino|        72|\n",
            "|Aposentadoria por...|Masculino|        67|\n",
            "|Pensão por Morte ...| Feminino|        56|\n",
            "|Aposentadoria por...|Masculino|        60|\n",
            "|Amparo Social ao ...|Masculino|        66|\n",
            "|Auxílio Doenca Pr...|Masculino|        36|\n",
            "|Aposentadoria por...| Feminino|        63|\n",
            "|Aposentadoria por...| Feminino|        51|\n",
            "|Aposentadoria por...|Masculino|        60|\n",
            "|Aposentadoria por...| Feminino|        55|\n",
            "|Aposentadoria por...|Masculino|        60|\n",
            "|Aposentadoria por...| Feminino|        57|\n",
            "|Aposentadoria por...| Feminino|        56|\n",
            "|Auxílio Doenca Pr...|Masculino|        57|\n",
            "|Auxílio Doenca Pr...| Feminino|        35|\n",
            "|Auxílio Doenca Pr...|Masculino|        45|\n",
            "|Auxílio Doenca Pr...| Feminino|        30|\n",
            "|Auxílio Doenca Pr...| Feminino|        48|\n",
            "|Auxílio Doenca Pr...|Masculino|        57|\n",
            "|Auxílio Doenca Pr...|Masculino|        29|\n",
            "+--------------------+---------+----------+\n",
            "only showing top 20 rows\n",
            "\n"
          ]
        }
      ]
    },
    {
      "cell_type": "markdown",
      "metadata": {
        "id": "cK84OEjhROSH"
      },
      "source": [
        "## Filtrando dados"
      ]
    },
    {
      "cell_type": "code",
      "metadata": {
        "id": "3JBSpEA8ROSH",
        "colab": {
          "base_uri": "https://localhost:8080/"
        },
        "outputId": "5b5c63d8-deb4-4c2e-a560-d27e900ddf22"
      },
      "source": [
        "# usando coluna do tipo boolean\n",
        "\n",
        "df2 = df.filter(df.sexo == 'Feminino')\n",
        "\n",
        "# usando uma expressão SQL\n",
        "\n",
        "df3 = df.filter(\"sexo == 'Masculino'\")\n",
        "\n",
        "df2.show()\n",
        "df3.show()"
      ],
      "execution_count": 9,
      "outputs": [
        {
          "output_type": "stream",
          "name": "stdout",
          "text": [
            "+-----+----------+--------+--------------------+----+\n",
            "|qt_sm|idade_conc|    sexo|             especie| cid|\n",
            "+-----+----------+--------+--------------------+----+\n",
            "|  1.0|        56|Feminino|Pensão por Morte ...|null|\n",
            "|  1.0|        63|Feminino|Aposentadoria por...|null|\n",
            "|  1.0|        51|Feminino|Aposentadoria por...|null|\n",
            "|  1.0|        55|Feminino|Aposentadoria por...|null|\n",
            "|  1.0|        57|Feminino|Aposentadoria por...|null|\n",
            "|  1.0|        56|Feminino|Aposentadoria por...|null|\n",
            "|  1.0|        35|Feminino|Auxílio Doenca Pr...|C448|\n",
            "|  1.0|        30|Feminino|Auxílio Doenca Pr...|I081|\n",
            "|  1.0|        48|Feminino|Auxílio Doenca Pr...|M501|\n",
            "|  1.0|        45|Feminino|Auxílio Doenca Pr...|M511|\n",
            "|  1.0|        47|Feminino|Auxílio Doenca Pr...|M531|\n",
            "|  1.0|        51|Feminino|Auxílio Doenca Pr...|M511|\n",
            "|  1.0|        57|Feminino|Auxílio Doenca Pr...|null|\n",
            "|  1.0|        30|Feminino|Auxílio Doenca Pr...|G402|\n",
            "|  1.0|        13|Feminino|Pensão por Morte ...|null|\n",
            "|  1.0|        55|Feminino|Aposentadoria por...|null|\n",
            "|  1.0|        60|Feminino|Pensão por Morte ...|null|\n",
            "|  1.0|        55|Feminino|Aposentadoria por...|null|\n",
            "|  1.0|        55|Feminino|Pensão por Morte ...|null|\n",
            "|  1.0|        65|Feminino|Amparo Social ao ...|null|\n",
            "+-----+----------+--------+--------------------+----+\n",
            "only showing top 20 rows\n",
            "\n",
            "+-----+----------+---------+--------------------+----+\n",
            "|qt_sm|idade_conc|     sexo|             especie| cid|\n",
            "+-----+----------+---------+--------------------+----+\n",
            "|  1.0|        72|Masculino|Pensão por Morte ...|null|\n",
            "|2.813|        67|Masculino|Aposentadoria por...|null|\n",
            "|  1.0|        60|Masculino|Aposentadoria por...|null|\n",
            "|  1.0|        66|Masculino|Amparo Social ao ...|null|\n",
            "|1.111|        36|Masculino|Auxílio Doenca Pr...|null|\n",
            "|  1.0|        60|Masculino|Aposentadoria por...|null|\n",
            "|  1.0|        60|Masculino|Aposentadoria por...|null|\n",
            "|  1.0|        57|Masculino|Auxílio Doenca Pr...|S821|\n",
            "|  1.0|        45|Masculino|Auxílio Doenca Pr...|M658|\n",
            "|  1.0|        57|Masculino|Auxílio Doenca Pr...|I890|\n",
            "|  1.0|        29|Masculino|Auxílio Doenca Pr...|null|\n",
            "|  1.0|        35|Masculino|Auxílio Doenca Pr...|M511|\n",
            "|  1.0|        60|Masculino|Aposentadoria por...|null|\n",
            "|  1.0|        77|Masculino|Pensão por Morte ...|null|\n",
            "|  1.0|        60|Masculino|Aposentadoria por...|null|\n",
            "|  1.0|        62|Masculino|Aposentadoria por...|null|\n",
            "|  1.0|        64|Masculino|Aposentadoria por...|null|\n",
            "|  1.0|        84|Masculino|Pensão por Morte ...|null|\n",
            "|1.369|        65|Masculino|Aposentadoria por...|null|\n",
            "|  1.0|        65|Masculino|Amparo Social ao ...|null|\n",
            "+-----+----------+---------+--------------------+----+\n",
            "only showing top 20 rows\n",
            "\n"
          ]
        }
      ]
    },
    {
      "cell_type": "code",
      "metadata": {
        "id": "7qPVbis1ROSI",
        "colab": {
          "base_uri": "https://localhost:8080/"
        },
        "outputId": "522327a9-e387-47a3-c189-80ca087bf236"
      },
      "source": [
        "# duas ou mais condições\n",
        "\n",
        "df2 = df.filter((df.idade_conc > 70) & (df.sexo == 'Feminino'))\n",
        "df2.show()\n",
        "\n",
        "df3 = df.filter(\"idade_conc > 70 and sexo == 'Feminino'\")\n",
        "df3.show()"
      ],
      "execution_count": 10,
      "outputs": [
        {
          "output_type": "stream",
          "name": "stdout",
          "text": [
            "+-----+----------+--------+--------------------+----+\n",
            "|qt_sm|idade_conc|    sexo|             especie| cid|\n",
            "+-----+----------+--------+--------------------+----+\n",
            "|  1.0|        89|Feminino|Pensão por Morte ...|null|\n",
            "|  1.0|        77|Feminino|Pensão por Morte ...|null|\n",
            "|  1.0|        82|Feminino|Pensão por Morte ...|null|\n",
            "|  1.0|        78|Feminino|Pensão por Morte ...|null|\n",
            "|  1.0|        75|Feminino|Pensão por Morte ...|null|\n",
            "|  1.0|        75|Feminino|Pensão por Morte ...|null|\n",
            "|  1.0|        72|Feminino|Pensão por Morte ...|null|\n",
            "|  1.0|        75|Feminino|Pensão por Morte ...|null|\n",
            "|  1.0|        72|Feminino|Pensão por Morte ...|null|\n",
            "|  1.0|        77|Feminino|Pensão por Morte ...|null|\n",
            "|4.613|        73|Feminino|Pensão por Morte ...|null|\n",
            "|1.093|        80|Feminino|Pensão por Morte ...|null|\n",
            "|  1.0|        75|Feminino|Pensão por Morte ...|null|\n",
            "|  1.0|        72|Feminino|Pensão por Morte ...|null|\n",
            "|2.294|        89|Feminino|Pensão por Morte ...|null|\n",
            "|  1.0|        82|Feminino|Pensão por Morte ...|null|\n",
            "|  1.0|        77|Feminino|Pensão por Morte ...|null|\n",
            "|  1.0|        86|Feminino|Pensão por Morte ...|null|\n",
            "|  1.0|        88|Feminino|Pensão por Morte ...|null|\n",
            "|  1.0|        81|Feminino|Pensão por Morte ...|null|\n",
            "+-----+----------+--------+--------------------+----+\n",
            "only showing top 20 rows\n",
            "\n",
            "+-----+----------+--------+--------------------+----+\n",
            "|qt_sm|idade_conc|    sexo|             especie| cid|\n",
            "+-----+----------+--------+--------------------+----+\n",
            "|  1.0|        89|Feminino|Pensão por Morte ...|null|\n",
            "|  1.0|        77|Feminino|Pensão por Morte ...|null|\n",
            "|  1.0|        82|Feminino|Pensão por Morte ...|null|\n",
            "|  1.0|        78|Feminino|Pensão por Morte ...|null|\n",
            "|  1.0|        75|Feminino|Pensão por Morte ...|null|\n",
            "|  1.0|        75|Feminino|Pensão por Morte ...|null|\n",
            "|  1.0|        72|Feminino|Pensão por Morte ...|null|\n",
            "|  1.0|        75|Feminino|Pensão por Morte ...|null|\n",
            "|  1.0|        72|Feminino|Pensão por Morte ...|null|\n",
            "|  1.0|        77|Feminino|Pensão por Morte ...|null|\n",
            "|4.613|        73|Feminino|Pensão por Morte ...|null|\n",
            "|1.093|        80|Feminino|Pensão por Morte ...|null|\n",
            "|  1.0|        75|Feminino|Pensão por Morte ...|null|\n",
            "|  1.0|        72|Feminino|Pensão por Morte ...|null|\n",
            "|2.294|        89|Feminino|Pensão por Morte ...|null|\n",
            "|  1.0|        82|Feminino|Pensão por Morte ...|null|\n",
            "|  1.0|        77|Feminino|Pensão por Morte ...|null|\n",
            "|  1.0|        86|Feminino|Pensão por Morte ...|null|\n",
            "|  1.0|        88|Feminino|Pensão por Morte ...|null|\n",
            "|  1.0|        81|Feminino|Pensão por Morte ...|null|\n",
            "+-----+----------+--------+--------------------+----+\n",
            "only showing top 20 rows\n",
            "\n"
          ]
        }
      ]
    },
    {
      "cell_type": "code",
      "metadata": {
        "id": "I73lHHweROSJ",
        "colab": {
          "base_uri": "https://localhost:8080/"
        },
        "outputId": "6288d9b3-2bac-43a8-81af-b5371a4d2ce2"
      },
      "source": [
        "# utilizando a expressão \"like\"\n",
        "\n",
        "df2 = df.filter(df.especie.like('%Acidente%'))\n",
        "df2.show(truncate=False)\n",
        "\n",
        "df3 = df.filter(\"especie like '%Acidente%'\")\n",
        "df3.show()"
      ],
      "execution_count": 11,
      "outputs": [
        {
          "output_type": "stream",
          "name": "stdout",
          "text": [
            "+-----+----------+---------+---------------------------------------+----+\n",
            "|qt_sm|idade_conc|sexo     |especie                                |cid |\n",
            "+-----+----------+---------+---------------------------------------+----+\n",
            "|1.44 |30        |Masculino|Auxílio Doenca por Acidente do Trabalho|S623|\n",
            "|1.0  |33        |Masculino|Auxílio Doenca por Acidente do Trabalho|S424|\n",
            "|1.0  |35        |Masculino|Auxílio Doenca por Acidente do Trabalho|S421|\n",
            "|1.151|28        |Masculino|Auxílio Doenca por Acidente do Trabalho|M235|\n",
            "|1.0  |57        |Masculino|Auxílio Doenca por Acidente do Trabalho|null|\n",
            "|3.657|34        |Masculino|Auxílio Doenca por Acidente do Trabalho|M255|\n",
            "|2.54 |43        |Feminino |Auxílio Doenca por Acidente do Trabalho|M754|\n",
            "|1.23 |37        |Masculino|Auxílio Doenca por Acidente do Trabalho|M659|\n",
            "|3.986|46        |Masculino|Auxílio Doenca por Acidente do Trabalho|F321|\n",
            "|1.189|32        |Feminino |Auxílio Doenca por Acidente do Trabalho|null|\n",
            "|2.298|53        |Masculino|Auxílio Doenca por Acidente do Trabalho|S923|\n",
            "|1.313|51        |Masculino|Auxílio Doenca por Acidente do Trabalho|null|\n",
            "|1.0  |43        |Masculino|Auxílio Doenca por Acidente do Trabalho|S626|\n",
            "|1.032|33        |Masculino|Auxílio Doenca por Acidente do Trabalho|null|\n",
            "|1.0  |31        |Masculino|Auxílio Doenca por Acidente do Trabalho|S661|\n",
            "|1.844|41        |Masculino|Auxílio Doenca por Acidente do Trabalho|null|\n",
            "|4.523|37        |Masculino|Auxílio Doenca por Acidente do Trabalho|M659|\n",
            "|2.535|41        |Feminino |Auxílio Doenca por Acidente do Trabalho|null|\n",
            "|1.337|30        |Masculino|Auxílio Doenca por Acidente do Trabalho|S723|\n",
            "|1.152|56        |Masculino|Auxílio Doenca por Acidente do Trabalho|null|\n",
            "+-----+----------+---------+---------------------------------------+----+\n",
            "only showing top 20 rows\n",
            "\n",
            "+-----+----------+---------+--------------------+----+\n",
            "|qt_sm|idade_conc|     sexo|             especie| cid|\n",
            "+-----+----------+---------+--------------------+----+\n",
            "| 1.44|        30|Masculino|Auxílio Doenca po...|S623|\n",
            "|  1.0|        33|Masculino|Auxílio Doenca po...|S424|\n",
            "|  1.0|        35|Masculino|Auxílio Doenca po...|S421|\n",
            "|1.151|        28|Masculino|Auxílio Doenca po...|M235|\n",
            "|  1.0|        57|Masculino|Auxílio Doenca po...|null|\n",
            "|3.657|        34|Masculino|Auxílio Doenca po...|M255|\n",
            "| 2.54|        43| Feminino|Auxílio Doenca po...|M754|\n",
            "| 1.23|        37|Masculino|Auxílio Doenca po...|M659|\n",
            "|3.986|        46|Masculino|Auxílio Doenca po...|F321|\n",
            "|1.189|        32| Feminino|Auxílio Doenca po...|null|\n",
            "|2.298|        53|Masculino|Auxílio Doenca po...|S923|\n",
            "|1.313|        51|Masculino|Auxílio Doenca po...|null|\n",
            "|  1.0|        43|Masculino|Auxílio Doenca po...|S626|\n",
            "|1.032|        33|Masculino|Auxílio Doenca po...|null|\n",
            "|  1.0|        31|Masculino|Auxílio Doenca po...|S661|\n",
            "|1.844|        41|Masculino|Auxílio Doenca po...|null|\n",
            "|4.523|        37|Masculino|Auxílio Doenca po...|M659|\n",
            "|2.535|        41| Feminino|Auxílio Doenca po...|null|\n",
            "|1.337|        30|Masculino|Auxílio Doenca po...|S723|\n",
            "|1.152|        56|Masculino|Auxílio Doenca po...|null|\n",
            "+-----+----------+---------+--------------------+----+\n",
            "only showing top 20 rows\n",
            "\n"
          ]
        }
      ]
    },
    {
      "cell_type": "markdown",
      "metadata": {
        "id": "OUWERZgA0zzp"
      },
      "source": [
        "## Criando colunas derivadas"
      ]
    },
    {
      "cell_type": "code",
      "metadata": {
        "id": "pahmy-QSROSK",
        "colab": {
          "base_uri": "https://localhost:8080/"
        },
        "outputId": "aa189fc5-d5a1-4bbb-cf15-88a884b70f2c"
      },
      "source": [
        "df2 = df.select(\"especie\", (df.qt_sm * 1200).alias(\"valor_renda\"))\n",
        "df2.show()\n",
        "\n",
        "df3 = df.selectExpr(\"especie\", \"qt_sm * 1200 as valor_renda\")\n",
        "df3.show()\n"
      ],
      "execution_count": 12,
      "outputs": [
        {
          "output_type": "stream",
          "name": "stdout",
          "text": [
            "+--------------------+------------------+\n",
            "|             especie|       valor_renda|\n",
            "+--------------------+------------------+\n",
            "|Pensão por Morte ...|            1200.0|\n",
            "|Aposentadoria por...|3375.6000000000004|\n",
            "|Pensão por Morte ...|            1200.0|\n",
            "|Aposentadoria por...|            1200.0|\n",
            "|Amparo Social ao ...|            1200.0|\n",
            "|Auxílio Doenca Pr...|            1333.2|\n",
            "|Aposentadoria por...|            1200.0|\n",
            "|Aposentadoria por...|            1200.0|\n",
            "|Aposentadoria por...|            1200.0|\n",
            "|Aposentadoria por...|            1200.0|\n",
            "|Aposentadoria por...|            1200.0|\n",
            "|Aposentadoria por...|            1200.0|\n",
            "|Aposentadoria por...|            1200.0|\n",
            "|Auxílio Doenca Pr...|            1200.0|\n",
            "|Auxílio Doenca Pr...|            1200.0|\n",
            "|Auxílio Doenca Pr...|            1200.0|\n",
            "|Auxílio Doenca Pr...|            1200.0|\n",
            "|Auxílio Doenca Pr...|            1200.0|\n",
            "|Auxílio Doenca Pr...|            1200.0|\n",
            "|Auxílio Doenca Pr...|            1200.0|\n",
            "+--------------------+------------------+\n",
            "only showing top 20 rows\n",
            "\n",
            "+--------------------+------------------+\n",
            "|             especie|       valor_renda|\n",
            "+--------------------+------------------+\n",
            "|Pensão por Morte ...|            1200.0|\n",
            "|Aposentadoria por...|3375.6000000000004|\n",
            "|Pensão por Morte ...|            1200.0|\n",
            "|Aposentadoria por...|            1200.0|\n",
            "|Amparo Social ao ...|            1200.0|\n",
            "|Auxílio Doenca Pr...|            1333.2|\n",
            "|Aposentadoria por...|            1200.0|\n",
            "|Aposentadoria por...|            1200.0|\n",
            "|Aposentadoria por...|            1200.0|\n",
            "|Aposentadoria por...|            1200.0|\n",
            "|Aposentadoria por...|            1200.0|\n",
            "|Aposentadoria por...|            1200.0|\n",
            "|Aposentadoria por...|            1200.0|\n",
            "|Auxílio Doenca Pr...|            1200.0|\n",
            "|Auxílio Doenca Pr...|            1200.0|\n",
            "|Auxílio Doenca Pr...|            1200.0|\n",
            "|Auxílio Doenca Pr...|            1200.0|\n",
            "|Auxílio Doenca Pr...|            1200.0|\n",
            "|Auxílio Doenca Pr...|            1200.0|\n",
            "|Auxílio Doenca Pr...|            1200.0|\n",
            "+--------------------+------------------+\n",
            "only showing top 20 rows\n",
            "\n"
          ]
        }
      ]
    },
    {
      "cell_type": "markdown",
      "metadata": {
        "id": "eSZRjTeW2Yrx"
      },
      "source": [
        "# Adicionado nova coluna"
      ]
    },
    {
      "cell_type": "code",
      "metadata": {
        "colab": {
          "base_uri": "https://localhost:8080/"
        },
        "id": "F9ZsS4ZI1iic",
        "outputId": "5f15b6fc-74d3-4379-f30a-f5966a85a03e"
      },
      "source": [
        "df = df.withColumn(\"valor_renda\", df.qt_sm * 1200)\n",
        "\n",
        "df.show()"
      ],
      "execution_count": 13,
      "outputs": [
        {
          "output_type": "stream",
          "name": "stdout",
          "text": [
            "+-----+----------+---------+--------------------+----+------------------+\n",
            "|qt_sm|idade_conc|     sexo|             especie| cid|       valor_renda|\n",
            "+-----+----------+---------+--------------------+----+------------------+\n",
            "|  1.0|        72|Masculino|Pensão por Morte ...|null|            1200.0|\n",
            "|2.813|        67|Masculino|Aposentadoria por...|null|3375.6000000000004|\n",
            "|  1.0|        56| Feminino|Pensão por Morte ...|null|            1200.0|\n",
            "|  1.0|        60|Masculino|Aposentadoria por...|null|            1200.0|\n",
            "|  1.0|        66|Masculino|Amparo Social ao ...|null|            1200.0|\n",
            "|1.111|        36|Masculino|Auxílio Doenca Pr...|null|            1333.2|\n",
            "|  1.0|        63| Feminino|Aposentadoria por...|null|            1200.0|\n",
            "|  1.0|        51| Feminino|Aposentadoria por...|null|            1200.0|\n",
            "|  1.0|        60|Masculino|Aposentadoria por...|null|            1200.0|\n",
            "|  1.0|        55| Feminino|Aposentadoria por...|null|            1200.0|\n",
            "|  1.0|        60|Masculino|Aposentadoria por...|null|            1200.0|\n",
            "|  1.0|        57| Feminino|Aposentadoria por...|null|            1200.0|\n",
            "|  1.0|        56| Feminino|Aposentadoria por...|null|            1200.0|\n",
            "|  1.0|        57|Masculino|Auxílio Doenca Pr...|S821|            1200.0|\n",
            "|  1.0|        35| Feminino|Auxílio Doenca Pr...|C448|            1200.0|\n",
            "|  1.0|        45|Masculino|Auxílio Doenca Pr...|M658|            1200.0|\n",
            "|  1.0|        30| Feminino|Auxílio Doenca Pr...|I081|            1200.0|\n",
            "|  1.0|        48| Feminino|Auxílio Doenca Pr...|M501|            1200.0|\n",
            "|  1.0|        57|Masculino|Auxílio Doenca Pr...|I890|            1200.0|\n",
            "|  1.0|        29|Masculino|Auxílio Doenca Pr...|null|            1200.0|\n",
            "+-----+----------+---------+--------------------+----+------------------+\n",
            "only showing top 20 rows\n",
            "\n"
          ]
        }
      ]
    },
    {
      "cell_type": "code",
      "metadata": {
        "colab": {
          "base_uri": "https://localhost:8080/"
        },
        "id": "eRwfPVHsCZL4",
        "outputId": "51720958-0df6-485d-b46b-af08aad01711"
      },
      "source": [
        "df_beneficios = df.withColumn('valor_renda', df.qt_sm * 1200)\n",
        "\n",
        "df_beneficios.show()"
      ],
      "execution_count": 14,
      "outputs": [
        {
          "output_type": "stream",
          "name": "stdout",
          "text": [
            "+-----+----------+---------+--------------------+----+------------------+\n",
            "|qt_sm|idade_conc|     sexo|             especie| cid|       valor_renda|\n",
            "+-----+----------+---------+--------------------+----+------------------+\n",
            "|  1.0|        72|Masculino|Pensão por Morte ...|null|            1200.0|\n",
            "|2.813|        67|Masculino|Aposentadoria por...|null|3375.6000000000004|\n",
            "|  1.0|        56| Feminino|Pensão por Morte ...|null|            1200.0|\n",
            "|  1.0|        60|Masculino|Aposentadoria por...|null|            1200.0|\n",
            "|  1.0|        66|Masculino|Amparo Social ao ...|null|            1200.0|\n",
            "|1.111|        36|Masculino|Auxílio Doenca Pr...|null|            1333.2|\n",
            "|  1.0|        63| Feminino|Aposentadoria por...|null|            1200.0|\n",
            "|  1.0|        51| Feminino|Aposentadoria por...|null|            1200.0|\n",
            "|  1.0|        60|Masculino|Aposentadoria por...|null|            1200.0|\n",
            "|  1.0|        55| Feminino|Aposentadoria por...|null|            1200.0|\n",
            "|  1.0|        60|Masculino|Aposentadoria por...|null|            1200.0|\n",
            "|  1.0|        57| Feminino|Aposentadoria por...|null|            1200.0|\n",
            "|  1.0|        56| Feminino|Aposentadoria por...|null|            1200.0|\n",
            "|  1.0|        57|Masculino|Auxílio Doenca Pr...|S821|            1200.0|\n",
            "|  1.0|        35| Feminino|Auxílio Doenca Pr...|C448|            1200.0|\n",
            "|  1.0|        45|Masculino|Auxílio Doenca Pr...|M658|            1200.0|\n",
            "|  1.0|        30| Feminino|Auxílio Doenca Pr...|I081|            1200.0|\n",
            "|  1.0|        48| Feminino|Auxílio Doenca Pr...|M501|            1200.0|\n",
            "|  1.0|        57|Masculino|Auxílio Doenca Pr...|I890|            1200.0|\n",
            "|  1.0|        29|Masculino|Auxílio Doenca Pr...|null|            1200.0|\n",
            "+-----+----------+---------+--------------------+----+------------------+\n",
            "only showing top 20 rows\n",
            "\n"
          ]
        }
      ]
    },
    {
      "cell_type": "markdown",
      "metadata": {
        "id": "ZkAbCB0bROSK"
      },
      "source": [
        "## Unindo tabelas (join)"
      ]
    },
    {
      "cell_type": "code",
      "metadata": {
        "id": "gD57ga4fROSL",
        "colab": {
          "base_uri": "https://localhost:8080/"
        },
        "outputId": "0d39e6c4-f98b-46a9-b574-7f7ced59acf7"
      },
      "source": [
        "# carregando a tabela doencas\n",
        "\n",
        "df_doencas = spark.read.csv(\"doencas.csv\", sep=';', header=True, encoding = 'latin1')\n",
        "df_doencas.show(truncate=False)"
      ],
      "execution_count": 15,
      "outputs": [
        {
          "output_type": "stream",
          "name": "stdout",
          "text": [
            "+-------------+----------------------------------------------------+-----------+----------+\n",
            "|cid          |doenca                                              |causa_obito|restr_sexo|\n",
            "+-------------+----------------------------------------------------+-----------+----------+\n",
            "|NÃO INFORMADO|NÃO INFORMADO                                       |null       |null      |\n",
            "|A000         |Cólera devida a Vibrio cholerae 01, biótipo cholerae|null       |null      |\n",
            "|A001         |Cólera devida a Vibrio cholerae 01, biótipo El Tor  |null       |null      |\n",
            "|A009         |Cólera não especificada                             |null       |null      |\n",
            "|A010         |Febre tifóide                                       |null       |null      |\n",
            "|A011         |Febre paratifóide A                                 |null       |null      |\n",
            "|A012         |Febre paratifóide B                                 |null       |null      |\n",
            "|A013         |Febre paratifóide C                                 |null       |null      |\n",
            "|A014         |Febre paratifóide não especificada                  |null       |null      |\n",
            "|A020         |Enterite por salmonela                              |null       |null      |\n",
            "|A021         |Septicemia por salmonela                            |null       |null      |\n",
            "|A022         |Infecções localizadas por salmonela                 |null       |null      |\n",
            "|A028         |Outras infecções especificadas por salmonela        |null       |null      |\n",
            "|A029         |Infecção não especificada por salmonela             |null       |null      |\n",
            "|A030         |Shiguelose devida a Shigella dysenteriae            |null       |null      |\n",
            "|A031         |Shiguelose devida a Shigella flexneri               |null       |null      |\n",
            "|A032         |Shiguelose devida a Shigella boydii                 |null       |null      |\n",
            "|A033         |Shiguelose devida a Shigella sonnei                 |null       |null      |\n",
            "|A038         |Outras shigueloses                                  |null       |null      |\n",
            "|A039         |Shiguelose não especificada                         |null       |null      |\n",
            "+-------------+----------------------------------------------------+-----------+----------+\n",
            "only showing top 20 rows\n",
            "\n"
          ]
        }
      ]
    },
    {
      "cell_type": "code",
      "metadata": {
        "id": "hM0l4tf3ROSL",
        "colab": {
          "base_uri": "https://localhost:8080/"
        },
        "outputId": "f957f9e3-ac61-484c-91e3-66c0d835ed21"
      },
      "source": [
        "# juntando as tabelas\n",
        "\n",
        "df_beneficios_doencas = df_beneficios.join(df_doencas, 'cid', how='left')\n",
        "\n",
        "df_beneficios_doencas.show()"
      ],
      "execution_count": 16,
      "outputs": [
        {
          "output_type": "stream",
          "name": "stdout",
          "text": [
            "+----+-----+----------+---------+--------------------+------------------+--------------------+-----------+----------+\n",
            "| cid|qt_sm|idade_conc|     sexo|             especie|       valor_renda|              doenca|causa_obito|restr_sexo|\n",
            "+----+-----+----------+---------+--------------------+------------------+--------------------+-----------+----------+\n",
            "|null|  1.0|        72|Masculino|Pensão por Morte ...|            1200.0|                null|       null|      null|\n",
            "|null|2.813|        67|Masculino|Aposentadoria por...|3375.6000000000004|                null|       null|      null|\n",
            "|null|  1.0|        56| Feminino|Pensão por Morte ...|            1200.0|                null|       null|      null|\n",
            "|null|  1.0|        60|Masculino|Aposentadoria por...|            1200.0|                null|       null|      null|\n",
            "|null|  1.0|        66|Masculino|Amparo Social ao ...|            1200.0|                null|       null|      null|\n",
            "|null|1.111|        36|Masculino|Auxílio Doenca Pr...|            1333.2|                null|       null|      null|\n",
            "|null|  1.0|        63| Feminino|Aposentadoria por...|            1200.0|                null|       null|      null|\n",
            "|null|  1.0|        51| Feminino|Aposentadoria por...|            1200.0|                null|       null|      null|\n",
            "|null|  1.0|        60|Masculino|Aposentadoria por...|            1200.0|                null|       null|      null|\n",
            "|null|  1.0|        55| Feminino|Aposentadoria por...|            1200.0|                null|       null|      null|\n",
            "|null|  1.0|        60|Masculino|Aposentadoria por...|            1200.0|                null|       null|      null|\n",
            "|null|  1.0|        57| Feminino|Aposentadoria por...|            1200.0|                null|       null|      null|\n",
            "|null|  1.0|        56| Feminino|Aposentadoria por...|            1200.0|                null|       null|      null|\n",
            "|S821|  1.0|        57|Masculino|Auxílio Doenca Pr...|            1200.0|Fratura da extrem...|       null|      null|\n",
            "|C448|  1.0|        35| Feminino|Auxílio Doenca Pr...|            1200.0|Neoplasia maligna...|       null|      null|\n",
            "|M658|  1.0|        45|Masculino|Auxílio Doenca Pr...|            1200.0|Outras sinovites ...|          N|      null|\n",
            "|I081|  1.0|        30| Feminino|Auxílio Doenca Pr...|            1200.0|Transtornos de am...|       null|      null|\n",
            "|M501|  1.0|        48| Feminino|Auxílio Doenca Pr...|            1200.0|Transtorno do dis...|       null|      null|\n",
            "|I890|  1.0|        57|Masculino|Auxílio Doenca Pr...|            1200.0|Linfedema não cla...|       null|      null|\n",
            "|null|  1.0|        29|Masculino|Auxílio Doenca Pr...|            1200.0|                null|       null|      null|\n",
            "+----+-----+----------+---------+--------------------+------------------+--------------------+-----------+----------+\n",
            "only showing top 20 rows\n",
            "\n"
          ]
        }
      ]
    },
    {
      "cell_type": "markdown",
      "source": [
        "## Execício 01\n",
        "\n",
        "Utilizendo os arquivos beneficios.csv e doencas.csv:\n",
        "  1. Liste a idade, sexo e especie apenas para o sexo 'Masculino' cuja doença seja restrita ao sexo 'F' "
      ],
      "metadata": {
        "id": "4Q0AjbmFD929"
      }
    },
    {
      "cell_type": "code",
      "source": [
        "#df_select = df_beneficios_doencas.select('idade_conc','sexo','especie', 'doenca','restr_sexo')\n",
        "df_fraudes = df_beneficios_doencas.filter((df_beneficios_doencas.sexo == 'Masculino') & (df_beneficios_doencas.restr_sexo == 'Feminino'))\n",
        "df_fraudes.show(truncate=False)"
      ],
      "metadata": {
        "colab": {
          "base_uri": "https://localhost:8080/"
        },
        "id": "0EYsgbeTGloM",
        "outputId": "d6906ce7-3829-46b3-86b1-a03237392157"
      },
      "execution_count": 19,
      "outputs": [
        {
          "output_type": "stream",
          "name": "stdout",
          "text": [
            "+----+-----+----------+---------+-----------------------------+-----------+------------------------------+-----------+----------+\n",
            "|cid |qt_sm|idade_conc|sexo     |especie                      |valor_renda|doenca                        |causa_obito|restr_sexo|\n",
            "+----+-----+----------+---------+-----------------------------+-----------+------------------------------+-----------+----------+\n",
            "|O200|1.0  |39        |Masculino|Auxílio Doenca Previdenciário|1200.0     |Ameaça de aborto              |null       |Feminino  |\n",
            "|N750|1.0  |41        |Masculino|Auxílio Doenca Previdenciário|1200.0     |Cisto da glândula de Bartholin|null       |Feminino  |\n",
            "|D280|1.0  |25        |Masculino|Auxílio Doenca Previdenciário|1200.0     |Neoplasia benigna da vulva    |null       |Feminino  |\n",
            "+----+-----+----------+---------+-----------------------------+-----------+------------------------------+-----------+----------+\n",
            "\n"
          ]
        }
      ]
    },
    {
      "cell_type": "code",
      "metadata": {
        "id": "1qWzXCi_mdX6",
        "outputId": "13e0c764-d797-41bf-fc4c-4a5b1ac8994b",
        "colab": {
          "base_uri": "https://localhost:8080/"
        }
      },
      "source": [
        "# alteração condicional do valor da coluna\n",
        "import pyspark.sql.functions as F\n",
        "\n",
        "df_beneficios_doencas = df_beneficios_doencas.withColumn('restr_sexo',\n",
        "                                 F.when(df_beneficios_doencas.restr_sexo == 'F', 'Feminino') \\\n",
        "                                 .when(df_beneficios_doencas.restr_sexo == 'M', 'Masculino') \\\n",
        "                                 .otherwise('Não especificado'))\n",
        "\n",
        "df_beneficios_doencas.show()"
      ],
      "execution_count": 18,
      "outputs": [
        {
          "output_type": "stream",
          "name": "stdout",
          "text": [
            "+----+-----+----------+---------+--------------------+------------------+--------------------+-----------+----------------+\n",
            "| cid|qt_sm|idade_conc|     sexo|             especie|       valor_renda|              doenca|causa_obito|      restr_sexo|\n",
            "+----+-----+----------+---------+--------------------+------------------+--------------------+-----------+----------------+\n",
            "|null|  1.0|        72|Masculino|Pensão por Morte ...|            1200.0|                null|       null|Não especificado|\n",
            "|null|2.813|        67|Masculino|Aposentadoria por...|3375.6000000000004|                null|       null|Não especificado|\n",
            "|null|  1.0|        56| Feminino|Pensão por Morte ...|            1200.0|                null|       null|Não especificado|\n",
            "|null|  1.0|        60|Masculino|Aposentadoria por...|            1200.0|                null|       null|Não especificado|\n",
            "|null|  1.0|        66|Masculino|Amparo Social ao ...|            1200.0|                null|       null|Não especificado|\n",
            "|null|1.111|        36|Masculino|Auxílio Doenca Pr...|            1333.2|                null|       null|Não especificado|\n",
            "|null|  1.0|        63| Feminino|Aposentadoria por...|            1200.0|                null|       null|Não especificado|\n",
            "|null|  1.0|        51| Feminino|Aposentadoria por...|            1200.0|                null|       null|Não especificado|\n",
            "|null|  1.0|        60|Masculino|Aposentadoria por...|            1200.0|                null|       null|Não especificado|\n",
            "|null|  1.0|        55| Feminino|Aposentadoria por...|            1200.0|                null|       null|Não especificado|\n",
            "|null|  1.0|        60|Masculino|Aposentadoria por...|            1200.0|                null|       null|Não especificado|\n",
            "|null|  1.0|        57| Feminino|Aposentadoria por...|            1200.0|                null|       null|Não especificado|\n",
            "|null|  1.0|        56| Feminino|Aposentadoria por...|            1200.0|                null|       null|Não especificado|\n",
            "|S821|  1.0|        57|Masculino|Auxílio Doenca Pr...|            1200.0|Fratura da extrem...|       null|Não especificado|\n",
            "|C448|  1.0|        35| Feminino|Auxílio Doenca Pr...|            1200.0|Neoplasia maligna...|       null|Não especificado|\n",
            "|M658|  1.0|        45|Masculino|Auxílio Doenca Pr...|            1200.0|Outras sinovites ...|          N|Não especificado|\n",
            "|I081|  1.0|        30| Feminino|Auxílio Doenca Pr...|            1200.0|Transtornos de am...|       null|Não especificado|\n",
            "|M501|  1.0|        48| Feminino|Auxílio Doenca Pr...|            1200.0|Transtorno do dis...|       null|Não especificado|\n",
            "|I890|  1.0|        57|Masculino|Auxílio Doenca Pr...|            1200.0|Linfedema não cla...|       null|Não especificado|\n",
            "|null|  1.0|        29|Masculino|Auxílio Doenca Pr...|            1200.0|                null|       null|Não especificado|\n",
            "+----+-----+----------+---------+--------------------+------------------+--------------------+-----------+----------------+\n",
            "only showing top 20 rows\n",
            "\n"
          ]
        }
      ]
    },
    {
      "cell_type": "code",
      "metadata": {
        "id": "Ce9jv8Kie8Ld",
        "outputId": "19452e09-fbb1-4a13-ea2d-508ff311423b",
        "colab": {
          "base_uri": "https://localhost:8080/"
        }
      },
      "source": [
        "df_beneficios_doencas = df_beneficios_doencas.fillna(\"doenca\",\"Não se aplica\")\n",
        "df_beneficios_doencas.show()"
      ],
      "execution_count": 22,
      "outputs": [
        {
          "output_type": "stream",
          "name": "stdout",
          "text": [
            "+----+-----+----------+---------+--------------------+------------------+--------------------+-----------+----------------+\n",
            "| cid|qt_sm|idade_conc|     sexo|             especie|       valor_renda|              doenca|causa_obito|      restr_sexo|\n",
            "+----+-----+----------+---------+--------------------+------------------+--------------------+-----------+----------------+\n",
            "|null|  1.0|        72|Masculino|Pensão por Morte ...|            1200.0|                null|       null|Não especificado|\n",
            "|null|2.813|        67|Masculino|Aposentadoria por...|3375.6000000000004|                null|       null|Não especificado|\n",
            "|null|  1.0|        56| Feminino|Pensão por Morte ...|            1200.0|                null|       null|Não especificado|\n",
            "|null|  1.0|        60|Masculino|Aposentadoria por...|            1200.0|                null|       null|Não especificado|\n",
            "|null|  1.0|        66|Masculino|Amparo Social ao ...|            1200.0|                null|       null|Não especificado|\n",
            "|null|1.111|        36|Masculino|Auxílio Doenca Pr...|            1333.2|                null|       null|Não especificado|\n",
            "|null|  1.0|        63| Feminino|Aposentadoria por...|            1200.0|                null|       null|Não especificado|\n",
            "|null|  1.0|        51| Feminino|Aposentadoria por...|            1200.0|                null|       null|Não especificado|\n",
            "|null|  1.0|        60|Masculino|Aposentadoria por...|            1200.0|                null|       null|Não especificado|\n",
            "|null|  1.0|        55| Feminino|Aposentadoria por...|            1200.0|                null|       null|Não especificado|\n",
            "|null|  1.0|        60|Masculino|Aposentadoria por...|            1200.0|                null|       null|Não especificado|\n",
            "|null|  1.0|        57| Feminino|Aposentadoria por...|            1200.0|                null|       null|Não especificado|\n",
            "|null|  1.0|        56| Feminino|Aposentadoria por...|            1200.0|                null|       null|Não especificado|\n",
            "|S821|  1.0|        57|Masculino|Auxílio Doenca Pr...|            1200.0|Fratura da extrem...|       null|Não especificado|\n",
            "|C448|  1.0|        35| Feminino|Auxílio Doenca Pr...|            1200.0|Neoplasia maligna...|       null|Não especificado|\n",
            "|M658|  1.0|        45|Masculino|Auxílio Doenca Pr...|            1200.0|Outras sinovites ...|          N|Não especificado|\n",
            "|I081|  1.0|        30| Feminino|Auxílio Doenca Pr...|            1200.0|Transtornos de am...|       null|Não especificado|\n",
            "|M501|  1.0|        48| Feminino|Auxílio Doenca Pr...|            1200.0|Transtorno do dis...|       null|Não especificado|\n",
            "|I890|  1.0|        57|Masculino|Auxílio Doenca Pr...|            1200.0|Linfedema não cla...|       null|Não especificado|\n",
            "|null|  1.0|        29|Masculino|Auxílio Doenca Pr...|            1200.0|                null|       null|Não especificado|\n",
            "+----+-----+----------+---------+--------------------+------------------+--------------------+-----------+----------------+\n",
            "only showing top 20 rows\n",
            "\n"
          ]
        }
      ]
    },
    {
      "cell_type": "code",
      "metadata": {
        "id": "gXf9cVcS4UnC"
      },
      "source": [
        "# registrando o data frame como tabela temporaria\n",
        "df_beneficios_doencas.registerTempTable(\"tmp_beneficios_doencas\")"
      ],
      "execution_count": 23,
      "outputs": []
    },
    {
      "cell_type": "code",
      "metadata": {
        "colab": {
          "base_uri": "https://localhost:8080/"
        },
        "id": "SDS12lVC5hbh",
        "outputId": "ec11e58c-9a20-46a3-f15a-e342414781a5"
      },
      "source": [
        "# após registrar como tabela temporária, é possível usar linguagem SQL para acessar os dados\n",
        "\n",
        "spark.sql(\"select sexo, mean(idade_conc) as media_idade from tmp_beneficios_doencas group by sexo\").show()"
      ],
      "execution_count": 24,
      "outputs": [
        {
          "output_type": "stream",
          "name": "stdout",
          "text": [
            "+---------+-----------------+\n",
            "|     sexo|      media_idade|\n",
            "+---------+-----------------+\n",
            "|  Feminin|             22.0|\n",
            "| Feminino|47.14460988261955|\n",
            "|Masculino|47.39319063659234|\n",
            "+---------+-----------------+\n",
            "\n"
          ]
        }
      ]
    },
    {
      "cell_type": "markdown",
      "metadata": {
        "id": "Mw4iwH3cNyUc"
      },
      "source": [
        "## Agrupando dados"
      ]
    },
    {
      "cell_type": "code",
      "metadata": {
        "colab": {
          "base_uri": "https://localhost:8080/"
        },
        "id": "4PtKyv0kN0--",
        "outputId": "17f3e9e9-e23f-47d6-9cef-34bcd722bd65"
      },
      "source": [
        "df_beneficios_doencas.groupby('especie','sexo').avg('qt_sm').show(truncate=False)\n",
        "\n",
        "df_beneficios_doencas.groupby('especie','sexo').count().show(truncate=False)\n"
      ],
      "execution_count": 32,
      "outputs": [
        {
          "output_type": "stream",
          "name": "stdout",
          "text": [
            "+---------------------------------------+---------+-------------------+\n",
            "|especie                                |sexo     |avg(qt_sm)         |\n",
            "+---------------------------------------+---------+-------------------+\n",
            "|Auxílio Reclusão                       |Feminino |1.1613124999999997 |\n",
            "|Pensão por Morte de Anistiados         |Feminino |40.4895            |\n",
            "|Auxilio União                          |Masculino|0.5740000000000021 |\n",
            "|Auxílio Salario Maternidade            |Feminino |1.0582657718120798 |\n",
            "|Pensão Vitalícia Sindrome Talidomida   |Feminino |0.946              |\n",
            "|Pensão por Morte Previdenciária        |Masculino|1.2181810532876292 |\n",
            "|Aposentadoria por Tempo de Contribuição|Masculino|2.1177023626879414 |\n",
            "|Auxílio Acidente Previdenciário        |Feminino |0.6881929824561405 |\n",
            "|Auxílio Suplementar Acidente Trabalho  |Masculino|0.29066666666666663|\n",
            "|Amparo Social ao Idoso                 |Feminino |1.0                |\n",
            "|Aposentadoria Especial                 |Feminino |3.020172043010752  |\n",
            "|Pensão Vitalícia Sindrome Talidomida   |Masculino|1.0                |\n",
            "|Pensão por Morte de Ex-Combatente      |Feminino |4.777              |\n",
            "|Pensao Especial Hanseniase Lei 11520/07|Masculino|1.973              |\n",
            "|Aposentadoria Invalidez Previdenciária |Feminino |1.1509388777555116 |\n",
            "|Aposentadoria Invalidez Previdenciária |Masculino|1.3067827476038338 |\n",
            "|Aposent. Invalidez Acidente Trabalho   |Masculino|1.8656842105263152 |\n",
            "|Auxilio União                          |Feminino |0.5739999999999991 |\n",
            "|null                                   |Feminin  |1.0                |\n",
            "|Amparo Social ao Idoso                 |Masculino|1.0                |\n",
            "+---------------------------------------+---------+-------------------+\n",
            "only showing top 20 rows\n",
            "\n",
            "+---------------------------------------+---------+-----+\n",
            "|especie                                |sexo     |count|\n",
            "+---------------------------------------+---------+-----+\n",
            "|Auxílio Reclusão                       |Feminino |112  |\n",
            "|Pensão por Morte de Anistiados         |Feminino |2    |\n",
            "|Auxilio União                          |Masculino|318  |\n",
            "|Auxílio Salario Maternidade            |Feminino |8195 |\n",
            "|Pensão Vitalícia Sindrome Talidomida   |Feminino |1    |\n",
            "|Pensão por Morte Previdenciária        |Masculino|3209 |\n",
            "|Aposentadoria por Tempo de Contribuição|Masculino|3259 |\n",
            "|Auxílio Acidente Previdenciário        |Feminino |57   |\n",
            "|Auxílio Suplementar Acidente Trabalho  |Masculino|3    |\n",
            "|Amparo Social ao Idoso                 |Feminino |2508 |\n",
            "|Aposentadoria Especial                 |Feminino |93   |\n",
            "|Pensão Vitalícia Sindrome Talidomida   |Masculino|4    |\n",
            "|Pensão por Morte de Ex-Combatente      |Feminino |1    |\n",
            "|Pensao Especial Hanseniase Lei 11520/07|Masculino|1    |\n",
            "|Aposentadoria Invalidez Previdenciária |Feminino |998  |\n",
            "|Aposentadoria Invalidez Previdenciária |Masculino|1252 |\n",
            "|Aposent. Invalidez Acidente Trabalho   |Masculino|57   |\n",
            "|Auxilio União                          |Feminino |180  |\n",
            "|null                                   |Feminin  |1    |\n",
            "|Amparo Social ao Idoso                 |Masculino|1760 |\n",
            "+---------------------------------------+---------+-----+\n",
            "only showing top 20 rows\n",
            "\n"
          ]
        }
      ]
    },
    {
      "cell_type": "code",
      "metadata": {
        "colab": {
          "base_uri": "https://localhost:8080/"
        },
        "id": "7a4IFufTPntb",
        "outputId": "9cbf2bfb-c115-4146-ff96-65bd5d690167"
      },
      "source": [
        "#usando funções de agregação\n",
        "\n",
        "import pyspark.sql.functions as F\n",
        "df_beneficios_doencas.groupby('especie','sexo').agg(F.avg('idade_conc').alias('media_idade'), F.sum('qt_sm').alias('valor_total')).show(truncate=False)"
      ],
      "execution_count": 34,
      "outputs": [
        {
          "output_type": "stream",
          "name": "stdout",
          "text": [
            "+---------------------------------------+---------+------------------+------------------+\n",
            "|especie                                |sexo     |media_idade       |valor_total       |\n",
            "+---------------------------------------+---------+------------------+------------------+\n",
            "|Auxílio Reclusão                       |Feminino |17.419642857142858|130.06699999999998|\n",
            "|Pensão por Morte de Anistiados         |Feminino |76.5              |80.979            |\n",
            "|Auxilio União                          |Masculino|21.28930817610063 |182.53200000000066|\n",
            "|Auxílio Salario Maternidade            |Feminino |29.09810860280659 |8672.487999999994 |\n",
            "|Pensão Vitalícia Sindrome Talidomida   |Feminino |61.0              |0.946             |\n",
            "|Pensão por Morte Previdenciária        |Masculino|53.65440947335619 |3909.1430000000023|\n",
            "|Aposentadoria por Tempo de Contribuição|Masculino|57.175207118748084|6901.592000000001 |\n",
            "|Auxílio Acidente Previdenciário        |Feminino |40.01754385964912 |39.227000000000004|\n",
            "|Auxílio Suplementar Acidente Trabalho  |Masculino|67.0              |0.8719999999999999|\n",
            "|Amparo Social ao Idoso                 |Feminino |66.79186602870813 |2508.0            |\n",
            "|Aposentadoria Especial                 |Feminino |50.83870967741935 |280.8759999999999 |\n",
            "|Pensão Vitalícia Sindrome Talidomida   |Masculino|41.25             |4.0               |\n",
            "|Pensão por Morte de Ex-Combatente      |Feminino |62.0              |4.777             |\n",
            "|Pensao Especial Hanseniase Lei 11520/07|Masculino|56.0              |1.973             |\n",
            "|Aposentadoria Invalidez Previdenciária |Feminino |53.70440881763527 |1148.6370000000006|\n",
            "|Aposentadoria Invalidez Previdenciária |Masculino|53.313897763578275|1636.092          |\n",
            "|Aposent. Invalidez Acidente Trabalho   |Masculino|47.719298245614034|106.34399999999997|\n",
            "|Auxilio União                          |Feminino |25.7              |103.31999999999984|\n",
            "|null                                   |Feminin  |22.0              |1.0               |\n",
            "|Amparo Social ao Idoso                 |Masculino|66.63352272727273 |1760.0            |\n",
            "+---------------------------------------+---------+------------------+------------------+\n",
            "only showing top 20 rows\n",
            "\n"
          ]
        }
      ]
    },
    {
      "cell_type": "markdown",
      "metadata": {
        "id": "mrFXCyNxROSP"
      },
      "source": [
        "## Gravando dados"
      ]
    },
    {
      "cell_type": "code",
      "metadata": {
        "id": "fFwkyR7QROSP"
      },
      "source": [
        "# gravando dados no sistema de arquivos\n",
        "\n",
        "df_beneficios_doencas.repartition(1).write.csv('beneficios_doencas', mode='overwrite', header=True)"
      ],
      "execution_count": 35,
      "outputs": []
    },
    {
      "cell_type": "code",
      "metadata": {
        "id": "lFP2nBiUROSP"
      },
      "source": [
        "# gravando dados como tabelas (hive)\n",
        "\n",
        "df_beneficios_doencas.repartition(1).write.saveAsTable('beneficios_doencas', mode='overwrite', format=\"ORC\")"
      ],
      "execution_count": 36,
      "outputs": []
    },
    {
      "cell_type": "code",
      "metadata": {
        "id": "kD_sv3fsROSP",
        "colab": {
          "base_uri": "https://localhost:8080/"
        },
        "outputId": "ac374504-3f42-45a2-a328-ea2b0d8b9bd4"
      },
      "source": [
        "spark.sql('select * from beneficios_doencas').show()"
      ],
      "execution_count": 37,
      "outputs": [
        {
          "output_type": "stream",
          "name": "stdout",
          "text": [
            "+----+-----+----------+---------+--------------------+------------------+--------------------+-----------+----------------+\n",
            "| cid|qt_sm|idade_conc|     sexo|             especie|       valor_renda|              doenca|causa_obito|      restr_sexo|\n",
            "+----+-----+----------+---------+--------------------+------------------+--------------------+-----------+----------------+\n",
            "|null|  1.0|        72|Masculino|Pensão por Morte ...|            1200.0|                null|       null|Não especificado|\n",
            "|null|2.813|        67|Masculino|Aposentadoria por...|3375.6000000000004|                null|       null|Não especificado|\n",
            "|null|  1.0|        56| Feminino|Pensão por Morte ...|            1200.0|                null|       null|Não especificado|\n",
            "|null|  1.0|        60|Masculino|Aposentadoria por...|            1200.0|                null|       null|Não especificado|\n",
            "|null|  1.0|        66|Masculino|Amparo Social ao ...|            1200.0|                null|       null|Não especificado|\n",
            "|null|1.111|        36|Masculino|Auxílio Doenca Pr...|            1333.2|                null|       null|Não especificado|\n",
            "|null|  1.0|        63| Feminino|Aposentadoria por...|            1200.0|                null|       null|Não especificado|\n",
            "|null|  1.0|        51| Feminino|Aposentadoria por...|            1200.0|                null|       null|Não especificado|\n",
            "|null|  1.0|        60|Masculino|Aposentadoria por...|            1200.0|                null|       null|Não especificado|\n",
            "|null|  1.0|        55| Feminino|Aposentadoria por...|            1200.0|                null|       null|Não especificado|\n",
            "|null|  1.0|        60|Masculino|Aposentadoria por...|            1200.0|                null|       null|Não especificado|\n",
            "|null|  1.0|        57| Feminino|Aposentadoria por...|            1200.0|                null|       null|Não especificado|\n",
            "|null|  1.0|        56| Feminino|Aposentadoria por...|            1200.0|                null|       null|Não especificado|\n",
            "|S821|  1.0|        57|Masculino|Auxílio Doenca Pr...|            1200.0|Fratura da extrem...|       null|Não especificado|\n",
            "|C448|  1.0|        35| Feminino|Auxílio Doenca Pr...|            1200.0|Neoplasia maligna...|       null|Não especificado|\n",
            "|M658|  1.0|        45|Masculino|Auxílio Doenca Pr...|            1200.0|Outras sinovites ...|          N|Não especificado|\n",
            "|I081|  1.0|        30| Feminino|Auxílio Doenca Pr...|            1200.0|Transtornos de am...|       null|Não especificado|\n",
            "|M501|  1.0|        48| Feminino|Auxílio Doenca Pr...|            1200.0|Transtorno do dis...|       null|Não especificado|\n",
            "|I890|  1.0|        57|Masculino|Auxílio Doenca Pr...|            1200.0|Linfedema não cla...|       null|Não especificado|\n",
            "|null|  1.0|        29|Masculino|Auxílio Doenca Pr...|            1200.0|                null|       null|Não especificado|\n",
            "+----+-----+----------+---------+--------------------+------------------+--------------------+-----------+----------------+\n",
            "only showing top 20 rows\n",
            "\n"
          ]
        }
      ]
    },
    {
      "cell_type": "markdown",
      "source": [
        "## Exercicio 02\n",
        "\n",
        "1. Crie uma tabela chamada top10_doencas que contenha a doença, o sexo, a média de idade e o total de beneficios para as 10 maiores doenças. Use o método limit(n) para obter as n primeiras linhas do DataFrame;"
      ],
      "metadata": {
        "id": "nChLnJxMGFLN"
      }
    },
    {
      "cell_type": "code",
      "source": [
        "import pyspark.sql.functions as F\n",
        "\n",
        "df_top10dirty = df_beneficios_doencas.groupBy('doenca','sexo').agg(F.avg('idade_conc').alias('media_idade'), F.count('especie').alias('total_benefic'))\n",
        "df_top10sorted = df_top10dirty.filter(df_top10dirty.doenca.isNotNull()).sort(df_top10dirty.total_benefic.desc()).limit(10)\n",
        "df_top10sorted.show(truncate=False)"
      ],
      "metadata": {
        "id": "RPww94K64baT",
        "outputId": "5b4d321b-2a9d-496f-d7f7-96e80a2ae8da",
        "colab": {
          "base_uri": "https://localhost:8080/"
        }
      },
      "execution_count": 56,
      "outputs": [
        {
          "output_type": "stream",
          "name": "stdout",
          "text": [
            "+-----------------------------------------------------------------------------------+---------+------------------+-------------+\n",
            "|doenca                                                                             |sexo     |media_idade       |total_benefic|\n",
            "+-----------------------------------------------------------------------------------+---------+------------------+-------------+\n",
            "|Transtornos de discos lombares e de outros discos intervertebrais com radiculopatia|Masculino|45.77002967359051 |674          |\n",
            "|Fratura da extremidade distal do rádio                                             |Masculino|38.899795501022496|489          |\n",
            "|Infecção por coronavírus de localização não especificada                           |Masculino|43.31611570247934 |484          |\n",
            "|Transtornos de discos lombares e de outros discos intervertebrais com radiculopatia|Feminino |47.80085653104925 |467          |\n",
            "|Dor lombar baixa                                                                   |Masculino|45.68669527896996 |466          |\n",
            "|Infecção por coronavírus de localização não especificada                           |Feminino |40.795918367346935|441          |\n",
            "|Síndrome do manguito rotador                                                       |Feminino |50.93424036281179 |441          |\n",
            "|Dor lombar baixa                                                                   |Feminino |47.31363636363636 |440          |\n",
            "|Fratura da clavícula                                                               |Masculino|35.84686774941996 |431          |\n",
            "|Lumbago com ciática                                                                |Masculino|45.595419847328245|393          |\n",
            "+-----------------------------------------------------------------------------------+---------+------------------+-------------+\n",
            "\n"
          ]
        }
      ]
    },
    {
      "cell_type": "code",
      "source": [
        "df_top10sorted.repartition(1).write.saveAsTable('top10_beneficios', mode='overwrite', format=\"ORC\")"
      ],
      "metadata": {
        "id": "NePGtkgn8qar"
      },
      "execution_count": 57,
      "outputs": []
    },
    {
      "cell_type": "markdown",
      "metadata": {
        "id": "kXes9_5oROSQ"
      },
      "source": [
        "## Convertendo um spark DataFrame para o Pandas\n",
        "\n",
        "df.toPandas() \n",
        "\n",
        "*Ao converter o df para o pandas, a aplicação não mais contará com os recursos de distribuição e paralelismo do Spark/Hadoop\n"
      ]
    },
    {
      "cell_type": "code",
      "source": [
        "pdf2 = df_top10sorted.toPandas()"
      ],
      "metadata": {
        "id": "mp7h2drF-E7b"
      },
      "execution_count": 58,
      "outputs": []
    },
    {
      "cell_type": "code",
      "source": [
        "pdf2"
      ],
      "metadata": {
        "id": "f9UmQwmF-GhS"
      },
      "execution_count": null,
      "outputs": []
    },
    {
      "cell_type": "code",
      "source": [
        "pdf2.groupby('sexo').total_benefic.sum().plot.pie(figsize=(8,8))"
      ],
      "metadata": {
        "id": "dvIAJqNb_YLV",
        "outputId": "fff33806-0a42-4b34-84fb-fc25872e0848",
        "colab": {
          "base_uri": "https://localhost:8080/",
          "height": 483
        }
      },
      "execution_count": 61,
      "outputs": [
        {
          "output_type": "execute_result",
          "data": {
            "text/plain": [
              "<matplotlib.axes._subplots.AxesSubplot at 0x7f417b1e2490>"
            ]
          },
          "metadata": {},
          "execution_count": 61
        },
        {
          "output_type": "display_data",
          "data": {
            "text/plain": [
              "<Figure size 576x576 with 1 Axes>"
            ],
            "image/png": "[encoded data removed]"
          },
          "metadata": {}
        }
      ]
    },
    {
      "cell_type": "code",
      "source": [
        "pdf2[['media_idade','total_benefic']].hist(figsize=(10,5))"
      ],
      "metadata": {
        "id": "8_YD9Ge5_zWu",
        "outputId": "101e62b3-9a34-470e-80ef-19da4cf1b6e7",
        "colab": {
          "base_uri": "https://localhost:8080/",
          "height": 388
        }
      },
      "execution_count": 63,
      "outputs": [
        {
          "output_type": "execute_result",
          "data": {
            "text/plain": [
              "array([[<matplotlib.axes._subplots.AxesSubplot object at 0x7f417a894a50>,\n",
              "        <matplotlib.axes._subplots.AxesSubplot object at 0x7f417a2de250>]],\n",
              "      dtype=object)"
            ]
          },
          "metadata": {},
          "execution_count": 63
        },
        {
          "output_type": "display_data",
          "data": {
            "text/plain": [
              "<Figure size 720x360 with 2 Axes>"
            ],
            "image/png": "[encoded data removed]"
          },
          "metadata": {
            "needs_background": "light"
          }
        }
      ]
    },
    {
      "cell_type": "code",
      "metadata": {
        "id": "gDvIMbVRROSQ"
      },
      "source": [
        "pdf = df_beneficios_doencas.toPandas()"
      ],
      "execution_count": 49,
      "outputs": []
    },
    {
      "cell_type": "code",
      "metadata": {
        "id": "5Sf-baYtROSQ",
        "colab": {
          "base_uri": "https://localhost:8080/",
          "height": 424
        },
        "outputId": "d1bf7bd6-250a-4686-ac23-090143793ab2"
      },
      "source": [
        "pdf"
      ],
      "execution_count": 50,
      "outputs": [
        {
          "output_type": "execute_result",
          "data": {
            "text/plain": [
              "         cid  qt_sm  idade_conc       sexo  \\\n",
              "0       None  1.000        72.0  Masculino   \n",
              "1       None  2.813        67.0  Masculino   \n",
              "2       None  1.000        56.0   Feminino   \n",
              "3       None  1.000        60.0  Masculino   \n",
              "4       None  1.000        66.0  Masculino   \n",
              "...      ...    ...         ...        ...   \n",
              "103386  None  1.000        71.0   Feminino   \n",
              "103387  None  1.000        22.0   Feminino   \n",
              "103388  None  2.034        55.0  Masculino   \n",
              "103389  None  1.000        25.0   Feminino   \n",
              "103390  None  1.000        22.0    Feminin   \n",
              "\n",
              "                                        especie  valor_renda doenca  \\\n",
              "0               Pensão por Morte Previdenciária       1200.0   None   \n",
              "1                       Aposentadoria por Idade       3375.6   None   \n",
              "2               Pensão por Morte Previdenciária       1200.0   None   \n",
              "3                       Aposentadoria por Idade       1200.0   None   \n",
              "4                        Amparo Social ao Idoso       1200.0   None   \n",
              "...                                         ...          ...    ...   \n",
              "103386          Pensão por Morte Previdenciária       1200.0   None   \n",
              "103387              Auxílio Salario Maternidade       1200.0   None   \n",
              "103388  Aposentadoria por Tempo de Contribuição       2440.8   None   \n",
              "103389              Auxílio Salario Maternidade       1200.0   None   \n",
              "103390                                     None       1200.0   None   \n",
              "\n",
              "       causa_obito        restr_sexo  \n",
              "0             None  Não especificado  \n",
              "1             None  Não especificado  \n",
              "2             None  Não especificado  \n",
              "3             None  Não especificado  \n",
              "4             None  Não especificado  \n",
              "...            ...               ...  \n",
              "103386        None  Não especificado  \n",
              "103387        None  Não especificado  \n",
              "103388        None  Não especificado  \n",
              "103389        None  Não especificado  \n",
              "103390        None  Não especificado  \n",
              "\n",
              "[103391 rows x 9 columns]"
            ],
            "text/html": [
              "\n",
              "  <div id=\"df-fdfd2bd3-9971-46e4-9f70-043eada8112d\">\n",
              "    <div class=\"colab-df-container\">\n",
              "      <div>\n",
              "<style scoped>\n",
              "    .dataframe tbody tr th:only-of-type {\n",
              "        vertical-align: middle;\n",
              "    }\n",
              "\n",
              "    .dataframe tbody tr th {\n",
              "        vertical-align: top;\n",
              "    }\n",
              "\n",
              "    .dataframe thead th {\n",
              "        text-align: right;\n",
              "    }\n",
              "</style>\n",
              "<table border=\"1\" class=\"dataframe\">\n",
              "  <thead>\n",
              "    <tr style=\"text-align: right;\">\n",
              "      <th></th>\n",
              "      <th>cid</th>\n",
              "      <th>qt_sm</th>\n",
              "      <th>idade_conc</th>\n",
              "      <th>sexo</th>\n",
              "      <th>especie</th>\n",
              "      <th>valor_renda</th>\n",
              "      <th>doenca</th>\n",
              "      <th>causa_obito</th>\n",
              "      <th>restr_sexo</th>\n",
              "    </tr>\n",
              "  </thead>\n",
              "  <tbody>\n",
              "    <tr>\n",
              "      <th>0</th>\n",
              "      <td>None</td>\n",
              "      <td>1.000</td>\n",
              "      <td>72.0</td>\n",
              "      <td>Masculino</td>\n",
              "      <td>Pensão por Morte Previdenciária</td>\n",
              "      <td>1200.0</td>\n",
              "      <td>None</td>\n",
              "      <td>None</td>\n",
              "      <td>Não especificado</td>\n",
              "    </tr>\n",
              "    <tr>\n",
              "      <th>1</th>\n",
              "      <td>None</td>\n",
              "      <td>2.813</td>\n",
              "      <td>67.0</td>\n",
              "      <td>Masculino</td>\n",
              "      <td>Aposentadoria por Idade</td>\n",
              "      <td>3375.6</td>\n",
              "      <td>None</td>\n",
              "      <td>None</td>\n",
              "      <td>Não especificado</td>\n",
              "    </tr>\n",
              "    <tr>\n",
              "      <th>2</th>\n",
              "      <td>None</td>\n",
              "      <td>1.000</td>\n",
              "      <td>56.0</td>\n",
              "      <td>Feminino</td>\n",
              "      <td>Pensão por Morte Previdenciária</td>\n",
              "      <td>1200.0</td>\n",
              "      <td>None</td>\n",
              "      <td>None</td>\n",
              "      <td>Não especificado</td>\n",
              "    </tr>\n",
              "    <tr>\n",
              "      <th>3</th>\n",
              "      <td>None</td>\n",
              "      <td>1.000</td>\n",
              "      <td>60.0</td>\n",
              "      <td>Masculino</td>\n",
              "      <td>Aposentadoria por Idade</td>\n",
              "      <td>1200.0</td>\n",
              "      <td>None</td>\n",
              "      <td>None</td>\n",
              "      <td>Não especificado</td>\n",
              "    </tr>\n",
              "    <tr>\n",
              "      <th>4</th>\n",
              "      <td>None</td>\n",
              "      <td>1.000</td>\n",
              "      <td>66.0</td>\n",
              "      <td>Masculino</td>\n",
              "      <td>Amparo Social ao Idoso</td>\n",
              "      <td>1200.0</td>\n",
              "      <td>None</td>\n",
              "      <td>None</td>\n",
              "      <td>Não especificado</td>\n",
              "    </tr>\n",
              "    <tr>\n",
              "      <th>...</th>\n",
              "      <td>...</td>\n",
              "      <td>...</td>\n",
              "      <td>...</td>\n",
              "      <td>...</td>\n",
              "      <td>...</td>\n",
              "      <td>...</td>\n",
              "      <td>...</td>\n",
              "      <td>...</td>\n",
              "      <td>...</td>\n",
              "    </tr>\n",
              "    <tr>\n",
              "      <th>103386</th>\n",
              "      <td>None</td>\n",
              "      <td>1.000</td>\n",
              "      <td>71.0</td>\n",
              "      <td>Feminino</td>\n",
              "      <td>Pensão por Morte Previdenciária</td>\n",
              "      <td>1200.0</td>\n",
              "      <td>None</td>\n",
              "      <td>None</td>\n",
              "      <td>Não especificado</td>\n",
              "    </tr>\n",
              "    <tr>\n",
              "      <th>103387</th>\n",
              "      <td>None</td>\n",
              "      <td>1.000</td>\n",
              "      <td>22.0</td>\n",
              "      <td>Feminino</td>\n",
              "      <td>Auxílio Salario Maternidade</td>\n",
              "      <td>1200.0</td>\n",
              "      <td>None</td>\n",
              "      <td>None</td>\n",
              "      <td>Não especificado</td>\n",
              "    </tr>\n",
              "    <tr>\n",
              "      <th>103388</th>\n",
              "      <td>None</td>\n",
              "      <td>2.034</td>\n",
              "      <td>55.0</td>\n",
              "      <td>Masculino</td>\n",
              "      <td>Aposentadoria por Tempo de Contribuição</td>\n",
              "      <td>2440.8</td>\n",
              "      <td>None</td>\n",
              "      <td>None</td>\n",
              "      <td>Não especificado</td>\n",
              "    </tr>\n",
              "    <tr>\n",
              "      <th>103389</th>\n",
              "      <td>None</td>\n",
              "      <td>1.000</td>\n",
              "      <td>25.0</td>\n",
              "      <td>Feminino</td>\n",
              "      <td>Auxílio Salario Maternidade</td>\n",
              "      <td>1200.0</td>\n",
              "      <td>None</td>\n",
              "      <td>None</td>\n",
              "      <td>Não especificado</td>\n",
              "    </tr>\n",
              "    <tr>\n",
              "      <th>103390</th>\n",
              "      <td>None</td>\n",
              "      <td>1.000</td>\n",
              "      <td>22.0</td>\n",
              "      <td>Feminin</td>\n",
              "      <td>None</td>\n",
              "      <td>1200.0</td>\n",
              "      <td>None</td>\n",
              "      <td>None</td>\n",
              "      <td>Não especificado</td>\n",
              "    </tr>\n",
              "  </tbody>\n",
              "</table>\n",
              "<p>103391 rows × 9 columns</p>\n",
              "</div>\n",
              "      <button class=\"colab-df-convert\" onclick=\"convertToInteractive('df-fdfd2bd3-9971-46e4-9f70-043eada8112d')\"\n",
              "              title=\"Convert this dataframe to an interactive table.\"\n",
              "              style=\"display:none;\">\n",
              "        \n",
              "  <svg xmlns=\"http://www.w3.org/2000/svg\" height=\"24px\"viewBox=\"0 0 24 24\"\n",
              "       width=\"24px\">\n",
              "    <path d=\"M0 0h24v24H0V0z\" fill=\"none\"/>\n",
              "    <path d=\"M18.56 5.44l.94 2.06.94-2.06 2.06-.94-2.06-.94-.94-2.06-.94 2.06-2.06.94zm-11 1L8.5 8.5l.94-2.06 2.06-.94-2.06-.94L8.5 2.5l-.94 2.06-2.06.94zm10 10l.94 2.06.94-2.06 2.06-.94-2.06-.94-.94-2.06-.94 2.06-2.06.94z\"/><path d=\"M17.41 7.96l-1.37-1.37c-.4-.4-.92-.59-1.43-.59-.52 0-1.04.2-1.43.59L10.3 9.45l-7.72 7.72c-.78.78-.78 2.05 0 2.83L4 21.41c.39.39.9.59 1.41.59.51 0 1.02-.2 1.41-.59l7.78-7.78 2.81-2.81c.8-.78.8-2.07 0-2.86zM5.41 20L4 18.59l7.72-7.72 1.47 1.35L5.41 20z\"/>\n",
              "  </svg>\n",
              "      </button>\n",
              "      \n",
              "  <style>\n",
              "    .colab-df-container {\n",
              "      display:flex;\n",
              "      flex-wrap:wrap;\n",
              "      gap: 12px;\n",
              "    }\n",
              "\n",
              "    .colab-df-convert {\n",
              "      background-color: #E8F0FE;\n",
              "      border: none;\n",
              "      border-radius: 50%;\n",
              "      cursor: pointer;\n",
              "      display: none;\n",
              "      fill: #1967D2;\n",
              "      height: 32px;\n",
              "      padding: 0 0 0 0;\n",
              "      width: 32px;\n",
              "    }\n",
              "\n",
              "    .colab-df-convert:hover {\n",
              "      background-color: #E2EBFA;\n",
              "      box-shadow: 0px 1px 2px rgba(60, 64, 67, 0.3), 0px 1px 3px 1px rgba(60, 64, 67, 0.15);\n",
              "      fill: #174EA6;\n",
              "    }\n",
              "\n",
              "    [theme=dark] .colab-df-convert {\n",
              "      background-color: #3B4455;\n",
              "      fill: #D2E3FC;\n",
              "    }\n",
              "\n",
              "    [theme=dark] .colab-df-convert:hover {\n",
              "      background-color: #434B5C;\n",
              "      box-shadow: 0px 1px 3px 1px rgba(0, 0, 0, 0.15);\n",
              "      filter: drop-shadow(0px 1px 2px rgba(0, 0, 0, 0.3));\n",
              "      fill: #FFFFFF;\n",
              "    }\n",
              "  </style>\n",
              "\n",
              "      <script>\n",
              "        const buttonEl =\n",
              "          document.querySelector('#df-fdfd2bd3-9971-46e4-9f70-043eada8112d button.colab-df-convert');\n",
              "        buttonEl.style.display =\n",
              "          google.colab.kernel.accessAllowed ? 'block' : 'none';\n",
              "\n",
              "        async function convertToInteractive(key) {\n",
              "          const element = document.querySelector('#df-fdfd2bd3-9971-46e4-9f70-043eada8112d');\n",
              "          const dataTable =\n",
              "            await google.colab.kernel.invokeFunction('convertToInteractive',\n",
              "                                                     [key], {});\n",
              "          if (!dataTable) return;\n",
              "\n",
              "          const docLinkHtml = 'Like what you see? Visit the ' +\n",
              "            '<a target=\"_blank\" href=https://colab.research.google.com/notebooks/data_table.ipynb>data table notebook</a>'\n",
              "            + ' to learn more about interactive tables.';\n",
              "          element.innerHTML = '';\n",
              "          dataTable['output_type'] = 'display_data';\n",
              "          await google.colab.output.renderOutput(dataTable, element);\n",
              "          const docLink = document.createElement('div');\n",
              "          docLink.innerHTML = docLinkHtml;\n",
              "          element.appendChild(docLink);\n",
              "        }\n",
              "      </script>\n",
              "    </div>\n",
              "  </div>\n",
              "  "
            ]
          },
          "metadata": {},
          "execution_count": 50
        }
      ]
    },
    {
      "cell_type": "markdown",
      "metadata": {
        "id": "25bj1a4DPve6"
      },
      "source": [
        "## Exibindo dados em gráficos"
      ]
    },
    {
      "cell_type": "code",
      "metadata": {
        "id": "3nWavBgUROSR",
        "colab": {
          "base_uri": "https://localhost:8080/",
          "height": 483
        },
        "outputId": "54003056-f18f-48f9-e0d2-6cbdff4fb310"
      },
      "source": [
        "pdf.groupby('sexo').valor_renda.sum().plot.pie(figsize=(8,8))"
      ],
      "execution_count": 52,
      "outputs": [
        {
          "output_type": "execute_result",
          "data": {
            "text/plain": [
              "<matplotlib.axes._subplots.AxesSubplot at 0x7f417b41d250>"
            ]
          },
          "metadata": {},
          "execution_count": 52
        },
        {
          "output_type": "display_data",
          "data": {
            "text/plain": [
              "<Figure size 576x576 with 1 Axes>"
            ],
            "image/png": "[encoded data removed]"
          },
          "metadata": {}
        }
      ]
    },
    {
      "cell_type": "code",
      "metadata": {
        "colab": {
          "base_uri": "https://localhost:8080/",
          "height": 513
        },
        "id": "QeX6g1OWVaZn",
        "outputId": "4bb1f8b0-da30-40e8-9512-314c2d490ab3"
      },
      "source": [
        "pdf.groupby(['especie','sexo']).valor_renda.sum().unstack().plot.barh(figsize=(8,8))"
      ],
      "execution_count": 53,
      "outputs": [
        {
          "output_type": "execute_result",
          "data": {
            "text/plain": [
              "<matplotlib.axes._subplots.AxesSubplot at 0x7f417b689e10>"
            ]
          },
          "metadata": {},
          "execution_count": 53
        },
        {
          "output_type": "display_data",
          "data": {
            "text/plain": [
              "<Figure size 576x576 with 1 Axes>"
            ],
            "image/png": "[encoded data removed]"
          },
          "metadata": {
            "needs_background": "light"
          }
        }
      ]
    },
    {
      "cell_type": "code",
      "metadata": {
        "colab": {
          "base_uri": "https://localhost:8080/",
          "height": 388
        },
        "id": "C_zO-sP5TDkF",
        "outputId": "f9bd3b45-c60c-463d-af13-8ed5267ca679"
      },
      "source": [
        "pdf[['idade_conc','valor_renda']].hist(figsize=(10,5))"
      ],
      "execution_count": 54,
      "outputs": [
        {
          "output_type": "execute_result",
          "data": {
            "text/plain": [
              "array([[<matplotlib.axes._subplots.AxesSubplot object at 0x7f4179f5e790>,\n",
              "        <matplotlib.axes._subplots.AxesSubplot object at 0x7f4179f36c90>]],\n",
              "      dtype=object)"
            ]
          },
          "metadata": {},
          "execution_count": 54
        },
        {
          "output_type": "display_data",
          "data": {
            "text/plain": [
              "<Figure size 720x360 with 2 Axes>"
            ],
            "image/png": "[encoded data removed]"
          },
          "metadata": {
            "needs_background": "light"
          }
        }
      ]
    },
    {
      "cell_type": "code",
      "metadata": {
        "id": "ywZsB0nbSDOf"
      },
      "source": [
        ""
      ],
      "execution_count": null,
      "outputs": []
    }
  ]
}